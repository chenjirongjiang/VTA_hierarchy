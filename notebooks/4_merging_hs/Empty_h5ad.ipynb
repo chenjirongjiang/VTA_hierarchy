{
 "cells": [
  {
   "cell_type": "markdown",
   "id": "747237d5",
   "metadata": {},
   "source": [
    "# Empyting H5AD files\n",
    "Annotation from Siletti et al. can be found in their h5ad files. These files are very large and cause the jupyter notebook to crash when loading the newly aligned count tables. To circumvent this, we empty the adata.X."
   ]
  },
  {
   "cell_type": "code",
   "execution_count": 2,
   "id": "3409277f",
   "metadata": {},
   "outputs": [],
   "source": [
    "import scanpy as sc"
   ]
  },
  {
   "cell_type": "code",
   "execution_count": 3,
   "id": "b0dbb3c0",
   "metadata": {},
   "outputs": [
    {
     "name": "stdout",
     "output_type": "stream",
     "text": [
      "nonneuron_adata is loaded\n"
     ]
    }
   ],
   "source": [
    "neuron_adata= sc.read_h5ad('/home/hers_basak/jjiang/jack/outputs/count_files/homo_sap/siletti_2022/nonneuron.h5ad')\n",
    "neuron_adata.var_names_make_unique()\n",
    "print(\"nonneuron_adata is loaded\")\n",
    "\n",
    "neuron_adata.X=None\n",
    "\n",
    "neuron_adata.write('/home/hers_basak/jjiang/jack/outputs/count_files/homo_sap/siletti_2022/filtered_nonneurons.h5ad')"
   ]
  },
  {
   "cell_type": "code",
   "execution_count": null,
   "id": "f4719669",
   "metadata": {},
   "outputs": [],
   "source": [
    "neuron_adata= sc.read_h5ad('/home/hers_basak/jjiang/jack/outputs/count_files/homo_sap/siletti_2022/neurons.h5ad')\n",
    "neuron_adata.var_names_make_unique()\n",
    "print(\"neuron_adata is loaded\")\n",
    "\n",
    "neuron_adata.X=None\n"
   ]
  },
  {
   "cell_type": "code",
   "execution_count": null,
   "id": "5e0196be",
   "metadata": {},
   "outputs": [],
   "source": [
    "\n",
    "neuron_adata.write('/home/hers_basak/jjiang/jack/outputs/count_files/homo_sap/siletti_2022/filtered_neurons.h5ad')"
   ]
  },
  {
   "cell_type": "code",
   "execution_count": null,
   "id": "9147685d",
   "metadata": {},
   "outputs": [],
   "source": []
  }
 ],
 "metadata": {
  "kernelspec": {
   "display_name": "Python 3 (ipykernel)",
   "language": "python",
   "name": "python3"
  },
  "language_info": {
   "codemirror_mode": {
    "name": "ipython",
    "version": 3
   },
   "file_extension": ".py",
   "mimetype": "text/x-python",
   "name": "python",
   "nbconvert_exporter": "python",
   "pygments_lexer": "ipython3",
   "version": "3.12.1"
  }
 },
 "nbformat": 4,
 "nbformat_minor": 5
}
