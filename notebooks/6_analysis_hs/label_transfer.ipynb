{
 "cells": [
  {
   "cell_type": "markdown",
   "id": "d441ca6b",
   "metadata": {},
   "source": [
    "# Label Transfer\n",
    "In this Notebook a NN model is used to classify unannoted cells and reclassify cells whose transcriptomic profile changed."
   ]
  },
  {
   "cell_type": "code",
   "execution_count": 1,
   "id": "10f3ca1f",
   "metadata": {},
   "outputs": [
    {
     "name": "stdout",
     "output_type": "stream",
     "text": [
      "/home/hers_basak/jjiang/jack/miniconda/envs/scarches2/bin/python\n",
      "3.9.18 (main, Sep 11 2023, 13:41:44) \n",
      "[GCC 11.2.0]\n",
      "sys.version_info(major=3, minor=9, micro=18, releaselevel='final', serial=0)\n"
     ]
    }
   ],
   "source": [
    "import sys\n",
    "print(sys.executable)\n",
    "print(sys.version)\n",
    "print(sys.version_info)\n"
   ]
  },
  {
   "cell_type": "code",
   "execution_count": 2,
   "id": "19b2c9db",
   "metadata": {},
   "outputs": [
    {
     "data": {
      "text/html": [
       "<style>.container { width:90% !important; }</style>"
      ],
      "text/plain": [
       "<IPython.core.display.HTML object>"
      ]
     },
     "metadata": {},
     "output_type": "display_data"
    },
    {
     "name": "stderr",
     "output_type": "stream",
     "text": [
      "WARNING:root:In order to use the mouse gastrulation seqFISH datsets, please install squidpy (see https://github.com/scverse/squidpy).\n",
      "/home/hers_basak/jjiang/jack/miniconda/envs/scarches2/lib/python3.9/site-packages/scvi/_settings.py:63: UserWarning: Since v1.0.0, scvi-tools no longer uses a random seed by default. Run `scvi.settings.seed = 0` to reproduce results from previous versions.\n",
      "  self.seed = seed\n",
      "/home/hers_basak/jjiang/jack/miniconda/envs/scarches2/lib/python3.9/site-packages/scvi/_settings.py:70: UserWarning: Setting `dl_pin_memory_gpu_training` is deprecated in v1.0 and will be removed in v1.1. Please pass in `pin_memory` to the data loaders instead.\n",
      "  self.dl_pin_memory_gpu_training = (\n",
      "/home/hers_basak/jjiang/jack/miniconda/envs/scarches2/lib/python3.9/site-packages/tqdm/auto.py:21: TqdmWarning: IProgress not found. Please update jupyter and ipywidgets. See https://ipywidgets.readthedocs.io/en/stable/user_install.html\n",
      "  from .autonotebook import tqdm as notebook_tqdm\n",
      "WARNING:root:In order to use sagenet models, please install pytorch geometric (see https://pytorch-geometric.readthedocs.io) and \n",
      " captum (see https://github.com/pytorch/captum).\n",
      "WARNING:root:mvTCR is not installed. To use mvTCR models, please install it first using \"pip install mvtcr\"\n",
      "WARNING:root:multigrate is not installed. To use multigrate models, please install it first using \"pip install multigrate\".\n"
     ]
    }
   ],
   "source": [
    "from IPython.display import display, HTML\n",
    "display(HTML(\"<style>.container { width:90% !important; }</style>\"))#embed HTML within IPython notebook and make containers 90% of screen\n",
    "import scanpy as sc\n",
    "import torch\n",
    "import scarches as sca\n",
    "from scarches.dataset.trvae.data_handling import remove_sparsity\n",
    "import matplotlib.pyplot as plt\n",
    "import numpy as np\n",
    "import gdown\n",
    "import copy as cp\n",
    "import seaborn as sns\n",
    "import os\n",
    "import warnings\n",
    "warnings.simplefilter(action='ignore', category=FutureWarning)\n",
    "warnings.simplefilter(action='ignore', category=UserWarning)\n",
    "\n",
    "%matplotlib inline\n",
    "#scvi.settings.seed = 0\n",
    "sc.settings.verbosity = 0             # verbosity: errors (0), warnings (1), info (2), hints (3)\n",
    "sc.settings.set_figure_params(dpi=80, facecolor='white') #figure resolution and background color\n"
   ]
  },
  {
   "cell_type": "code",
   "execution_count": 3,
   "id": "4a92db94",
   "metadata": {},
   "outputs": [],
   "source": [
    "sc.settings.set_figure_params(dpi=200, frameon=False)\n",
    "sc.set_figure_params(dpi=200)\n",
    "sc.set_figure_params(figsize=(4, 4))\n",
    "torch.set_printoptions(precision=3, sci_mode=False, edgeitems=7)\n",
    "#To make reproducible plots\n",
    "np.random.seed(41)"
   ]
  },
  {
   "cell_type": "code",
   "execution_count": 4,
   "id": "2a4c2c3d",
   "metadata": {},
   "outputs": [],
   "source": [
    "#set data path\n",
    "os.chdir('/home/hers_basak/jjiang/jack/outputs/deliverables/5_integration/')\n",
    "sc.settings.figdir = '/home/hers_basak/jjiang/jack/outputs/deliverables/5_integration/data/scarches/'\n",
    "np.random.seed(41)"
   ]
  },
  {
   "cell_type": "code",
   "execution_count": null,
   "id": "c6e8b58e",
   "metadata": {},
   "outputs": [],
   "source": [
    "path='/home/hers_basak/jjiang/jack/outputs/deliverables/5_integration/data/scvi/models/'\n",
    "files=[f'{path}scvi_model_integration_l50/adata_labels.h5ad',f'{path}scvi_model_final/adata_labekl.h5ad']\n",
    "names=['labels','final']\n",
    "object_names_merged=list()\n",
    "numberobj = len(files)\n",
    "\n",
    "for i in range(numberobj):\n",
    "    object_names_merged.append(\"adata\"+\"_\"+names[i])\n",
    "    locals()[object_names_merged[i]] = sc.read_h5ad(files[i]) \n",
    "    print(object_names_merged[i],' is loaded')"
   ]
  },
  {
   "cell_type": "code",
   "execution_count": 13,
   "id": "c5041a5a",
   "metadata": {
    "scrolled": true
   },
   "outputs": [
    {
     "data": {
      "text/plain": [
       "AnnData object with n_obs × n_vars = 396794 × 2000\n",
       "    obs: 'species', 'gender', 'age', 'instrument', 'technology', 'atlas', 'sample', 'batch_1', 'doublet_score', 'predicted_doublet', 'n_genes_by_counts', 'log1p_n_genes_by_counts', 'total_counts', 'log1p_total_counts', 'total_counts_mt', 'log1p_total_counts_mt', 'pct_counts_mt', 'total_counts_ribo', 'log1p_total_counts_ribo', 'pct_counts_ribo', 'n_genes', 'total_counts_mito', 'total_counts_norm', 'original_Library', 'original_Brain_Region', 'original_Level_1_cell_type', 'original_Level_2_cell_type', 'original_cellclass_lvl1', 'original_subclass_lvl3_1', 'original_cellclass_lvl1_n', 'original_lineage', 'original_subclass_lvl2', 'original_celltype_lvl3', 'donor', 'original_supercluster_term', 'original_cluster_id', 'original_subcluster_id', 'original_celltype', 'cell_type_lvl1', 'cell_type_lvl2', 'cell_type_lvl3', '_scvi_batch', '_scvi_labels', 'leiden', 'cell_type_low_res', 'cell_type_high_res', 'harmonized_cell_type', 'harmonized_cell_type_unfiltered_scvi', 'harmonized_cell_type_uncert_scvi', 'harmonized_cell_type_filtered_02_scvi', 'harmonized_cell_type_unfiltered_harmony', 'harmonized_cell_type_uncert_harmony', 'harmonized_cell_type_filtered_02_harmony', 'harmonized_cell_type_unfiltered_scanorama', 'harmonized_cell_type_uncert_scanorama', 'harmonized_cell_type_filtered_02_scanorama', 'cell_type_lowest_res', 'cell_type_med_res', 'harmonized_cell_type_lowest_res'\n",
       "    var: 'highly_variable', 'means', 'dispersions', 'dispersions_norm', 'highly_variable_nbatches', 'highly_variable_intersection'\n",
       "    uns: '_scvi_manager_uuid', '_scvi_uuid', 'atlas_colors', 'harmonized_cell_type_filtered_02_harmony_colors', 'harmonized_cell_type_filtered_02_scanorama_colors', 'harmonized_cell_type_filtered_02_scvi_colors', 'hvg', 'leiden', 'log1p', 'neighbors', 'umap'\n",
       "    obsm: 'X_pca', 'X_pca_harmony', 'X_scVI', 'X_scVI_MDE', 'X_scanorama', 'X_umap'\n",
       "    layers: 'counts'\n",
       "    obsp: 'connectivities', 'distances'"
      ]
     },
     "execution_count": 13,
     "metadata": {},
     "output_type": "execute_result"
    }
   ],
   "source": [
    "adata_final"
   ]
  },
  {
   "cell_type": "markdown",
   "id": "475c79fc",
   "metadata": {},
   "source": [
    "# K-nn prediction on lowest resolution and label transfer\n",
    "Need all annotated cells as training data and the whole dataset to be reclassified. (This does not have to be done this way)"
   ]
  },
  {
   "cell_type": "code",
   "execution_count": 23,
   "id": "84232518",
   "metadata": {},
   "outputs": [],
   "source": [
    "adata_final=sc.read_h5ad('/home/hers_basak/jjiang/jack/outputs/deliverables/5_integration/data/scvi/models/scvi_model_final/adata_known_harmonized.h5ad')"
   ]
  },
  {
   "cell_type": "code",
   "execution_count": 18,
   "id": "80b933a7",
   "metadata": {},
   "outputs": [],
   "source": [
    "adata_combined=sc.read_h5ad('/home/hers_basak/jjiang/jack/outputs/deliverables/5_integration/data/scvi/models/scvi_model_final/adata_latent_all.h5ad')"
   ]
  },
  {
   "cell_type": "markdown",
   "id": "13af7848",
   "metadata": {},
   "source": [
    "Split data between labelled for training and unknown that needs to be predicted."
   ]
  },
  {
   "cell_type": "code",
   "execution_count": 51,
   "id": "3e1a70c5",
   "metadata": {},
   "outputs": [],
   "source": [
    "for i in ['harmonized_cell_type_unfiltered_scvi',\n",
    "       'harmonized_cell_type_uncert_scvi',\n",
    "       'harmonized_cell_type_filtered_02_scvi',\n",
    "       'harmonized_cell_type_unfiltered_harmony',\n",
    "       'harmonized_cell_type_uncert_harmony',\n",
    "       'harmonized_cell_type_filtered_02_harmony',\n",
    "       'harmonized_cell_type_unfiltered_scanorama',\n",
    "       'harmonized_cell_type_uncert_scanorama',\n",
    "       'harmonized_cell_type_filtered_02_scanorama'\n",
    "         ]:\n",
    "    del adata_combined.obs[i]\n",
    "    del adata_final.obs[i]"
   ]
  },
  {
   "cell_type": "code",
   "execution_count": 24,
   "id": "afbabe58",
   "metadata": {},
   "outputs": [],
   "source": [
    "\n",
    "#adata_ref=adata_final.copy()\n",
    "adata_query=adata_combined[~adata_combined.obs_names.isin(adata_final.obs_names)]"
   ]
  },
  {
   "cell_type": "code",
   "execution_count": 25,
   "id": "beb5af17",
   "metadata": {},
   "outputs": [
    {
     "data": {
      "text/plain": [
       "View of AnnData object with n_obs × n_vars = 522220 × 90\n",
       "    obs: 'cell_type_lvl1', 'cell_type_lvl2', 'cell_type_lvl3', 'sample', 'atlas', 'species', 'gender', 'age', 'instrument', 'technology', 'donor', 'cell_type_lowest_res', 'cell_type_low_res', 'cell_type_med_res', 'cell_type_high_res', 'harmonized_cell_type_lowest_res'"
      ]
     },
     "execution_count": 25,
     "metadata": {},
     "output_type": "execute_result"
    }
   ],
   "source": [
    "adata_query"
   ]
  },
  {
   "cell_type": "code",
   "execution_count": 1,
   "id": "f4060b1c",
   "metadata": {},
   "outputs": [
    {
     "ename": "NameError",
     "evalue": "name 'adata_ref' is not defined",
     "output_type": "error",
     "traceback": [
      "\u001b[0;31m---------------------------------------------------------------------------\u001b[0m",
      "\u001b[0;31mNameError\u001b[0m                                 Traceback (most recent call last)",
      "Cell \u001b[0;32mIn[1], line 1\u001b[0m\n\u001b[0;32m----> 1\u001b[0m a \u001b[38;5;241m=\u001b[39m \u001b[38;5;28mset\u001b[39m(\u001b[43madata_ref\u001b[49m\u001b[38;5;241m.\u001b[39mobs[\u001b[38;5;124m\"\u001b[39m\u001b[38;5;124mcell_type_lowest_res\u001b[39m\u001b[38;5;124m\"\u001b[39m]\u001b[38;5;241m.\u001b[39mtolist())\n\u001b[1;32m      2\u001b[0m cell_type_low_res_batch\u001b[38;5;241m=\u001b[39madata_ref\u001b[38;5;241m.\u001b[39mobs[\u001b[38;5;124m\"\u001b[39m\u001b[38;5;124mcell_type_lowest_res\u001b[39m\u001b[38;5;124m\"\u001b[39m]\u001b[38;5;241m.\u001b[39mtolist()\n\u001b[1;32m      3\u001b[0m \u001b[38;5;28;01mfor\u001b[39;00m i \u001b[38;5;129;01min\u001b[39;00m a:\n",
      "\u001b[0;31mNameError\u001b[0m: name 'adata_ref' is not defined"
     ]
    }
   ],
   "source": [
    "a = set(adata_ref.obs[\"cell_type_lowest_res\"].tolist())\n",
    "cell_type_low_res_batch=adata_ref.obs[\"cell_type_lowest_res\"].tolist()\n",
    "for i in a:\n",
    "    c=0\n",
    "    for j in cell_type_low_res_batch:\n",
    "        if j == i:\n",
    "            c+=1\n",
    "    print(f'{i}: {c}')\n",
    "    "
   ]
  },
  {
   "cell_type": "code",
   "execution_count": 24,
   "id": "a622c33b",
   "metadata": {
    "scrolled": true
   },
   "outputs": [
    {
     "data": {
      "text/plain": [
       "{'Astrocytes-smajic',\n",
       " 'ENDO-welch',\n",
       " 'EPEN-siletti',\n",
       " 'Endothelial cells-smajic',\n",
       " 'Endothelial-agarwal',\n",
       " 'MISC-siletti',\n",
       " 'Microglia-smajic',\n",
       " 'NEUR-siletti',\n",
       " 'OLIGO-siletti',\n",
       " 'OPC-siletti',\n",
       " 'Pericytes-smajic'}"
      ]
     },
     "execution_count": 24,
     "metadata": {},
     "output_type": "execute_result"
    }
   ],
   "source": [
    "set(adata_ref.obs['harmonized_cell_type_lowest_res'].tolist())"
   ]
  },
  {
   "cell_type": "code",
   "execution_count": 13,
   "id": "6a62cf5f",
   "metadata": {
    "scrolled": true
   },
   "outputs": [
    {
     "name": "stdout",
     "output_type": "stream",
     "text": [
      "Weighted KNN with n_neighbors = 30 ... finished!\n",
      "Percentage of unknown for scvi, with uncertainty_threshold=0.2:\n",
      "Filtered: 2.77% of previously unknown\n"
     ]
    }
   ],
   "source": [
    "knn_transformer_scvi = sca.utils.knn.weighted_knn_trainer(\n",
    "    train_adata=adata_ref,\n",
    "    train_adata_emb=\"X_scVI\",  # location of our joint embedding\n",
    "    n_neighbors=30,\n",
    ")\n",
    "labels_scvi, uncert_scvi = sca.utils.knn.weighted_knn_transfer(\n",
    "    query_adata=adata_query,\n",
    "    query_adata_emb=\"X_scVI\",  # location of our embedding, query_adata.X in this case\n",
    "    label_keys=\"harmonized_cell_type_lowest_res\",  # (start of) obs column name(s) for which to transfer labels\n",
    "    knn_model=knn_transformer_scvi,\n",
    "    ref_adata_obs=adata_ref.obs,\n",
    ")\n",
    "uncertainty_threshold = 0.2\n",
    "labels_scvi.rename(\n",
    "    columns={\n",
    "        \"harmonized_cell_type_lowest_res\": \"harmonized_lowest_unfiltered_scvi\"\n",
    "    },\n",
    "    inplace=True,\n",
    ")\n",
    "uncert_scvi.rename(\n",
    "    columns={\n",
    "        \"harmonized_cell_type_lowest_res\": \"harmonized_lowest_uncert_scvi\"\n",
    "    },\n",
    "    inplace=True,\n",
    ")\n",
    "adata_combined.obs = adata_combined.obs.join(labels_scvi)\n",
    "adata_combined.obs = adata_combined.obs.join(uncert_scvi)\n",
    "\n",
    "adata_combined.obs['harmonized_lowest_filtered_02_scvi'] = adata_combined.obs[\n",
    "    \"harmonized_lowest_unfiltered_scvi\"\n",
    "].mask(\n",
    "    adata_combined.obs[\"harmonized_lowest_uncert_scvi\"] > uncertainty_threshold,\n",
    "    \"Unknown\",\n",
    ")\n",
    "print(\n",
    "    f\"Percentage of unknown for scvi, with uncertainty_threshold={uncertainty_threshold}:\"\n",
    ")\n",
    "print(\n",
    "    f\"Filtered: {np.round(sum(adata_combined.obs['harmonized_lowest_filtered_02_scvi'] =='Unknown')/adata_query.n_obs*100,2)}% of previously unknown\"\n",
    ")\n"
   ]
  },
  {
   "cell_type": "code",
   "execution_count": 15,
   "id": "95169073",
   "metadata": {
    "scrolled": true
   },
   "outputs": [
    {
     "data": {
      "text/plain": [
       "N3_CTGTGCTTCAGAAATG                      Unknown\n",
       "N3_GCTCCTACAGATCCAT                      Unknown\n",
       "N3_TCAGCAATCGGTCCGA                      Unknown\n",
       "N3_TGACTAGTCACAGGCC                      Unknown\n",
       "N3_TACGGATTCTGTACGA                      Unknown\n",
       "                                  ...           \n",
       "TGGGAGATCACGGTCG-1-1    Endothelial cells-smajic\n",
       "TGTTGGACATCTTCGC-1                 OLIGO-siletti\n",
       "TTACGTTGTCAACCTA-1              Microglia-smajic\n",
       "TGTACAGAGGTGCGAT-1-1                NEUR-siletti\n",
       "TTGCGTCGTCAAGCCC-1                 OLIGO-siletti\n",
       "Name: harmonized_lowest_filtered_02_scvi, Length: 522220, dtype: object"
      ]
     },
     "execution_count": 15,
     "metadata": {},
     "output_type": "execute_result"
    }
   ],
   "source": [
    "adata_combined.obs['harmonized_lowest_filtered_02_scvi']"
   ]
  },
  {
   "cell_type": "code",
   "execution_count": 20,
   "id": "ccf40290",
   "metadata": {},
   "outputs": [
    {
     "name": "stdout",
     "output_type": "stream",
     "text": [
      "OPC-siletti: 30575\n",
      "EPEN-siletti: 563\n",
      "Astrocytes-smajic: 39179\n",
      "NEUR-siletti: 157244\n",
      "Unknown: 14457\n",
      "OLIGO-siletti: 230390\n",
      "Endothelial cells-smajic: 1400\n",
      "Pericytes-smajic: 468\n",
      "Microglia-smajic: 41173\n",
      "ENDO-welch: 4394\n",
      "MISC-siletti: 2377\n"
     ]
    }
   ],
   "source": [
    "a = set(adata_combined.obs['harmonized_lowest_filtered_02_scvi'].tolist())\n",
    "cell_type_low_res_batch=adata_combined.obs['harmonized_lowest_filtered_02_scvi'].tolist()\n",
    "for i in a:\n",
    "    c=0\n",
    "    for j in cell_type_low_res_batch:\n",
    "        if j == i:\n",
    "            c+=1\n",
    "    print(f'{i}: {c}')\n",
    "    "
   ]
  },
  {
   "cell_type": "code",
   "execution_count": 26,
   "id": "796dbcc2",
   "metadata": {},
   "outputs": [],
   "source": [
    "adata_combined.obs=adata_combined.obs.astype(str) #uncert are not str, doesnt allow me to save h5ad"
   ]
  },
  {
   "cell_type": "code",
   "execution_count": 21,
   "id": "40146990",
   "metadata": {},
   "outputs": [],
   "source": [
    "adata_filtered=adata_combined[adata_combined.obs['harmonized_lowest_filtered_02_scvi']!='Unknown']"
   ]
  },
  {
   "cell_type": "code",
   "execution_count": 42,
   "id": "8cb2e6fc",
   "metadata": {
    "scrolled": true
   },
   "outputs": [
    {
     "data": {
      "text/plain": [
       "View of AnnData object with n_obs × n_vars = 510294 × 2000\n",
       "    obs: 'species', 'gender', 'age', 'instrument', 'technology', 'atlas', 'sample', 'batch_1', 'doublet_score', 'predicted_doublet', 'n_genes_by_counts', 'log1p_n_genes_by_counts', 'total_counts', 'log1p_total_counts', 'total_counts_mt', 'log1p_total_counts_mt', 'pct_counts_mt', 'total_counts_ribo', 'log1p_total_counts_ribo', 'pct_counts_ribo', 'n_genes', 'total_counts_mito', 'total_counts_norm', 'original_Library', 'original_Brain_Region', 'original_Level_1_cell_type', 'original_Level_2_cell_type', 'original_cellclass_lvl1', 'original_subclass_lvl3_1', 'original_cellclass_lvl1_n', 'original_lineage', 'original_subclass_lvl2', 'original_celltype_lvl3', 'donor', 'original_supercluster_term', 'original_cluster_id', 'original_subcluster_id', 'original_celltype', 'cell_type_lvl1', 'cell_type_lvl2', 'cell_type_lvl3', '_scvi_batch', '_scvi_labels', 'leiden', 'cell_type_low_res', 'cell_type_high_res', 'harmonized_cell_type', 'harmonized_lowest_unfiltered_scvi', 'harmonized_lowest_uncert_scvi', 'harmonized_lowest_filtered_02_scvi', 'harmonized_cell_type_filtered_02_scvi'\n",
       "    var: 'highly_variable', 'means', 'dispersions', 'dispersions_norm', 'highly_variable_nbatches', 'highly_variable_intersection'\n",
       "    uns: '_scvi_manager_uuid', '_scvi_uuid', 'atlas_colors', 'harmonized_cell_type_filtered_02_harmony_colors', 'harmonized_cell_type_filtered_02_scanorama_colors', 'hvg', 'leiden', 'log1p', 'neighbors', 'umap'\n",
       "    obsm: 'X_pca', 'X_pca_harmony', 'X_scVI', 'X_scVI_MDE', 'X_scanorama', 'X_umap'\n",
       "    layers: 'counts'\n",
       "    obsp: 'connectivities', 'distances'"
      ]
     },
     "execution_count": 42,
     "metadata": {},
     "output_type": "execute_result"
    }
   ],
   "source": [
    "adata_filtered"
   ]
  },
  {
   "cell_type": "code",
   "execution_count": 46,
   "id": "99230da0",
   "metadata": {},
   "outputs": [
    {
     "data": {
      "text/plain": [
       "{'',\n",
       " 'Astrocyte',\n",
       " 'Endothelial',\n",
       " 'Microglia',\n",
       " 'Neuron',\n",
       " 'None',\n",
       " 'OPC',\n",
       " 'Oligodendrocyte',\n",
       " 'PVM',\n",
       " 'Perivascular',\n",
       " 'T-Cell'}"
      ]
     },
     "execution_count": 46,
     "metadata": {},
     "output_type": "execute_result"
    }
   ],
   "source": [
    "set(adata_combined.obs['original_cellclass_lvl1'].tolist())"
   ]
  },
  {
   "cell_type": "code",
   "execution_count": 47,
   "id": "f7726169",
   "metadata": {},
   "outputs": [
    {
     "data": {
      "text/plain": [
       "View of AnnData object with n_obs × n_vars = 1483 × 2000\n",
       "    obs: 'species', 'gender', 'age', 'instrument', 'technology', 'atlas', 'sample', 'batch_1', 'doublet_score', 'predicted_doublet', 'n_genes_by_counts', 'log1p_n_genes_by_counts', 'total_counts', 'log1p_total_counts', 'total_counts_mt', 'log1p_total_counts_mt', 'pct_counts_mt', 'total_counts_ribo', 'log1p_total_counts_ribo', 'pct_counts_ribo', 'n_genes', 'total_counts_mito', 'total_counts_norm', 'original_Library', 'original_Brain_Region', 'original_Level_1_cell_type', 'original_Level_2_cell_type', 'original_cellclass_lvl1', 'original_subclass_lvl3_1', 'original_cellclass_lvl1_n', 'original_lineage', 'original_subclass_lvl2', 'original_celltype_lvl3', 'donor', 'original_supercluster_term', 'original_cluster_id', 'original_subcluster_id', 'original_celltype', 'cell_type_lvl1', 'cell_type_lvl2', 'cell_type_lvl3', '_scvi_batch', '_scvi_labels', 'leiden', 'cell_type_low_res', 'cell_type_high_res', 'harmonized_cell_type', 'harmonized_lowest_unfiltered_scvi', 'harmonized_lowest_uncert_scvi', 'harmonized_lowest_filtered_02_scvi', 'harmonized_cell_type_filtered_02_scvi'\n",
       "    var: 'highly_variable', 'means', 'dispersions', 'dispersions_norm', 'highly_variable_nbatches', 'highly_variable_intersection'\n",
       "    uns: '_scvi_manager_uuid', '_scvi_uuid', 'atlas_colors', 'harmonized_cell_type_filtered_02_harmony_colors', 'harmonized_cell_type_filtered_02_scanorama_colors', 'hvg', 'leiden', 'log1p', 'neighbors', 'umap'\n",
       "    obsm: 'X_pca', 'X_pca_harmony', 'X_scVI', 'X_scVI_MDE', 'X_scanorama', 'X_umap'\n",
       "    layers: 'counts'\n",
       "    obsp: 'connectivities', 'distances'"
      ]
     },
     "execution_count": 47,
     "metadata": {},
     "output_type": "execute_result"
    }
   ],
   "source": [
    "adata_combined[adata_combined.obs['original_cellclass_lvl1']=='Neuron']"
   ]
  },
  {
   "cell_type": "code",
   "execution_count": 24,
   "id": "0243945d",
   "metadata": {},
   "outputs": [],
   "source": [
    "adata_combined.write('/home/hers_basak/jjiang/jack/outputs/deliverables/5_integration/data/scvi/models/scvi_model_final/adata_predicted_lowest.h5ad')"
   ]
  },
  {
   "cell_type": "code",
   "execution_count": null,
   "id": "31bad244",
   "metadata": {},
   "outputs": [],
   "source": []
  }
 ],
 "metadata": {
  "kernelspec": {
   "display_name": "Python 3 (ipykernel)",
   "language": "python",
   "name": "python3"
  },
  "language_info": {
   "codemirror_mode": {
    "name": "ipython",
    "version": 3
   },
   "file_extension": ".py",
   "mimetype": "text/x-python",
   "name": "python",
   "nbconvert_exporter": "python",
   "pygments_lexer": "ipython3",
   "version": "3.12.1"
  }
 },
 "nbformat": 4,
 "nbformat_minor": 5
}
