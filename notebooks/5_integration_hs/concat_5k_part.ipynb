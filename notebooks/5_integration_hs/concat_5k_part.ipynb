{
 "cells": [
  {
   "cell_type": "markdown",
   "id": "fc038ea1-6a8b-492d-b44f-9e098f2a7a3e",
   "metadata": {},
   "source": [
    "## Whole dataset 5k genes\n",
    "For the integration we needed the top 2k hvg, this filters out lots of markers that might be of interest, so we keep here atleast the top 5k. (can also keep all genes, just takes more memory)"
   ]
  },
  {
   "cell_type": "code",
   "execution_count": 1,
   "id": "fbccb5fe",
   "metadata": {},
   "outputs": [
    {
     "name": "stdout",
     "output_type": "stream",
     "text": [
      "/home/hers_basak/jjiang/jack/miniconda/envs/scarches2/bin/python\n",
      "3.9.18 (main, Sep 11 2023, 13:41:44) \n",
      "[GCC 11.2.0]\n",
      "sys.version_info(major=3, minor=9, micro=18, releaselevel='final', serial=0)\n"
     ]
    }
   ],
   "source": [
    "import sys\n",
    "print(sys.executable)\n",
    "print(sys.version)\n",
    "print(sys.version_info)"
   ]
  },
  {
   "cell_type": "code",
   "execution_count": 2,
   "id": "ee9de03a",
   "metadata": {},
   "outputs": [
    {
     "data": {
      "text/html": [
       "<style>.container { width:90% !important; }</style>"
      ],
      "text/plain": [
       "<IPython.core.display.HTML object>"
      ]
     },
     "metadata": {},
     "output_type": "display_data"
    }
   ],
   "source": [
    "from IPython.display import display, HTML\n",
    "display(HTML(\"<style>.container { width:90% !important; }</style>\"))#embed HTML within IPython notebook and make containers 90% of screen\n",
    "import numpy as np\n",
    "import pandas as pd\n",
    "import anndata as ad\n",
    "import scanpy as sc\n",
    "import seaborn as sns\n",
    "import os\n",
    "import matplotlib.pyplot as plt\n",
    "#import scvi\n",
    "import torch\n",
    "\n",
    "%matplotlib inline\n",
    "sc.settings.verbosity = 0             # verbosity: errors (0), warnings (1), info (2), hints (3)\n",
    "sc.settings.set_figure_params(dpi=80, facecolor='white') #figure resolution and background color\n",
    "\n",
    "#To make reproducible plots\n",
    "np.random.seed(41)\n",
    "# This is used\n",
    "# os.path.join('data/'+object_names[i][6:10]+'_preprocessed.h5ad')\n",
    "#sc.logging.print_versions()"
   ]
  },
  {
   "cell_type": "code",
   "execution_count": 3,
   "id": "40e2c684",
   "metadata": {},
   "outputs": [],
   "source": [
    "#set data path\n",
    "os.chdir('/home/hers_basak/jjiang/jack/outputs/deliverables/5_integration/benchmark/')"
   ]
  },
  {
   "cell_type": "markdown",
   "id": "f6f66edd-0b89-4274-9a09-94e69f715216",
   "metadata": {},
   "source": [
    "Need 2 files:\n",
    "- Base: .h5ad  file with all the genes/ the amount of genes you want.\n",
    "- Annotation: .h5ad file with annotation and integration latent space.\n",
    "\n",
    "We will be adding the annotations from the integrated to the base."
   ]
  },
  {
   "cell_type": "code",
   "execution_count": 31,
   "id": "0c419e4a",
   "metadata": {},
   "outputs": [],
   "source": [
    "base= sc.read_h5ad('/home/hers_basak/jjiang/jack/outputs/deliverables/5_integration/data/complete_base.h5ad')"
   ]
  },
  {
   "cell_type": "code",
   "execution_count": 48,
   "id": "8a9bb837",
   "metadata": {},
   "outputs": [],
   "source": [
    "annotation=sc.read_h5ad('/home/hers_basak/jjiang/jack/outputs/deliverables/5_integration/data/scvi/models/scvi_model_final/adata_predicted_lowest_filtered.h5ad')"
   ]
  },
  {
   "cell_type": "code",
   "execution_count": 50,
   "id": "0610202e",
   "metadata": {},
   "outputs": [
    {
     "data": {
      "text/plain": [
       "AnnData object with n_obs × n_vars = 522220 × 2000\n",
       "    obs: 'species', 'gender', 'age', 'instrument', 'technology', 'atlas', 'sample', 'batch_1', 'doublet_score', 'predicted_doublet', 'n_genes_by_counts', 'log1p_n_genes_by_counts', 'total_counts', 'log1p_total_counts', 'total_counts_mt', 'log1p_total_counts_mt', 'pct_counts_mt', 'total_counts_ribo', 'log1p_total_counts_ribo', 'pct_counts_ribo', 'n_genes', 'total_counts_mito', 'total_counts_norm', 'original_Library', 'original_Brain_Region', 'original_Level_1_cell_type', 'original_Level_2_cell_type', 'original_cellclass_lvl1', 'original_subclass_lvl3_1', 'original_cellclass_lvl1_n', 'original_lineage', 'original_subclass_lvl2', 'original_celltype_lvl3', 'donor', 'original_supercluster_term', 'original_cluster_id', 'original_subcluster_id', 'original_celltype', 'cell_type_lvl1', 'cell_type_lvl2', 'cell_type_lvl3', '_scvi_batch', '_scvi_labels', 'leiden', 'cell_type_low_res', 'cell_type_high_res', 'harmonized_cell_type', 'harmonized_cell_type_unfiltered_scvi', 'harmonized_cell_type_uncert_scvi', 'harmonized_cell_type_filtered_02_scvi', 'harmonized_cell_type_unfiltered_harmony', 'harmonized_cell_type_uncert_harmony', 'harmonized_cell_type_filtered_02_harmony', 'harmonized_cell_type_unfiltered_scanorama', 'harmonized_cell_type_uncert_scanorama', 'harmonized_cell_type_filtered_02_scanorama'\n",
       "    var: 'highly_variable', 'means', 'dispersions', 'dispersions_norm', 'highly_variable_nbatches', 'highly_variable_intersection'\n",
       "    uns: '_scvi_manager_uuid', '_scvi_uuid', 'atlas_colors', 'harmonized_cell_type_filtered_02_harmony_colors', 'harmonized_cell_type_filtered_02_scanorama_colors', 'harmonized_cell_type_filtered_02_scvi_colors', 'hvg', 'leiden', 'log1p', 'neighbors', 'umap'\n",
       "    obsm: 'X_pca', 'X_pca_harmony', 'X_scVI', 'X_scVI_MDE', 'X_scanorama', 'X_umap'\n",
       "    layers: 'counts'\n",
       "    obsp: 'connectivities', 'distances'"
      ]
     },
     "execution_count": 50,
     "metadata": {},
     "output_type": "execute_result"
    }
   ],
   "source": [
    "base"
   ]
  },
  {
   "cell_type": "code",
   "execution_count": 49,
   "id": "b8d03e6b",
   "metadata": {},
   "outputs": [
    {
     "data": {
      "text/plain": [
       "AnnData object with n_obs × n_vars = 507763 × 2000\n",
       "    obs: 'species', 'gender', 'age', 'instrument', 'technology', 'atlas', 'sample', 'batch_1', 'doublet_score', 'predicted_doublet', 'n_genes_by_counts', 'log1p_n_genes_by_counts', 'total_counts', 'log1p_total_counts', 'total_counts_mt', 'log1p_total_counts_mt', 'pct_counts_mt', 'total_counts_ribo', 'log1p_total_counts_ribo', 'pct_counts_ribo', 'n_genes', 'total_counts_mito', 'total_counts_norm', 'original_Library', 'original_Brain_Region', 'original_Level_1_cell_type', 'original_Level_2_cell_type', 'original_cellclass_lvl1', 'original_subclass_lvl3_1', 'original_cellclass_lvl1_n', 'original_lineage', 'original_subclass_lvl2', 'original_celltype_lvl3', 'donor', 'original_supercluster_term', 'original_cluster_id', 'original_subcluster_id', 'original_celltype', 'cell_type_lvl1', 'cell_type_lvl2', 'cell_type_lvl3', '_scvi_batch', '_scvi_labels', 'leiden', 'cell_type_low_res', 'cell_type_high_res', 'harmonized_cell_type', 'harmonized_lowest_unfiltered_scvi', 'harmonized_lowest_uncert_scvi', 'harmonized_lowest_filtered_02_scvi', 'cell_type_lowest_res', 'cell_type_med_res', 'harmonized_lowest', 'harmonized_lowest_predicted'\n",
       "    var: 'highly_variable', 'means', 'dispersions', 'dispersions_norm', 'highly_variable_nbatches', 'highly_variable_intersection'\n",
       "    uns: '_scvi_manager_uuid', '_scvi_uuid', 'atlas_colors', 'hvg', 'leiden', 'log1p', 'neighbors', 'umap'\n",
       "    obsm: 'X_pca', 'X_pca_harmony', 'X_scVI', 'X_scVI_MDE', 'X_scanorama', 'X_umap'\n",
       "    layers: 'counts'\n",
       "    obsp: 'connectivities', 'distances'"
      ]
     },
     "execution_count": 49,
     "metadata": {},
     "output_type": "execute_result"
    }
   ],
   "source": [
    "annotation"
   ]
  },
  {
   "cell_type": "markdown",
   "id": "3fe4d7bd-a99f-4805-bd1f-9f332be9e30c",
   "metadata": {},
   "source": [
    "The first problem: the annotation file labels are not harmonized."
   ]
  },
  {
   "cell_type": "code",
   "execution_count": null,
   "id": "3976ede3-a8af-4c4f-b62a-042bdfeaba72",
   "metadata": {},
   "outputs": [],
   "source": []
  },
  {
   "cell_type": "markdown",
   "id": "3e48499d-2562-4944-aa55-e9cfb99fab90",
   "metadata": {},
   "source": [
    "Second problem: the base file has too many observations that were filtered out later on. We need to filter out all cells that are not in the annotation file."
   ]
  },
  {
   "cell_type": "code",
   "execution_count": null,
   "id": "88af2625-40ac-454b-b141-e7a7180f1ec4",
   "metadata": {},
   "outputs": [],
   "source": [
    "base_filtered=base[base.obs_names.isin(annotation.obs_names)]"
   ]
  },
  {
   "cell_type": "markdown",
   "id": "349ddb1e-882a-4e9f-969d-17b4ba6dd5a6",
   "metadata": {},
   "source": [
    "Then we can transfer the predicted labels"
   ]
  },
  {
   "cell_type": "code",
   "execution_count": 62,
   "id": "bacb6883",
   "metadata": {},
   "outputs": [],
   "source": [
    "base_filtered.obs['harmonized_lowest_filtered_02_scvi']=annotation.obs['harmonized_lowest_filtered_02_scvi']"
   ]
  },
  {
   "cell_type": "code",
   "execution_count": 64,
   "id": "bc70c98b",
   "metadata": {
    "scrolled": true
   },
   "outputs": [
    {
     "data": {
      "text/plain": [
       "View of AnnData object with n_obs × n_vars = 507763 × 45433\n",
       "    obs: 'species', 'gender', 'age', 'instrument', 'technology', 'atlas', 'sample', 'batch_1', 'doublet_score', 'predicted_doublet', 'n_genes_by_counts', 'log1p_n_genes_by_counts', 'total_counts', 'log1p_total_counts', 'total_counts_mt', 'log1p_total_counts_mt', 'pct_counts_mt', 'total_counts_ribo', 'log1p_total_counts_ribo', 'pct_counts_ribo', 'n_genes', 'total_counts_mito', 'total_counts_norm', 'original_Library', 'original_Brain_Region', 'original_Level_1_cell_type', 'original_Level_2_cell_type', 'original_cellclass_lvl1', 'original_subclass_lvl3_1', 'original_cellclass_lvl1_n', 'original_lineage', 'original_subclass_lvl2', 'original_celltype_lvl3', 'donor', 'original_supercluster_term', 'original_cluster_id', 'original_subcluster_id', 'original_celltype', 'cell_type_lvl1', 'cell_type_lvl2', 'cell_type_lvl3', 'harmonized_lowest_filtered_02_scvi'\n",
       "    obsm: 'X_pca', 'X_pca_harmony', 'X_umap'"
      ]
     },
     "execution_count": 64,
     "metadata": {},
     "output_type": "execute_result"
    }
   ],
   "source": [
    "base"
   ]
  },
  {
   "cell_type": "markdown",
   "id": "b5b56c36-b31f-411b-920e-6fe8aa5a7cea",
   "metadata": {},
   "source": [
    "Or any other annotation that might be interesting."
   ]
  },
  {
   "cell_type": "code",
   "execution_count": 66,
   "id": "6424e5f0",
   "metadata": {},
   "outputs": [],
   "source": [
    "for i in ['cell_type_low_res', 'cell_type_high_res', 'cell_type_lowest_res', 'cell_type_med_res','harmonized_cell_type', 'harmonized_lowest_filtered_02_scvi',  'harmonized_lowest', 'harmonized_lowest_predicted']:\n",
    "    base.obs[i]=annotation.obs[i]"
   ]
  },
  {
   "cell_type": "code",
   "execution_count": 67,
   "id": "39586398",
   "metadata": {},
   "outputs": [],
   "source": [
    "base.obsm['X_scVI']=annotation.obsm['X_scVI']"
   ]
  },
  {
   "cell_type": "markdown",
   "id": "59ae7209-35fc-4b45-bd31-9f3546d01180",
   "metadata": {},
   "source": [
    "Depending on what you want to do, you can take the top N hvg."
   ]
  },
  {
   "cell_type": "code",
   "execution_count": 65,
   "id": "bde591f9",
   "metadata": {},
   "outputs": [
    {
     "name": "stderr",
     "output_type": "stream",
     "text": [
      "/home/hers_basak/jjiang/jack/miniconda/envs/scarches2/lib/python3.9/site-packages/scanpy/preprocessing/_highly_variable_genes.py:215: FutureWarning: The default of observed=False is deprecated and will be changed to True in a future version of pandas. Pass observed=False to retain current behavior or observed=True to adopt the future default and silence this warning.\n",
      "  disp_grouped = df.groupby('mean_bin')['dispersions']\n",
      "/home/hers_basak/jjiang/jack/miniconda/envs/scarches2/lib/python3.9/site-packages/scanpy/preprocessing/_highly_variable_genes.py:215: FutureWarning: The default of observed=False is deprecated and will be changed to True in a future version of pandas. Pass observed=False to retain current behavior or observed=True to adopt the future default and silence this warning.\n",
      "  disp_grouped = df.groupby('mean_bin')['dispersions']\n",
      "/home/hers_basak/jjiang/jack/miniconda/envs/scarches2/lib/python3.9/site-packages/scanpy/preprocessing/_highly_variable_genes.py:215: FutureWarning: The default of observed=False is deprecated and will be changed to True in a future version of pandas. Pass observed=False to retain current behavior or observed=True to adopt the future default and silence this warning.\n",
      "  disp_grouped = df.groupby('mean_bin')['dispersions']\n",
      "/home/hers_basak/jjiang/jack/miniconda/envs/scarches2/lib/python3.9/site-packages/scanpy/preprocessing/_highly_variable_genes.py:215: FutureWarning: The default of observed=False is deprecated and will be changed to True in a future version of pandas. Pass observed=False to retain current behavior or observed=True to adopt the future default and silence this warning.\n",
      "  disp_grouped = df.groupby('mean_bin')['dispersions']\n",
      "/home/hers_basak/jjiang/jack/miniconda/envs/scarches2/lib/python3.9/site-packages/scanpy/preprocessing/_highly_variable_genes.py:215: FutureWarning: The default of observed=False is deprecated and will be changed to True in a future version of pandas. Pass observed=False to retain current behavior or observed=True to adopt the future default and silence this warning.\n",
      "  disp_grouped = df.groupby('mean_bin')['dispersions']\n",
      "/home/hers_basak/jjiang/jack/miniconda/envs/scarches2/lib/python3.9/site-packages/scanpy/preprocessing/_highly_variable_genes.py:215: FutureWarning: The default of observed=False is deprecated and will be changed to True in a future version of pandas. Pass observed=False to retain current behavior or observed=True to adopt the future default and silence this warning.\n",
      "  disp_grouped = df.groupby('mean_bin')['dispersions']\n",
      "/home/hers_basak/jjiang/jack/miniconda/envs/scarches2/lib/python3.9/site-packages/scanpy/preprocessing/_highly_variable_genes.py:494: FutureWarning: The provided callable <function nanmean at 0x7f7b4fee9040> is currently using SeriesGroupBy.mean. In a future version of pandas, the provided callable will be used directly. To keep current behavior pass the string \"mean\" instead.\n",
      "  df = df.groupby('gene').agg(\n",
      "/home/hers_basak/jjiang/jack/miniconda/envs/scarches2/lib/python3.9/site-packages/scanpy/preprocessing/_highly_variable_genes.py:494: FutureWarning: The provided callable <function nanmean at 0x7f7b4fee9040> is currently using SeriesGroupBy.mean. In a future version of pandas, the provided callable will be used directly. To keep current behavior pass the string \"mean\" instead.\n",
      "  df = df.groupby('gene').agg(\n",
      "/home/hers_basak/jjiang/jack/miniconda/envs/scarches2/lib/python3.9/site-packages/scanpy/preprocessing/_highly_variable_genes.py:494: FutureWarning: The provided callable <function nansum at 0x7f7b4fee0b80> is currently using SeriesGroupBy.sum. In a future version of pandas, the provided callable will be used directly. To keep current behavior pass the string \"sum\" instead.\n",
      "  df = df.groupby('gene').agg(\n",
      "/home/hers_basak/jjiang/jack/miniconda/envs/scarches2/lib/python3.9/site-packages/scanpy/preprocessing/_highly_variable_genes.py:539: ImplicitModificationWarning: Trying to modify attribute `._uns` of view, initializing view as actual.\n",
      "  adata.uns['hvg'] = {'flavor': flavor}\n"
     ]
    }
   ],
   "source": [
    "sc.pp.highly_variable_genes(\n",
    "    base,\n",
    "    n_top_genes=5000,\n",
    "    batch_key=\"atlas\",\n",
    "    subset=True)"
   ]
  },
  {
   "cell_type": "code",
   "execution_count": 68,
   "id": "48dbec77",
   "metadata": {},
   "outputs": [],
   "source": [
    "base.write('/home/hers_basak/jjiang/jack/outputs/deliverables/5_integration/data/scvi/models/scvi_model_final/adata_predicted_lowest_filtered_5k.h5ad')"
   ]
  }
 ],
 "metadata": {
  "kernelspec": {
   "display_name": "Python 3 (ipykernel)",
   "language": "python",
   "name": "python3"
  },
  "language_info": {
   "codemirror_mode": {
    "name": "ipython",
    "version": 3
   },
   "file_extension": ".py",
   "mimetype": "text/x-python",
   "name": "python",
   "nbconvert_exporter": "python",
   "pygments_lexer": "ipython3",
   "version": "3.12.1"
  }
 },
 "nbformat": 4,
 "nbformat_minor": 5
}
