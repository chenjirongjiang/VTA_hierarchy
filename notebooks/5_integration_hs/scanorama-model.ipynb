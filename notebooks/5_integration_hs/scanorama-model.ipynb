{
 "cells": [
  {
   "cell_type": "markdown",
   "id": "486b6e8d",
   "metadata": {},
   "source": [
    "# Benchmarking of integration methods - scanorama\n",
    "In this notebook Scanorama integration will be tested (the actual run is performed as a slurm job)"
   ]
  },
  {
   "cell_type": "code",
   "execution_count": 1,
   "id": "fbccb5fe",
   "metadata": {},
   "outputs": [
    {
     "name": "stdout",
     "output_type": "stream",
     "text": [
      "/home/hers_basak/jjiang/jack/miniconda/envs/scarches/bin/python\n",
      "3.9.18 (main, Sep 11 2023, 13:41:44) \n",
      "[GCC 11.2.0]\n",
      "sys.version_info(major=3, minor=9, micro=18, releaselevel='final', serial=0)\n"
     ]
    }
   ],
   "source": [
    "import sys\n",
    "print(sys.executable)\n",
    "print(sys.version)\n",
    "print(sys.version_info)"
   ]
  },
  {
   "cell_type": "code",
   "execution_count": 2,
   "id": "ee9de03a",
   "metadata": {
    "scrolled": true
   },
   "outputs": [
    {
     "data": {
      "text/html": [
       "<style>.container { width:90% !important; }</style>"
      ],
      "text/plain": [
       "<IPython.core.display.HTML object>"
      ]
     },
     "metadata": {},
     "output_type": "display_data"
    }
   ],
   "source": [
    "from IPython.display import display, HTML\n",
    "display(HTML(\"<style>.container { width:90% !important; }</style>\"))#embed HTML within IPython notebook and make containers 90% of screen\n",
    "import numpy as np\n",
    "import pandas as pd\n",
    "import anndata as ad\n",
    "import scanpy as sc\n",
    "import seaborn as sns\n",
    "import os\n",
    "import matplotlib.pyplot as plt\n",
    "#import scib\n",
    "import scanorama\n",
    "import torch\n",
    "import scanpy.external as sce\n",
    "\n",
    "%matplotlib inline\n",
    "sc.settings.verbosity = 0             # verbosity: errors (0), warnings (1), info (2), hints (3)\n",
    "sc.settings.set_figure_params(dpi=80, facecolor='white') #figure resolution and background color\n",
    "\n",
    "# This is used\n",
    "# os.path.join('data/'+object_names[i][6:10]+'_preprocessed.h5ad')\n",
    "#sc.logging.print_versions()"
   ]
  },
  {
   "cell_type": "code",
   "execution_count": 3,
   "id": "40e2c684",
   "metadata": {},
   "outputs": [],
   "source": [
    "#set data path\n",
    "os.chdir('/home/hers_basak/jjiang/jack/outputs/deliverables/5_integration/data/scanorama')"
   ]
  },
  {
   "cell_type": "code",
   "execution_count": 4,
   "id": "9d982cba",
   "metadata": {},
   "outputs": [
    {
     "name": "stdout",
     "output_type": "stream",
     "text": [
      "adata_complete  is loaded\n"
     ]
    }
   ],
   "source": [
    "files=['/home/hers_basak/jjiang/jack/outputs/deliverables/5_integration/data/complete_base.h5ad']\n",
    "names=['complete']\n",
    "object_names_merged=list()\n",
    "numberobj = len(files)\n",
    "\n",
    "for i in range(numberobj):\n",
    "    object_names_merged.append(\"adata\"+\"_\"+names[i])\n",
    "    locals()[object_names_merged[i]] = sc.read(files[i]) \n",
    "    print(object_names_merged[i],' is loaded')"
   ]
  },
  {
   "cell_type": "code",
   "execution_count": 5,
   "id": "398d6cb2",
   "metadata": {},
   "outputs": [
    {
     "name": "stdout",
     "output_type": "stream",
     "text": [
      "85044\n",
      "9214\n",
      "287523\n",
      "29495\n",
      "43477\n",
      "67467\n"
     ]
    }
   ],
   "source": [
    "atlases=['altena','agarwal','siletti','smajic','wang','welch']\n",
    "for i in atlases:\n",
    "    print(len(adata_complete.obs_names[adata_complete.obs['atlas']==i]))"
   ]
  },
  {
   "cell_type": "markdown",
   "id": "59ceed1c",
   "metadata": {},
   "source": [
    "Scanorama takes the atlases separately"
   ]
  },
  {
   "cell_type": "code",
   "execution_count": 6,
   "id": "335daf8b",
   "metadata": {},
   "outputs": [],
   "source": [
    "sc.pp.highly_variable_genes(\n",
    "    adata_complete,\n",
    "    n_top_genes=2000,\n",
    "    batch_key=\"atlas\",\n",
    "    subset=True)"
   ]
  },
  {
   "cell_type": "code",
   "execution_count": 7,
   "id": "ff1e6871",
   "metadata": {},
   "outputs": [],
   "source": [
    "batches = adata_complete.obs['atlas'].cat.categories.tolist()\n",
    "alldata = {}\n",
    "for batch in batches:\n",
    "    alldata[batch] = adata_complete[adata_complete.obs['atlas'] == batch,]"
   ]
  },
  {
   "cell_type": "code",
   "execution_count": 8,
   "id": "9f60938f",
   "metadata": {},
   "outputs": [],
   "source": [
    "adatas = list(alldata.values())"
   ]
  },
  {
   "cell_type": "markdown",
   "id": "d1468d48",
   "metadata": {},
   "source": [
    "Scanorama embeds the data itself"
   ]
  },
  {
   "cell_type": "code",
   "execution_count": 9,
   "id": "4e9d6d3f",
   "metadata": {},
   "outputs": [],
   "source": [
    "#sc.tl.pca(adata_complete, svd_solver='arpack')"
   ]
  },
  {
   "cell_type": "markdown",
   "id": "7223d26c",
   "metadata": {},
   "source": [
    "Batch correction should take less memory than integration"
   ]
  },
  {
   "cell_type": "code",
   "execution_count": 10,
   "id": "f40254a8",
   "metadata": {
    "scrolled": false
   },
   "outputs": [
    {
     "name": "stdout",
     "output_type": "stream",
     "text": [
      "Found 2000 genes among all datasets\n",
      "[[0.         0.1185153  0.48176688 0.09984806 0.13034513 0.53505535]\n",
      " [0.         0.         0.39006867 0.33097135 0.22184143 0.04070138]\n",
      " [0.         0.         0.         0.52829293 0.21836833 0.40514622]\n",
      " [0.         0.         0.         0.         0.26774029 0.21101882]\n",
      " [0.         0.         0.         0.         0.         0.241392  ]\n",
      " [0.         0.         0.         0.         0.         0.        ]]\n",
      "Processing datasets (0, 5)\n",
      "Processing datasets (2, 3)\n",
      "Processing datasets (0, 2)\n",
      "Processing datasets (2, 5)\n",
      "Processing datasets (1, 2)\n",
      "Processing datasets (1, 3)\n",
      "Processing datasets (3, 4)\n",
      "Processing datasets (4, 5)\n",
      "Processing datasets (1, 4)\n",
      "Processing datasets (2, 4)\n",
      "Processing datasets (3, 5)\n",
      "Processing datasets (0, 4)\n",
      "Processing datasets (0, 1)\n"
     ]
    }
   ],
   "source": [
    "corrected = scanorama.correct_scanpy(adatas)"
   ]
  },
  {
   "cell_type": "code",
   "execution_count": null,
   "id": "b9f4678d",
   "metadata": {
    "scrolled": true
   },
   "outputs": [],
   "source": [
    "#scanorama.integrate_scanpy(adatas, dimred = 50)"
   ]
  },
  {
   "cell_type": "code",
   "execution_count": 11,
   "id": "ac750953",
   "metadata": {},
   "outputs": [
    {
     "ename": "AttributeError",
     "evalue": "'list' object has no attribute 'write'",
     "output_type": "error",
     "traceback": [
      "\u001b[0;31m---------------------------------------------------------------------------\u001b[0m",
      "\u001b[0;31mAttributeError\u001b[0m                            Traceback (most recent call last)",
      "Cell \u001b[0;32mIn[11], line 1\u001b[0m\n\u001b[0;32m----> 1\u001b[0m \u001b[43mcorrected\u001b[49m\u001b[38;5;241;43m.\u001b[39;49m\u001b[43mwrite\u001b[49m(\u001b[38;5;124m'\u001b[39m\u001b[38;5;124m./data/adata_n30_scanorama.h5ad\u001b[39m\u001b[38;5;124m'\u001b[39m)\n",
      "\u001b[0;31mAttributeError\u001b[0m: 'list' object has no attribute 'write'"
     ]
    }
   ],
   "source": [
    "corrected.write('./data/adata_n30_scanorama.h5ad')"
   ]
  },
  {
   "cell_type": "code",
   "execution_count": null,
   "id": "22f534e2",
   "metadata": {},
   "outputs": [],
   "source": [
    "adata_complete"
   ]
  },
  {
   "cell_type": "code",
   "execution_count": null,
   "id": "ecacbf94",
   "metadata": {},
   "outputs": [],
   "source": [
    "sc.pp.neighbors(adata_complete, use_rep='X_scanorama',n_neighbors=30,)\n",
    "sc.tl.leiden(adata_complete)"
   ]
  },
  {
   "cell_type": "code",
   "execution_count": null,
   "id": "12c40913",
   "metadata": {},
   "outputs": [],
   "source": [
    "adata_complete.write('./data/adata_n30_scanorama.h5ad')"
   ]
  },
  {
   "cell_type": "code",
   "execution_count": null,
   "id": "9ab61ae1",
   "metadata": {},
   "outputs": [],
   "source": []
  }
 ],
 "metadata": {
  "kernelspec": {
   "display_name": "scarches",
   "language": "python",
   "name": "scarches"
  },
  "language_info": {
   "codemirror_mode": {
    "name": "ipython",
    "version": 3
   },
   "file_extension": ".py",
   "mimetype": "text/x-python",
   "name": "python",
   "nbconvert_exporter": "python",
   "pygments_lexer": "ipython3",
   "version": "3.9.18"
  }
 },
 "nbformat": 4,
 "nbformat_minor": 5
}
