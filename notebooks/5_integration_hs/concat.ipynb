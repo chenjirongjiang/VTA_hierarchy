{
 "cells": [
  {
   "cell_type": "markdown",
   "id": "486b6e8d",
   "metadata": {},
   "source": [
    "# Concatenation of atlases\n",
    "In this notebook all atlases will be combined, hvg will be identified and new pca will be calculated for more efficient downstream integration. Furthermore, other transformations can be performed here such as subsetting the dataset on only neuronal cells to get higher resolution integration. Contains the following major parts: \n",
    "- Combining all atlases\n",
    "- Combining integration latent spaces\n",
    "- Transferring over the labels to clean adata\n",
    "- Combining .obsm from different integrations for evaluation\n",
    "- Whole dataset 5k genes\n",
    "- Neuron only dataset for integration\n",
    "- Astrocyte only dataset for integration\n",
    "- Oligodendrocyte only dataset for integration"
   ]
  },
  {
   "cell_type": "code",
   "execution_count": 1,
   "id": "fbccb5fe",
   "metadata": {},
   "outputs": [
    {
     "name": "stdout",
     "output_type": "stream",
     "text": [
      "/home/hers_basak/jjiang/jack/miniconda/envs/scarches2/bin/python\n",
      "3.9.18 (main, Sep 11 2023, 13:41:44) \n",
      "[GCC 11.2.0]\n",
      "sys.version_info(major=3, minor=9, micro=18, releaselevel='final', serial=0)\n"
     ]
    }
   ],
   "source": [
    "import sys\n",
    "print(sys.executable)\n",
    "print(sys.version)\n",
    "print(sys.version_info)"
   ]
  },
  {
   "cell_type": "code",
   "execution_count": 2,
   "id": "ee9de03a",
   "metadata": {},
   "outputs": [
    {
     "data": {
      "text/html": [
       "<style>.container { width:90% !important; }</style>"
      ],
      "text/plain": [
       "<IPython.core.display.HTML object>"
      ]
     },
     "metadata": {},
     "output_type": "display_data"
    }
   ],
   "source": [
    "from IPython.display import display, HTML\n",
    "display(HTML(\"<style>.container { width:90% !important; }</style>\"))#embed HTML within IPython notebook and make containers 90% of screen\n",
    "import numpy as np\n",
    "import pandas as pd\n",
    "import anndata as ad\n",
    "import scanpy as sc\n",
    "import seaborn as sns\n",
    "import os\n",
    "import matplotlib.pyplot as plt\n",
    "#import scvi\n",
    "import torch\n",
    "\n",
    "%matplotlib inline\n",
    "sc.settings.verbosity = 0             # verbosity: errors (0), warnings (1), info (2), hints (3)\n",
    "sc.settings.set_figure_params(dpi=80, facecolor='white') #figure resolution and background color\n",
    "\n",
    "#To make reproducible plots\n",
    "np.random.seed(41)\n",
    "# This is used\n",
    "# os.path.join('data/'+object_names[i][6:10]+'_preprocessed.h5ad')\n",
    "#sc.logging.print_versions()"
   ]
  },
  {
   "cell_type": "code",
   "execution_count": 3,
   "id": "40e2c684",
   "metadata": {},
   "outputs": [],
   "source": [
    "#set data path\n",
    "os.chdir('/home/hers_basak/jjiang/jack/outputs/deliverables/5_integration/benchmark/')"
   ]
  },
  {
   "cell_type": "markdown",
   "id": "4384b15f",
   "metadata": {},
   "source": [
    "# Combining all atlases"
   ]
  },
  {
   "cell_type": "code",
   "execution_count": 4,
   "id": "6ab972e1",
   "metadata": {},
   "outputs": [],
   "source": [
    "agarwal='/home/hers_basak/jjiang/jack/outputs/deliverables/4_clustering/data/agarwal_merge_base_BC.h5ad'\n",
    "altena='/home/hers_basak/jjiang/jack/outputs/deliverables/4_clustering/data/altena_merge_base_BC.h5ad'\n",
    "siletti='/home/hers_basak/jjiang/jack/outputs/deliverables/4_clustering/data/siletti_merge_base_BC.h5ad'\n",
    "smajic='/home/hers_basak/jjiang/jack/outputs/deliverables/4_clustering/data/smajic_merge_base_BC.h5ad'\n",
    "welch='/home/hers_basak/jjiang/jack/outputs/deliverables/4_clustering/data/welch_merge_base_BC.h5ad'\n",
    "wang='/home/hers_basak/jjiang/jack/outputs/deliverables/4_clustering/data/wang_merge_base_BC.h5ad'"
   ]
  },
  {
   "cell_type": "code",
   "execution_count": 6,
   "id": "f569ceff",
   "metadata": {},
   "outputs": [],
   "source": [
    "files =[agarwal,altena,siletti,smajic,welch,wang]"
   ]
  },
  {
   "cell_type": "code",
   "execution_count": 7,
   "id": "d22a1e3e",
   "metadata": {},
   "outputs": [],
   "source": [
    "names=['agarwal','altena','siletti','smajic','welch','wang']"
   ]
  },
  {
   "cell_type": "code",
   "execution_count": 8,
   "id": "9d982cba",
   "metadata": {
    "scrolled": true
   },
   "outputs": [
    {
     "name": "stdout",
     "output_type": "stream",
     "text": [
      "adata_agarwal  is loaded\n",
      "adata_altena  is loaded\n",
      "adata_siletti  is loaded\n",
      "adata_smajic  is loaded\n",
      "adata_welch  is loaded\n"
     ]
    },
    {
     "name": "stderr",
     "output_type": "stream",
     "text": [
      "/home/hers_basak/jjiang/jack/miniconda/envs/scarches/lib/python3.9/site-packages/anndata/_core/anndata.py:1838: UserWarning: Observation names are not unique. To make them unique, call `.obs_names_make_unique`.\n",
      "  utils.warn_names_duplicates(\"obs\")\n"
     ]
    },
    {
     "name": "stdout",
     "output_type": "stream",
     "text": [
      "adata_wang  is loaded\n"
     ]
    }
   ],
   "source": [
    "object_names_merged=list()\n",
    "numberobj = len(files)\n",
    "\n",
    "for i in range(numberobj):\n",
    "    object_names_merged.append(\"adata\"+\"_\"+names[i])\n",
    "    locals()[object_names_merged[i]] = sc.read(files[i]) \n",
    "    locals()[object_names_merged[i]].obs_names_make_unique()\n",
    "    print(object_names_merged[i],' is loaded')\n",
    "    "
   ]
  },
  {
   "cell_type": "code",
   "execution_count": 12,
   "id": "25185575",
   "metadata": {},
   "outputs": [
    {
     "name": "stdout",
     "output_type": "stream",
     "text": [
      "N3_CTGTGCTTCAGAAATG     agarwal\n",
      "N3_GCTCCTACAGATCCAT     agarwal\n",
      "N3_TCAGCAATCGGTCCGA     agarwal\n",
      "N3_TGACTAGTCACAGGCC     agarwal\n",
      "N3_TACGGATTCTGTACGA     agarwal\n",
      "                         ...   \n",
      "N5B_GTCACAAAGAGTAATC    agarwal\n",
      "N5B_CACAAACAGTGTACTC    agarwal\n",
      "N5B_CTGCGGAAGTCATCCA    agarwal\n",
      "N5B_GCGAGAAAGGTGTTAA    agarwal\n",
      "N5B_ATTTCTGTCATGTAGC    agarwal\n",
      "Name: atlas, Length: 9214, dtype: category\n",
      "Categories (1, object): ['agarwal']\n",
      "AATCACGCAACTGTGT-1-0     altena\n",
      "ACTTATCTCGATACGT-1-0     altena\n",
      "CTACATTGTTAAACCC-1-0     altena\n",
      "TTAGGGTTCTTGCGCT-1-0     altena\n",
      "AAGCCATGTATCGTTG-1-0     altena\n",
      "                          ...  \n",
      "TTCTTGAGTATTCCGA-1-11    altena\n",
      "TGGAGAGCAAGCGCAA-1-11    altena\n",
      "ATCACAGAGAATCTAG-1-11    altena\n",
      "ACTTCCGCAGAATTCC-1-11    altena\n",
      "GTACAGTGTGGTCCGT-1-11    altena\n",
      "Name: atlas, Length: 85044, dtype: category\n",
      "Categories (1, object): ['altena']\n",
      "10X173_3:TATCTTGGTGCATTAC    siletti\n",
      "10X173_3:CTCATCGTCGTTCTAT    siletti\n",
      "10X173_3:TCTACCGGTCCCTCAT    siletti\n",
      "10X173_3:CGTAAGTTCTGCTCTG    siletti\n",
      "10X173_3:GATCCCTAGGGTTAAT    siletti\n",
      "                              ...   \n",
      "10X389_4:TTGGTTTCAAGGTTGG    siletti\n",
      "10X389_4:GATTTCTAGGAATCGC    siletti\n",
      "10X389_4:TTACGCCTCTTCGACC    siletti\n",
      "10X389_4:TCGGGACAGCTGTGCC    siletti\n",
      "10X389_4:GAGATGGTCGATGCTA    siletti\n",
      "Name: atlas, Length: 287523, dtype: category\n",
      "Categories (1, object): ['siletti']\n",
      "AGGGTTTTCCTGGTCT-1_7    smajic\n",
      "TGTTGAGGTACGTACT-1_7    smajic\n",
      "CCTCCTCGTTAGAGTA-1_7    smajic\n",
      "AGTCAACGTCTAACGT-1_7    smajic\n",
      "CATGAGTAGCTAAATG-1_7    smajic\n",
      "                         ...  \n",
      "TTCACGCCAATAGGAT-1_4    smajic\n",
      "TTCACGCTCAATCAGC-1_4    smajic\n",
      "AAACGCTCAGAAATTG-1_4    smajic\n",
      "CAGCACGGTCCAGCGT-1_4    smajic\n",
      "TCAGCAAGTTAGAAGT-1_4    smajic\n",
      "Name: atlas, Length: 29495, dtype: category\n",
      "Categories (1, object): ['smajic']\n",
      "MD5534a_TGGTTCCGTCAACTGT-1    welch\n",
      "MD5534a_TTATGCTTCTGAAAGA-1    welch\n",
      "MD5534a_CGTTAGACAGATCGGA-1    welch\n",
      "MD5534a_TTGAACGAGTTCGCGC-1    welch\n",
      "MD5534a_TAAGCGTAGATATACG-1    welch\n",
      "                              ...  \n",
      "MD6063c_TCAGGTATCAGGCCCA-1    welch\n",
      "MD6063c_CGAGCCAGTTCGGCAC-1    welch\n",
      "MD6063c_CCATTCGTCTTGTACT-1    welch\n",
      "MD6063c_GACTACAAGCCAGTAG-1    welch\n",
      "MD6063c_TGACTTTAGACTACAA-1    welch\n",
      "Name: atlas, Length: 67467, dtype: category\n",
      "Categories (1, object): ['welch']\n",
      "TAATCTCCAAGTTGGG-1      wang\n",
      "CCCTCTCAGTGCCCGT-1      wang\n",
      "AACACACCATAGGCGA-1      wang\n",
      "AATGACCTCTTGGTGA-1      wang\n",
      "GCCGTGATCTTCTTCC-1      wang\n",
      "                        ... \n",
      "TGGGAGATCACGGTCG-1-1    wang\n",
      "TGTTGGACATCTTCGC-1      wang\n",
      "TTACGTTGTCAACCTA-1      wang\n",
      "TGTACAGAGGTGCGAT-1-1    wang\n",
      "TTGCGTCGTCAAGCCC-1      wang\n",
      "Name: atlas, Length: 43477, dtype: category\n",
      "Categories (1, object): ['wang']\n"
     ]
    }
   ],
   "source": [
    "for i in range(numberobj):\n",
    "    print(locals()[object_names_merged[i]].obs['atlas'])"
   ]
  },
  {
   "cell_type": "code",
   "execution_count": 8,
   "id": "0ceff72b",
   "metadata": {},
   "outputs": [
    {
     "name": "stderr",
     "output_type": "stream",
     "text": [
      "/home/hers_basak/jjiang/jack/miniconda/envs/scarches/lib/python3.9/site-packages/anndata/_core/anndata.py:1838: UserWarning: Observation names are not unique. To make them unique, call `.obs_names_make_unique`.\n",
      "  utils.warn_names_duplicates(\"obs\")\n",
      "/home/hers_basak/jjiang/jack/miniconda/envs/scarches/lib/python3.9/site-packages/anndata/_core/anndata.py:1838: UserWarning: Observation names are not unique. To make them unique, call `.obs_names_make_unique`.\n",
      "  utils.warn_names_duplicates(\"obs\")\n"
     ]
    }
   ],
   "source": [
    "source_adata= ad.concat([adata_agarwal,adata_altena,adata_siletti,adata_smajic,adata_welch,adata_wang], join='outer')\n",
    "source_adata.obs_names_make_unique()"
   ]
  },
  {
   "cell_type": "code",
   "execution_count": 9,
   "id": "23cf5a82",
   "metadata": {},
   "outputs": [],
   "source": [
    "source_adata.obs=source_adata.obs.astype(str)\n",
    "source_adata.obs=source_adata.obs.replace('nan','')\n",
    "source_adata.obs[\"cell_type_lvl1\"] = source_adata.obs[\"original_cellclass_lvl1\"] +source_adata.obs[\"original_celltype\"] +source_adata.obs[\"original_Level_1_cell_type\"]+source_adata.obs[\"original_supercluster_term\"]\n",
    "source_adata.obs[\"cell_type_lvl2\"] = source_adata.obs[\"original_subclass_lvl2\"] + source_adata.obs[\"original_Level_2_cell_type\"]+source_adata.obs[\"original_cluster_id\"]\n",
    "source_adata.obs[\"cell_type_lvl3\"] = source_adata.obs[\"original_celltype_lvl3\"]+source_adata.obs[\"original_subcluster_id\"]\n"
   ]
  },
  {
   "cell_type": "code",
   "execution_count": 10,
   "id": "0c1f69cc",
   "metadata": {},
   "outputs": [],
   "source": [
    "sc.pp.highly_variable_genes(\n",
    "    source_adata,\n",
    "    n_top_genes=4000,\n",
    "    batch_key=\"atlas\",\n",
    "    subset=True)"
   ]
  },
  {
   "cell_type": "code",
   "execution_count": 11,
   "id": "e6d7fa33",
   "metadata": {},
   "outputs": [
    {
     "name": "stderr",
     "output_type": "stream",
     "text": [
      "/home/hers_basak/jjiang/jack/miniconda/envs/scarches/lib/python3.9/site-packages/umap/distances.py:1063: NumbaDeprecationWarning: The 'nopython' keyword argument was not supplied to the 'numba.jit' decorator. The implicit default value for this argument is currently False, but it will be changed to True in Numba 0.59.0. See https://numba.readthedocs.io/en/stable/reference/deprecation.html#deprecation-of-object-mode-fall-back-behaviour-when-using-jit for details.\n",
      "  @numba.jit()\n",
      "/home/hers_basak/jjiang/jack/miniconda/envs/scarches/lib/python3.9/site-packages/umap/distances.py:1071: NumbaDeprecationWarning: The 'nopython' keyword argument was not supplied to the 'numba.jit' decorator. The implicit default value for this argument is currently False, but it will be changed to True in Numba 0.59.0. See https://numba.readthedocs.io/en/stable/reference/deprecation.html#deprecation-of-object-mode-fall-back-behaviour-when-using-jit for details.\n",
      "  @numba.jit()\n",
      "/home/hers_basak/jjiang/jack/miniconda/envs/scarches/lib/python3.9/site-packages/umap/distances.py:1086: NumbaDeprecationWarning: The 'nopython' keyword argument was not supplied to the 'numba.jit' decorator. The implicit default value for this argument is currently False, but it will be changed to True in Numba 0.59.0. See https://numba.readthedocs.io/en/stable/reference/deprecation.html#deprecation-of-object-mode-fall-back-behaviour-when-using-jit for details.\n",
      "  @numba.jit()\n",
      "/home/hers_basak/jjiang/jack/miniconda/envs/scarches/lib/python3.9/site-packages/umap/umap_.py:660: NumbaDeprecationWarning: The 'nopython' keyword argument was not supplied to the 'numba.jit' decorator. The implicit default value for this argument is currently False, but it will be changed to True in Numba 0.59.0. See https://numba.readthedocs.io/en/stable/reference/deprecation.html#deprecation-of-object-mode-fall-back-behaviour-when-using-jit for details.\n",
      "  @numba.jit()\n"
     ]
    }
   ],
   "source": [
    "sc.tl.pca(source_adata, svd_solver='arpack')\n",
    "sc.pp.neighbors(source_adata, n_pcs=50,n_neighbors=30,use_rep='X_pca')\n",
    "sc.tl.umap(source_adata)"
   ]
  },
  {
   "cell_type": "code",
   "execution_count": 12,
   "id": "0b05946d",
   "metadata": {},
   "outputs": [],
   "source": [
    "sc.settings.figdir = '/home/hers_basak/jjiang/jack/outputs/deliverables/5_integration/figures/'"
   ]
  },
  {
   "cell_type": "code",
   "execution_count": 13,
   "id": "03d49f76",
   "metadata": {},
   "outputs": [
    {
     "ename": "SyntaxError",
     "evalue": "unexpected EOF while parsing (1790814684.py, line 2)",
     "output_type": "error",
     "traceback": [
      "\u001b[0;36m  Cell \u001b[0;32mIn[13], line 2\u001b[0;36m\u001b[0m\n\u001b[0;31m    use_raw=False, s=5, wspace=0.5#),save='adata_complete_all.png')\u001b[0m\n\u001b[0m                                                                   ^\u001b[0m\n\u001b[0;31mSyntaxError\u001b[0m\u001b[0;31m:\u001b[0m unexpected EOF while parsing\n"
     ]
    }
   ],
   "source": [
    "sc.pl.umap(source_adata, color=['atlas'], \n",
    "               use_raw=False, s=5, wspace=0.5#),save='adata_complete_all.png')"
   ]
  },
  {
   "cell_type": "code",
   "execution_count": null,
   "id": "0b18f385",
   "metadata": {},
   "outputs": [],
   "source": [
    "feature1='atlas'\n",
    "title1='atlas'\n",
    "fig, axs = plt.subplots(2, 3, figsize = [24,12])\n",
    "#axs[-1, -1].axis('off')\n",
    "fig.subplots_adjust(left=None, bottom=None, right=None, top=None, wspace=0.5, hspace=0.25)\n",
    "sc.pl.umap(source_adata, color=feature1, groups= 'altena', use_raw=False, s=10, ax= axs[0,0],show=False, title=title1)\n",
    "sc.pl.umap(source_adata, color=feature1, groups= 'agarwal', use_raw=False, s=10, ax= axs[0,1],show=False, title=title1)\n",
    "sc.pl.umap(source_adata, color=feature1, groups= 'siletti', use_raw=False, s=10, ax= axs[0,2],show=False, title=title1)\n",
    "sc.pl.umap(source_adata, color=feature1, groups= 'smajic', use_raw=False, s=10, ax= axs[1,0],show=False, title=title1)\n",
    "sc.pl.umap(source_adata, color=feature1, groups= 'wang', use_raw=False, s=10, ax= axs[1,1],show=False, title=title1)\n",
    "sc.pl.umap(source_adata, color=feature1, groups= 'welch', use_raw=False, s=10, ax= axs[1,2],show=False, title=title1)\n",
    "#fig.savefig(f'/home/hers_basak/jjiang/jack/outputs/deliverables/5_integration/figures/adata_complete_subplots.png',bbox_inches='tight')"
   ]
  },
  {
   "cell_type": "code",
   "execution_count": 16,
   "id": "0a48f3f6",
   "metadata": {},
   "outputs": [],
   "source": [
    "source_adata.write('./data/complete_base_hvg.h5ad')"
   ]
  },
  {
   "cell_type": "code",
   "execution_count": null,
   "id": "f259a954",
   "metadata": {},
   "outputs": [],
   "source": []
  },
  {
   "cell_type": "markdown",
   "id": "073904fa",
   "metadata": {},
   "source": [
    "# Combining integration latent spaces"
   ]
  },
  {
   "cell_type": "markdown",
   "id": "cb4909b4",
   "metadata": {},
   "source": [
    "For benchmark of scvi scanorama and harmony. (harmony integrated latent space is already in adata_scvi)"
   ]
  },
  {
   "cell_type": "code",
   "execution_count": 4,
   "id": "37efa699",
   "metadata": {},
   "outputs": [
    {
     "name": "stdout",
     "output_type": "stream",
     "text": [
      "adata_scvi is loaded\n",
      "adata_scanorama is loaded\n"
     ]
    }
   ],
   "source": [
    "adata_scvi = sc.read_h5ad('/home/hers_basak/jjiang/jack/outputs/deliverables/5_integration/data/scvi/models/scvi_model_integration/adata.h5ad') \n",
    "print('adata_scvi is loaded')\n",
    "\n",
    "adata_scanorama=sc.read_h5ad('/home/hers_basak/jjiang/jack/outputs/deliverables/5_integration/data/scanorama/adata_label_scanorama.h5ad') \n",
    "print('adata_scanorama is loaded')\n"
   ]
  },
  {
   "cell_type": "code",
   "execution_count": 5,
   "id": "f3369abf",
   "metadata": {},
   "outputs": [
    {
     "data": {
      "text/plain": [
       "AnnData object with n_obs × n_vars = 507798 × 4000\n",
       "    obs: 'species', 'gender', 'age', 'instrument', 'technology', 'atlas', 'sample', 'batch_1', 'doublet_score', 'predicted_doublet', 'n_genes_by_counts', 'log1p_n_genes_by_counts', 'total_counts', 'log1p_total_counts', 'total_counts_mt', 'log1p_total_counts_mt', 'pct_counts_mt', 'total_counts_ribo', 'log1p_total_counts_ribo', 'pct_counts_ribo', 'n_genes', 'total_counts_mito', 'total_counts_norm', 'original_Library', 'original_Brain_Region', 'original_Level_1_cell_type', 'original_Level_2_cell_type', 'original_cellclass_lvl1', 'original_subclass_lvl3_1', 'original_cellclass_lvl1_n', 'original_lineage', 'original_subclass_lvl2', 'original_celltype_lvl3', 'donor', 'original_supercluster_term', 'original_cluster_id', 'original_subcluster_id', 'original_celltype', 'cell_type_lvl1', 'cell_type_lvl2', 'cell_type_lvl3', 'harmonized_cell_type_filtered_02_scvi', '_scvi_batch', '_scvi_labels'\n",
       "    var: 'highly_variable', 'means', 'dispersions', 'dispersions_norm', 'highly_variable_nbatches', 'highly_variable_intersection'\n",
       "    uns: '_scvi_manager_uuid', '_scvi_uuid', 'hvg', 'pca'\n",
       "    obsm: 'X_pca', 'X_pca_harmony', 'X_scVI', 'X_umap'\n",
       "    varm: 'PCs'\n",
       "    layers: 'counts'"
      ]
     },
     "execution_count": 5,
     "metadata": {},
     "output_type": "execute_result"
    }
   ],
   "source": [
    "adata_scvi"
   ]
  },
  {
   "cell_type": "code",
   "execution_count": 6,
   "id": "335b470b",
   "metadata": {},
   "outputs": [
    {
     "data": {
      "text/plain": [
       "AnnData object with n_obs × n_vars = 507798 × 4000\n",
       "    obs: 'species', 'gender', 'age', 'instrument', 'technology', 'atlas', 'sample', 'batch_1', 'doublet_score', 'predicted_doublet', 'n_genes_by_counts', 'log1p_n_genes_by_counts', 'total_counts', 'log1p_total_counts', 'total_counts_mt', 'log1p_total_counts_mt', 'pct_counts_mt', 'total_counts_ribo', 'log1p_total_counts_ribo', 'pct_counts_ribo', 'n_genes', 'total_counts_mito', 'total_counts_norm', 'original_Library', 'original_Brain_Region', 'original_Level_1_cell_type', 'original_Level_2_cell_type', 'original_cellclass_lvl1', 'original_subclass_lvl3_1', 'original_cellclass_lvl1_n', 'original_lineage', 'original_subclass_lvl2', 'original_celltype_lvl3', 'donor', 'original_supercluster_term', 'original_cluster_id', 'original_subcluster_id', 'original_celltype', 'cell_type_lvl1', 'cell_type_lvl2', 'cell_type_lvl3', 'harmonized_cell_type_filtered_02_scvi'\n",
       "    obsm: 'X_pca', 'X_pca_harmony', 'X_scanorama', 'X_umap'"
      ]
     },
     "execution_count": 6,
     "metadata": {},
     "output_type": "execute_result"
    }
   ],
   "source": [
    "adata_scanorama"
   ]
  },
  {
   "cell_type": "code",
   "execution_count": 7,
   "id": "e3987fed",
   "metadata": {},
   "outputs": [],
   "source": [
    "adata_scvi.obsm['X_scanorama']=adata_scanorama.obsm['X_scanorama']"
   ]
  },
  {
   "cell_type": "code",
   "execution_count": 8,
   "id": "6e556344",
   "metadata": {},
   "outputs": [],
   "source": [
    "adata_scvi.write('./benchmark_all.h5ad')"
   ]
  },
  {
   "cell_type": "markdown",
   "id": "4bf1ee1b",
   "metadata": {},
   "source": [
    "# Transferring over the labels to clean adata\n",
    "For new integration benchmarking"
   ]
  },
  {
   "cell_type": "code",
   "execution_count": null,
   "id": "4409d442",
   "metadata": {},
   "outputs": [],
   "source": [
    "adata_integrated = sc.read_h5ad('/home/hers_basak/jjiang/jack/outputs/deliverables/5_integration/data/complete_label_transferred_filtered.h5ad') \n",
    "print('adata_integrated is loaded')"
   ]
  },
  {
   "cell_type": "code",
   "execution_count": null,
   "id": "049c176b",
   "metadata": {},
   "outputs": [],
   "source": [
    "adata_integrated.obs[adata_integrated.obs['harmonized_cell_type_filtered_02_scvi']!=adata_integrated.obs['harmonized_cell_type_filtered_02_scvi']]"
   ]
  },
  {
   "cell_type": "code",
   "execution_count": 24,
   "id": "5cd1bc59",
   "metadata": {},
   "outputs": [],
   "source": [
    "adata_complete= sc.read_h5ad('/home/hers_basak/jjiang/jack/outputs/deliverables/5_integration/data/complete_base.h5ad')"
   ]
  },
  {
   "cell_type": "code",
   "execution_count": 25,
   "id": "a1255295",
   "metadata": {},
   "outputs": [
    {
     "name": "stdout",
     "output_type": "stream",
     "text": [
      "yes\n"
     ]
    }
   ],
   "source": [
    "if adata_complete.obs_names.all()==adata_integrated.obs_names.all():\n",
    "    print('yes')"
   ]
  },
  {
   "cell_type": "code",
   "execution_count": 26,
   "id": "11a3e839",
   "metadata": {},
   "outputs": [],
   "source": [
    "adata_complete.obs['harmonized_cell_type_filtered_02_scvi'] = adata_integrated.obs['harmonized_cell_type_filtered_02_scvi']"
   ]
  },
  {
   "cell_type": "code",
   "execution_count": 27,
   "id": "8673857a",
   "metadata": {},
   "outputs": [],
   "source": [
    "adata_complete=adata_complete[adata_complete.obs['harmonized_cell_type_filtered_02_scvi']!='Unknown']"
   ]
  },
  {
   "cell_type": "code",
   "execution_count": 28,
   "id": "6d945b47",
   "metadata": {},
   "outputs": [
    {
     "data": {
      "text/plain": [
       "View of AnnData object with n_obs × n_vars = 507798 × 45433\n",
       "    obs: 'species', 'gender', 'age', 'instrument', 'technology', 'atlas', 'sample', 'batch_1', 'doublet_score', 'predicted_doublet', 'n_genes_by_counts', 'log1p_n_genes_by_counts', 'total_counts', 'log1p_total_counts', 'total_counts_mt', 'log1p_total_counts_mt', 'pct_counts_mt', 'total_counts_ribo', 'log1p_total_counts_ribo', 'pct_counts_ribo', 'n_genes', 'total_counts_mito', 'total_counts_norm', 'original_Library', 'original_Brain_Region', 'original_Level_1_cell_type', 'original_Level_2_cell_type', 'original_cellclass_lvl1', 'original_subclass_lvl3_1', 'original_cellclass_lvl1_n', 'original_lineage', 'original_subclass_lvl2', 'original_celltype_lvl3', 'donor', 'original_supercluster_term', 'original_cluster_id', 'original_subcluster_id', 'original_celltype', 'cell_type_lvl1', 'cell_type_lvl2', 'cell_type_lvl3', 'harmonized_cell_type_filtered_02_scvi'\n",
       "    obsm: 'X_pca', 'X_pca_harmony', 'X_umap'"
      ]
     },
     "execution_count": 28,
     "metadata": {},
     "output_type": "execute_result"
    }
   ],
   "source": [
    "adata_complete"
   ]
  },
  {
   "cell_type": "code",
   "execution_count": 29,
   "id": "d142d64d",
   "metadata": {},
   "outputs": [
    {
     "name": "stderr",
     "output_type": "stream",
     "text": [
      "/home/hers_basak/jjiang/jack/miniconda/envs/scarches/lib/python3.9/site-packages/scanpy/preprocessing/_highly_variable_genes.py:540: ImplicitModificationWarning: Trying to modify attribute `._uns` of view, initializing view as actual.\n",
      "  adata.uns['hvg'] = {'flavor': flavor}\n"
     ]
    }
   ],
   "source": [
    "sc.pp.highly_variable_genes(\n",
    "    adata_complete,\n",
    "    n_top_genes=4000,\n",
    "    batch_key=\"atlas\",\n",
    "    subset=True)"
   ]
  },
  {
   "cell_type": "code",
   "execution_count": 30,
   "id": "7a9527cf",
   "metadata": {},
   "outputs": [],
   "source": [
    "adata_complete.write('/home/hers_basak/jjiang/jack/outputs/deliverables/5_integration/data/complete_base_hvg_labelled.h5ad')"
   ]
  },
  {
   "cell_type": "markdown",
   "id": "9db33d2c",
   "metadata": {},
   "source": [
    "## Combining .obsm from different integrations for evaluation"
   ]
  },
  {
   "cell_type": "code",
   "execution_count": 4,
   "id": "2cbe94b3",
   "metadata": {},
   "outputs": [],
   "source": [
    "nod64=sc.read_h5ad('/home/hers_basak/jjiang/jack/outputs/deliverables/5_integration/data/scvi/models/scvi_model_N64/adata.h5ad')\n",
    "nod128=sc.read_h5ad('/home/hers_basak/jjiang/jack/outputs/deliverables/5_integration/data/scvi/models/scvi_model_F4k/adata.h5ad')\n",
    "nod256=sc.read_h5ad('/home/hers_basak/jjiang/jack/outputs/deliverables/5_integration/data/scvi/models/scvi_model_N256/adata.h5ad')"
   ]
  },
  {
   "cell_type": "code",
   "execution_count": 5,
   "id": "c1af2fd7",
   "metadata": {},
   "outputs": [],
   "source": [
    "latent=sc.read_h5ad('/home/hers_basak/jjiang/jack/outputs/deliverables/5_integration/data/scvi/models/adata_latent_10-90.h5ad')\n",
    "#feature=sc.read_h5ad('/home/hers_basak/jjiang/jack/outputs/deliverables/5_integration/data/scvi/models/adata_feature_2-4k.h5ad')"
   ]
  },
  {
   "cell_type": "code",
   "execution_count": 6,
   "id": "5e19d819",
   "metadata": {},
   "outputs": [
    {
     "name": "stdout",
     "output_type": "stream",
     "text": [
      "AnnData object with n_obs × n_vars = 522220 × 4000\n",
      "    obs: 'species', 'gender', 'age', 'instrument', 'technology', 'atlas', 'sample', 'batch_1', 'doublet_score', 'predicted_doublet', 'n_genes_by_counts', 'log1p_n_genes_by_counts', 'total_counts', 'log1p_total_counts', 'total_counts_mt', 'log1p_total_counts_mt', 'pct_counts_mt', 'total_counts_ribo', 'log1p_total_counts_ribo', 'pct_counts_ribo', 'n_genes', 'total_counts_mito', 'total_counts_norm', 'original_Library', 'original_Brain_Region', 'original_Level_1_cell_type', 'original_Level_2_cell_type', 'original_cellclass_lvl1', 'original_subclass_lvl3_1', 'original_cellclass_lvl1_n', 'original_lineage', 'original_subclass_lvl2', 'original_celltype_lvl3', 'donor', 'original_supercluster_term', 'original_cluster_id', 'original_subcluster_id', 'original_celltype', 'cell_type_lvl1', 'cell_type_lvl2', 'cell_type_lvl3', '_scvi_batch', '_scvi_labels', 'leiden', 'harmonized_cell_type_filtered_02_scvi'\n",
      "    var: 'highly_variable', 'means', 'dispersions', 'dispersions_norm', 'highly_variable_nbatches', 'highly_variable_intersection'\n",
      "    uns: '_scvi_manager_uuid', '_scvi_uuid', 'atlas_colors', 'hvg', 'leiden', 'leiden_colors', 'neighbors'\n",
      "    obsm: 'X_pca', 'X_pca_harmony', 'X_scVI', 'X_scVI_MDE', 'X_umap'\n",
      "    layers: 'counts'\n",
      "    obsp: 'connectivities', 'distances'\n",
      "AnnData object with n_obs × n_vars = 507798 × 4000\n",
      "    obs: 'species', 'gender', 'age', 'instrument', 'technology', 'atlas', 'sample', 'batch_1', 'doublet_score', 'predicted_doublet', 'n_genes_by_counts', 'log1p_n_genes_by_counts', 'total_counts', 'log1p_total_counts', 'total_counts_mt', 'log1p_total_counts_mt', 'pct_counts_mt', 'total_counts_ribo', 'log1p_total_counts_ribo', 'pct_counts_ribo', 'n_genes', 'total_counts_mito', 'total_counts_norm', 'original_Library', 'original_Brain_Region', 'original_Level_1_cell_type', 'original_Level_2_cell_type', 'original_cellclass_lvl1', 'original_subclass_lvl3_1', 'original_cellclass_lvl1_n', 'original_lineage', 'original_subclass_lvl2', 'original_celltype_lvl3', 'donor', 'original_supercluster_term', 'original_cluster_id', 'original_subcluster_id', 'original_celltype', 'cell_type_lvl1', 'cell_type_lvl2', 'cell_type_lvl3', 'harmonized_cell_type_filtered_02_scvi', '_scvi_batch', '_scvi_labels'\n",
      "    var: 'highly_variable', 'means', 'dispersions', 'dispersions_norm', 'highly_variable_nbatches', 'highly_variable_intersection'\n",
      "    uns: '_scvi_manager_uuid', '_scvi_uuid', 'hvg', 'pca'\n",
      "    obsm: 'X_pca', 'X_pca_harmony', 'X_scVI', 'X_umap'\n",
      "    varm: 'PCs'\n",
      "    layers: 'counts'\n",
      "AnnData object with n_obs × n_vars = 522220 × 4000\n",
      "    obs: 'species', 'gender', 'age', 'instrument', 'technology', 'atlas', 'sample', 'batch_1', 'doublet_score', 'predicted_doublet', 'n_genes_by_counts', 'log1p_n_genes_by_counts', 'total_counts', 'log1p_total_counts', 'total_counts_mt', 'log1p_total_counts_mt', 'pct_counts_mt', 'total_counts_ribo', 'log1p_total_counts_ribo', 'pct_counts_ribo', 'n_genes', 'total_counts_mito', 'total_counts_norm', 'original_Library', 'original_Brain_Region', 'original_Level_1_cell_type', 'original_Level_2_cell_type', 'original_cellclass_lvl1', 'original_subclass_lvl3_1', 'original_cellclass_lvl1_n', 'original_lineage', 'original_subclass_lvl2', 'original_celltype_lvl3', 'donor', 'original_supercluster_term', 'original_cluster_id', 'original_subcluster_id', 'original_celltype', 'cell_type_lvl1', 'cell_type_lvl2', 'cell_type_lvl3', '_scvi_batch', '_scvi_labels', 'leiden', 'harmonized_cell_type_filtered_02_scvi'\n",
      "    var: 'highly_variable', 'means', 'dispersions', 'dispersions_norm', 'highly_variable_nbatches', 'highly_variable_intersection'\n",
      "    uns: '_scvi_manager_uuid', '_scvi_uuid', 'atlas_colors', 'hvg', 'leiden', 'leiden_colors', 'neighbors'\n",
      "    obsm: 'X_pca', 'X_pca_harmony', 'X_scVI', 'X_scVI_MDE', 'X_umap'\n",
      "    layers: 'counts'\n",
      "    obsp: 'connectivities', 'distances'\n"
     ]
    }
   ],
   "source": [
    "for i in [nod64,nod128,nod256]:\n",
    "    print(i)"
   ]
  },
  {
   "cell_type": "code",
   "execution_count": 7,
   "id": "44f87a4f",
   "metadata": {},
   "outputs": [],
   "source": [
    "nod128=nod128[nod128.obs_names.isin(latent.obs_names)]"
   ]
  },
  {
   "cell_type": "code",
   "execution_count": 8,
   "id": "fe625159",
   "metadata": {},
   "outputs": [],
   "source": [
    "nod64=nod64[nod64.obs_names.isin(nod128.obs_names)]\n",
    "nod256=nod256[nod256.obs_names.isin(nod128.obs_names)]"
   ]
  },
  {
   "cell_type": "code",
   "execution_count": 11,
   "id": "472cf81c",
   "metadata": {},
   "outputs": [
    {
     "name": "stderr",
     "output_type": "stream",
     "text": [
      "/scratch/7894684/ipykernel_2274931/789550752.py:1: ImplicitModificationWarning: Setting element `.obsm['X_scVI_N128']` of view, initializing view as actual.\n",
      "  nod128.obsm['X_scVI_N128']=nod128.obsm['X_scVI']\n"
     ]
    }
   ],
   "source": [
    "nod128.obsm['X_scVI_N128']=nod128.obsm['X_scVI']\n",
    "del nod128.obsm['X_scVI']\n",
    "nod128.obsm['X_scVI_N64']=nod64.obsm['X_scVI']\n",
    "nod128.obsm['X_scVI_N256']=nod256.obsm['X_scVI']"
   ]
  },
  {
   "cell_type": "code",
   "execution_count": 12,
   "id": "e7185e02",
   "metadata": {},
   "outputs": [],
   "source": [
    "nod128.write('/home/hers_basak/jjiang/jack/outputs/deliverables/5_integration/data/scvi/models/adata_nodes_64-256.h5ad')"
   ]
  },
  {
   "cell_type": "code",
   "execution_count": 17,
   "id": "597ce8f4",
   "metadata": {},
   "outputs": [
    {
     "name": "stdout",
     "output_type": "stream",
     "text": [
      "  (0, 2085)\t2\n",
      "  (0, 1195)\t5\n",
      "  (0, 474)\t8\n",
      "  (0, 1603)\t5\n",
      "  (0, 2127)\t44\n",
      "  (0, 853)\t1\n",
      "  (0, 2580)\t1\n",
      "  (0, 2692)\t2\n",
      "  (0, 3736)\t1\n",
      "  (0, 2520)\t2\n",
      "  (0, 2001)\t7\n",
      "  (0, 1534)\t2\n",
      "  (0, 1339)\t12\n",
      "  (0, 1828)\t7\n",
      "  (0, 865)\t1\n",
      "  (0, 2600)\t2\n",
      "  (0, 543)\t3\n",
      "  (0, 1511)\t6\n",
      "  (0, 1394)\t26\n",
      "  (0, 2473)\t18\n",
      "  (0, 2795)\t1\n",
      "  (0, 524)\t3\n",
      "  (0, 1409)\t3\n",
      "  (0, 2965)\t1\n",
      "  (0, 1660)\t2\n",
      "  :\t:\n",
      "  (507796, 3426)\t1\n",
      "  (507796, 1514)\t1\n",
      "  (507796, 2523)\t1\n",
      "  (507796, 1971)\t1\n",
      "  (507796, 3197)\t1\n",
      "  (507796, 1457)\t1\n",
      "  (507796, 3576)\t1\n",
      "  (507796, 760)\t1\n",
      "  (507796, 2331)\t1\n",
      "  (507796, 3080)\t1\n",
      "  (507796, 3352)\t1\n",
      "  (507796, 2874)\t1\n",
      "  (507796, 2515)\t9\n",
      "  (507796, 1327)\t1\n",
      "  (507796, 3536)\t1\n",
      "  (507796, 3862)\t1\n",
      "  (507796, 2893)\t2\n",
      "  (507796, 2790)\t1\n",
      "  (507796, 1968)\t1\n",
      "  (507796, 3991)\t1\n",
      "  (507796, 3148)\t2\n",
      "  (507796, 957)\t1\n",
      "  (507796, 3755)\t1\n",
      "  (507796, 2046)\t2\n",
      "  (507796, 3004)\t2\n"
     ]
    }
   ],
   "source": [
    "print(nod128.X)"
   ]
  },
  {
   "cell_type": "markdown",
   "id": "1508358d",
   "metadata": {},
   "source": [
    "## Whole dataset 5k genes\n",
    "For the integration we needed the top 2k hvg, this filters out lots of markers that might be of interest, so we keep here atleast the top 5k. (can also keep all genes, just takes more memory)"
   ]
  },
  {
   "cell_type": "code",
   "execution_count": 31,
   "id": "0c419e4a",
   "metadata": {},
   "outputs": [],
   "source": [
    "adata_complete= sc.read_h5ad('/home/hers_basak/jjiang/jack/outputs/deliverables/5_integration/data/complete_base.h5ad')"
   ]
  },
  {
   "cell_type": "code",
   "execution_count": 47,
   "id": "856845c0",
   "metadata": {},
   "outputs": [],
   "source": [
    "integrated=sc.read_h5ad('/home/hers_basak/jjiang/jack/outputs/deliverables/5_integration/data/scvi/models/scvi_model_final/adata.h5ad')"
   ]
  },
  {
   "cell_type": "code",
   "execution_count": 48,
   "id": "8a9bb837",
   "metadata": {},
   "outputs": [],
   "source": [
    "annotation=sc.read_h5ad('/home/hers_basak/jjiang/jack/outputs/deliverables/5_integration/data/scvi/models/scvi_model_final/adata_predicted_lowest_filtered.h5ad')"
   ]
  },
  {
   "cell_type": "code",
   "execution_count": 51,
   "id": "75f589fc",
   "metadata": {},
   "outputs": [
    {
     "data": {
      "text/plain": [
       "AnnData object with n_obs × n_vars = 522220 × 45433\n",
       "    obs: 'species', 'gender', 'age', 'instrument', 'technology', 'atlas', 'sample', 'batch_1', 'doublet_score', 'predicted_doublet', 'n_genes_by_counts', 'log1p_n_genes_by_counts', 'total_counts', 'log1p_total_counts', 'total_counts_mt', 'log1p_total_counts_mt', 'pct_counts_mt', 'total_counts_ribo', 'log1p_total_counts_ribo', 'pct_counts_ribo', 'n_genes', 'total_counts_mito', 'total_counts_norm', 'original_Library', 'original_Brain_Region', 'original_Level_1_cell_type', 'original_Level_2_cell_type', 'original_cellclass_lvl1', 'original_subclass_lvl3_1', 'original_cellclass_lvl1_n', 'original_lineage', 'original_subclass_lvl2', 'original_celltype_lvl3', 'donor', 'original_supercluster_term', 'original_cluster_id', 'original_subcluster_id', 'original_celltype', 'cell_type_lvl1', 'cell_type_lvl2', 'cell_type_lvl3'\n",
       "    obsm: 'X_pca', 'X_pca_harmony', 'X_umap'"
      ]
     },
     "execution_count": 51,
     "metadata": {},
     "output_type": "execute_result"
    }
   ],
   "source": [
    "a=adata_complete[adata_complete.isin(astro.obs_names)]"
   ]
  },
  {
   "cell_type": "code",
   "execution_count": 50,
   "id": "0610202e",
   "metadata": {},
   "outputs": [
    {
     "data": {
      "text/plain": [
       "AnnData object with n_obs × n_vars = 522220 × 2000\n",
       "    obs: 'species', 'gender', 'age', 'instrument', 'technology', 'atlas', 'sample', 'batch_1', 'doublet_score', 'predicted_doublet', 'n_genes_by_counts', 'log1p_n_genes_by_counts', 'total_counts', 'log1p_total_counts', 'total_counts_mt', 'log1p_total_counts_mt', 'pct_counts_mt', 'total_counts_ribo', 'log1p_total_counts_ribo', 'pct_counts_ribo', 'n_genes', 'total_counts_mito', 'total_counts_norm', 'original_Library', 'original_Brain_Region', 'original_Level_1_cell_type', 'original_Level_2_cell_type', 'original_cellclass_lvl1', 'original_subclass_lvl3_1', 'original_cellclass_lvl1_n', 'original_lineage', 'original_subclass_lvl2', 'original_celltype_lvl3', 'donor', 'original_supercluster_term', 'original_cluster_id', 'original_subcluster_id', 'original_celltype', 'cell_type_lvl1', 'cell_type_lvl2', 'cell_type_lvl3', '_scvi_batch', '_scvi_labels', 'leiden', 'cell_type_low_res', 'cell_type_high_res', 'harmonized_cell_type', 'harmonized_cell_type_unfiltered_scvi', 'harmonized_cell_type_uncert_scvi', 'harmonized_cell_type_filtered_02_scvi', 'harmonized_cell_type_unfiltered_harmony', 'harmonized_cell_type_uncert_harmony', 'harmonized_cell_type_filtered_02_harmony', 'harmonized_cell_type_unfiltered_scanorama', 'harmonized_cell_type_uncert_scanorama', 'harmonized_cell_type_filtered_02_scanorama'\n",
       "    var: 'highly_variable', 'means', 'dispersions', 'dispersions_norm', 'highly_variable_nbatches', 'highly_variable_intersection'\n",
       "    uns: '_scvi_manager_uuid', '_scvi_uuid', 'atlas_colors', 'harmonized_cell_type_filtered_02_harmony_colors', 'harmonized_cell_type_filtered_02_scanorama_colors', 'harmonized_cell_type_filtered_02_scvi_colors', 'hvg', 'leiden', 'log1p', 'neighbors', 'umap'\n",
       "    obsm: 'X_pca', 'X_pca_harmony', 'X_scVI', 'X_scVI_MDE', 'X_scanorama', 'X_umap'\n",
       "    layers: 'counts'\n",
       "    obsp: 'connectivities', 'distances'"
      ]
     },
     "execution_count": 50,
     "metadata": {},
     "output_type": "execute_result"
    }
   ],
   "source": [
    "integrated"
   ]
  },
  {
   "cell_type": "code",
   "execution_count": 49,
   "id": "b8d03e6b",
   "metadata": {},
   "outputs": [
    {
     "data": {
      "text/plain": [
       "AnnData object with n_obs × n_vars = 507763 × 2000\n",
       "    obs: 'species', 'gender', 'age', 'instrument', 'technology', 'atlas', 'sample', 'batch_1', 'doublet_score', 'predicted_doublet', 'n_genes_by_counts', 'log1p_n_genes_by_counts', 'total_counts', 'log1p_total_counts', 'total_counts_mt', 'log1p_total_counts_mt', 'pct_counts_mt', 'total_counts_ribo', 'log1p_total_counts_ribo', 'pct_counts_ribo', 'n_genes', 'total_counts_mito', 'total_counts_norm', 'original_Library', 'original_Brain_Region', 'original_Level_1_cell_type', 'original_Level_2_cell_type', 'original_cellclass_lvl1', 'original_subclass_lvl3_1', 'original_cellclass_lvl1_n', 'original_lineage', 'original_subclass_lvl2', 'original_celltype_lvl3', 'donor', 'original_supercluster_term', 'original_cluster_id', 'original_subcluster_id', 'original_celltype', 'cell_type_lvl1', 'cell_type_lvl2', 'cell_type_lvl3', '_scvi_batch', '_scvi_labels', 'leiden', 'cell_type_low_res', 'cell_type_high_res', 'harmonized_cell_type', 'harmonized_lowest_unfiltered_scvi', 'harmonized_lowest_uncert_scvi', 'harmonized_lowest_filtered_02_scvi', 'cell_type_lowest_res', 'cell_type_med_res', 'harmonized_lowest', 'harmonized_lowest_predicted'\n",
       "    var: 'highly_variable', 'means', 'dispersions', 'dispersions_norm', 'highly_variable_nbatches', 'highly_variable_intersection'\n",
       "    uns: '_scvi_manager_uuid', '_scvi_uuid', 'atlas_colors', 'hvg', 'leiden', 'log1p', 'neighbors', 'umap'\n",
       "    obsm: 'X_pca', 'X_pca_harmony', 'X_scVI', 'X_scVI_MDE', 'X_scanorama', 'X_umap'\n",
       "    layers: 'counts'\n",
       "    obsp: 'connectivities', 'distances'"
      ]
     },
     "execution_count": 49,
     "metadata": {},
     "output_type": "execute_result"
    }
   ],
   "source": [
    "annotation"
   ]
  },
  {
   "cell_type": "code",
   "execution_count": 56,
   "id": "e2772ff6",
   "metadata": {},
   "outputs": [],
   "source": [
    "a=sc.read_h5ad('/home/hers_basak/jjiang/jack/outputs/deliverables/5_integration/data/scvi/models/scvi_model_final/adata_predicted_lowest.h5ad')"
   ]
  },
  {
   "cell_type": "code",
   "execution_count": 62,
   "id": "bacb6883",
   "metadata": {},
   "outputs": [],
   "source": [
    "adata_complete.obs['harmonized_lowest_filtered_02_scvi']=a.obs['harmonized_lowest_filtered_02_scvi']"
   ]
  },
  {
   "cell_type": "code",
   "execution_count": 60,
   "id": "d9e5ef01",
   "metadata": {},
   "outputs": [],
   "source": [
    "b=a[a.obs['harmonized_lowest_filtered_02_scvi']!='Unknown']"
   ]
  },
  {
   "cell_type": "code",
   "execution_count": 63,
   "id": "49bec43f",
   "metadata": {},
   "outputs": [],
   "source": [
    "adata_complete_filtered=adata_complete[adata_complete.obs['harmonized_lowest_filtered_02_scvi']!='Unknown']"
   ]
  },
  {
   "cell_type": "code",
   "execution_count": 64,
   "id": "bc70c98b",
   "metadata": {},
   "outputs": [
    {
     "data": {
      "text/plain": [
       "View of AnnData object with n_obs × n_vars = 507763 × 45433\n",
       "    obs: 'species', 'gender', 'age', 'instrument', 'technology', 'atlas', 'sample', 'batch_1', 'doublet_score', 'predicted_doublet', 'n_genes_by_counts', 'log1p_n_genes_by_counts', 'total_counts', 'log1p_total_counts', 'total_counts_mt', 'log1p_total_counts_mt', 'pct_counts_mt', 'total_counts_ribo', 'log1p_total_counts_ribo', 'pct_counts_ribo', 'n_genes', 'total_counts_mito', 'total_counts_norm', 'original_Library', 'original_Brain_Region', 'original_Level_1_cell_type', 'original_Level_2_cell_type', 'original_cellclass_lvl1', 'original_subclass_lvl3_1', 'original_cellclass_lvl1_n', 'original_lineage', 'original_subclass_lvl2', 'original_celltype_lvl3', 'donor', 'original_supercluster_term', 'original_cluster_id', 'original_subcluster_id', 'original_celltype', 'cell_type_lvl1', 'cell_type_lvl2', 'cell_type_lvl3', 'harmonized_lowest_filtered_02_scvi'\n",
       "    obsm: 'X_pca', 'X_pca_harmony', 'X_umap'"
      ]
     },
     "execution_count": 64,
     "metadata": {},
     "output_type": "execute_result"
    }
   ],
   "source": [
    "adata_complete_filtered"
   ]
  },
  {
   "cell_type": "code",
   "execution_count": 65,
   "id": "bde591f9",
   "metadata": {},
   "outputs": [
    {
     "name": "stderr",
     "output_type": "stream",
     "text": [
      "/home/hers_basak/jjiang/jack/miniconda/envs/scarches2/lib/python3.9/site-packages/scanpy/preprocessing/_highly_variable_genes.py:215: FutureWarning: The default of observed=False is deprecated and will be changed to True in a future version of pandas. Pass observed=False to retain current behavior or observed=True to adopt the future default and silence this warning.\n",
      "  disp_grouped = df.groupby('mean_bin')['dispersions']\n",
      "/home/hers_basak/jjiang/jack/miniconda/envs/scarches2/lib/python3.9/site-packages/scanpy/preprocessing/_highly_variable_genes.py:215: FutureWarning: The default of observed=False is deprecated and will be changed to True in a future version of pandas. Pass observed=False to retain current behavior or observed=True to adopt the future default and silence this warning.\n",
      "  disp_grouped = df.groupby('mean_bin')['dispersions']\n",
      "/home/hers_basak/jjiang/jack/miniconda/envs/scarches2/lib/python3.9/site-packages/scanpy/preprocessing/_highly_variable_genes.py:215: FutureWarning: The default of observed=False is deprecated and will be changed to True in a future version of pandas. Pass observed=False to retain current behavior or observed=True to adopt the future default and silence this warning.\n",
      "  disp_grouped = df.groupby('mean_bin')['dispersions']\n",
      "/home/hers_basak/jjiang/jack/miniconda/envs/scarches2/lib/python3.9/site-packages/scanpy/preprocessing/_highly_variable_genes.py:215: FutureWarning: The default of observed=False is deprecated and will be changed to True in a future version of pandas. Pass observed=False to retain current behavior or observed=True to adopt the future default and silence this warning.\n",
      "  disp_grouped = df.groupby('mean_bin')['dispersions']\n",
      "/home/hers_basak/jjiang/jack/miniconda/envs/scarches2/lib/python3.9/site-packages/scanpy/preprocessing/_highly_variable_genes.py:215: FutureWarning: The default of observed=False is deprecated and will be changed to True in a future version of pandas. Pass observed=False to retain current behavior or observed=True to adopt the future default and silence this warning.\n",
      "  disp_grouped = df.groupby('mean_bin')['dispersions']\n",
      "/home/hers_basak/jjiang/jack/miniconda/envs/scarches2/lib/python3.9/site-packages/scanpy/preprocessing/_highly_variable_genes.py:215: FutureWarning: The default of observed=False is deprecated and will be changed to True in a future version of pandas. Pass observed=False to retain current behavior or observed=True to adopt the future default and silence this warning.\n",
      "  disp_grouped = df.groupby('mean_bin')['dispersions']\n",
      "/home/hers_basak/jjiang/jack/miniconda/envs/scarches2/lib/python3.9/site-packages/scanpy/preprocessing/_highly_variable_genes.py:494: FutureWarning: The provided callable <function nanmean at 0x7f7b4fee9040> is currently using SeriesGroupBy.mean. In a future version of pandas, the provided callable will be used directly. To keep current behavior pass the string \"mean\" instead.\n",
      "  df = df.groupby('gene').agg(\n",
      "/home/hers_basak/jjiang/jack/miniconda/envs/scarches2/lib/python3.9/site-packages/scanpy/preprocessing/_highly_variable_genes.py:494: FutureWarning: The provided callable <function nanmean at 0x7f7b4fee9040> is currently using SeriesGroupBy.mean. In a future version of pandas, the provided callable will be used directly. To keep current behavior pass the string \"mean\" instead.\n",
      "  df = df.groupby('gene').agg(\n",
      "/home/hers_basak/jjiang/jack/miniconda/envs/scarches2/lib/python3.9/site-packages/scanpy/preprocessing/_highly_variable_genes.py:494: FutureWarning: The provided callable <function nansum at 0x7f7b4fee0b80> is currently using SeriesGroupBy.sum. In a future version of pandas, the provided callable will be used directly. To keep current behavior pass the string \"sum\" instead.\n",
      "  df = df.groupby('gene').agg(\n",
      "/home/hers_basak/jjiang/jack/miniconda/envs/scarches2/lib/python3.9/site-packages/scanpy/preprocessing/_highly_variable_genes.py:539: ImplicitModificationWarning: Trying to modify attribute `._uns` of view, initializing view as actual.\n",
      "  adata.uns['hvg'] = {'flavor': flavor}\n"
     ]
    }
   ],
   "source": [
    "sc.pp.highly_variable_genes(\n",
    "    adata_complete_filtered,\n",
    "    n_top_genes=5000,\n",
    "    batch_key=\"atlas\",\n",
    "    subset=True)"
   ]
  },
  {
   "cell_type": "code",
   "execution_count": 66,
   "id": "6424e5f0",
   "metadata": {},
   "outputs": [],
   "source": [
    "for i in ['cell_type_low_res', 'cell_type_high_res', 'harmonized_cell_type', 'harmonized_lowest_unfiltered_scvi', 'harmonized_lowest_uncert_scvi', 'harmonized_lowest_filtered_02_scvi', 'cell_type_lowest_res', 'cell_type_med_res', 'harmonized_lowest', 'harmonized_lowest_predicted']:\n",
    "    adata_complete_filtered.obs[i]=annotation.obs[i]"
   ]
  },
  {
   "cell_type": "code",
   "execution_count": 67,
   "id": "39586398",
   "metadata": {},
   "outputs": [],
   "source": [
    "adata_complete_filtered.obsm['X_scVI']=annotation.obsm['X_scVI']"
   ]
  },
  {
   "cell_type": "code",
   "execution_count": 68,
   "id": "48dbec77",
   "metadata": {},
   "outputs": [],
   "source": [
    "adata_complete_filtered.write('/home/hers_basak/jjiang/jack/outputs/deliverables/5_integration/data/scvi/models/scvi_model_final/adata_predicted_lowest_filtered_5k.h5ad')"
   ]
  },
  {
   "cell_type": "markdown",
   "id": "2f671c30",
   "metadata": {},
   "source": [
    "# neuron only dataset for integration\n",
    "Adata filtered contains the annotation for all predicted neurons, but it is also filtered on the top 2k hvg based on all cells rather than based on the neurons. Here we subset the neurons, filter on hvg and prepare it for integration"
   ]
  },
  {
   "cell_type": "code",
   "execution_count": 4,
   "id": "f903823b",
   "metadata": {},
   "outputs": [],
   "source": [
    "adata_filtered=sc.read_h5ad('/home/hers_basak/jjiang/jack/outputs/deliverables/5_integration/data/scvi/models/scvi_model_final/adata_predicted_lowest.h5ad')"
   ]
  },
  {
   "cell_type": "code",
   "execution_count": 5,
   "id": "537e7225",
   "metadata": {},
   "outputs": [],
   "source": [
    "adata_complete= sc.read_h5ad('/home/hers_basak/jjiang/jack/outputs/deliverables/5_integration/data/complete_base.h5ad')"
   ]
  },
  {
   "cell_type": "code",
   "execution_count": 6,
   "id": "18b63d27",
   "metadata": {},
   "outputs": [
    {
     "data": {
      "text/plain": [
       "AnnData object with n_obs × n_vars = 522220 × 2000\n",
       "    obs: 'species', 'gender', 'age', 'instrument', 'technology', 'atlas', 'sample', 'batch_1', 'doublet_score', 'predicted_doublet', 'n_genes_by_counts', 'log1p_n_genes_by_counts', 'total_counts', 'log1p_total_counts', 'total_counts_mt', 'log1p_total_counts_mt', 'pct_counts_mt', 'total_counts_ribo', 'log1p_total_counts_ribo', 'pct_counts_ribo', 'n_genes', 'total_counts_mito', 'total_counts_norm', 'original_Library', 'original_Brain_Region', 'original_Level_1_cell_type', 'original_Level_2_cell_type', 'original_cellclass_lvl1', 'original_subclass_lvl3_1', 'original_cellclass_lvl1_n', 'original_lineage', 'original_subclass_lvl2', 'original_celltype_lvl3', 'donor', 'original_supercluster_term', 'original_cluster_id', 'original_subcluster_id', 'original_celltype', 'cell_type_lvl1', 'cell_type_lvl2', 'cell_type_lvl3', '_scvi_batch', '_scvi_labels', 'leiden', 'cell_type_low_res', 'cell_type_high_res', 'harmonized_cell_type', 'harmonized_lowest_unfiltered_scvi', 'harmonized_lowest_uncert_scvi', 'harmonized_lowest_filtered_02_scvi'\n",
       "    var: 'highly_variable', 'means', 'dispersions', 'dispersions_norm', 'highly_variable_nbatches', 'highly_variable_intersection'\n",
       "    uns: '_scvi_manager_uuid', '_scvi_uuid', 'atlas_colors', 'harmonized_cell_type_filtered_02_harmony_colors', 'harmonized_cell_type_filtered_02_scanorama_colors', 'harmonized_cell_type_filtered_02_scvi_colors', 'hvg', 'leiden', 'log1p', 'neighbors', 'umap'\n",
       "    obsm: 'X_pca', 'X_pca_harmony', 'X_scVI', 'X_scVI_MDE', 'X_scanorama', 'X_umap'\n",
       "    layers: 'counts'\n",
       "    obsp: 'connectivities', 'distances'"
      ]
     },
     "execution_count": 6,
     "metadata": {},
     "output_type": "execute_result"
    }
   ],
   "source": [
    "adata_filtered"
   ]
  },
  {
   "cell_type": "code",
   "execution_count": 7,
   "id": "7b23158f",
   "metadata": {},
   "outputs": [],
   "source": [
    "adata_complete.obs['harmonized_lowest_filtered_02_scvi']=adata_filtered.obs['harmonized_lowest_filtered_02_scvi']"
   ]
  },
  {
   "cell_type": "code",
   "execution_count": 8,
   "id": "640fe874",
   "metadata": {
    "scrolled": true
   },
   "outputs": [],
   "source": [
    "adata_neuron=adata_complete[adata_complete.obs['harmonized_lowest_filtered_02_scvi']=='NEUR-siletti']"
   ]
  },
  {
   "cell_type": "code",
   "execution_count": 16,
   "id": "6b80fd11",
   "metadata": {},
   "outputs": [
    {
     "name": "stdout",
     "output_type": "stream",
     "text": [
      "['agarwal:265', 'altena:1717', 'siletti:141408', 'smajic:3190', 'welch:4534', 'wang:6130']\n"
     ]
    }
   ],
   "source": [
    "atlas_all=adata_neuron.obs['atlas'].tolist()\n",
    "distribution=[]\n",
    "for i in adata_neuron.obs['atlas'].unique():\n",
    "    distribution.append(i+':'+str(atlas_all.count(i)))\n",
    "print(distribution)"
   ]
  },
  {
   "cell_type": "code",
   "execution_count": 35,
   "id": "6cd1b312",
   "metadata": {},
   "outputs": [
    {
     "data": {
      "text/plain": [
       "AnnData object with n_obs × n_vars = 129046 × 5000\n",
       "    obs: 'species', 'gender', 'age', 'instrument', 'technology', 'atlas', 'sample', 'batch_1', 'doublet_score', 'predicted_doublet', 'n_genes_by_counts', 'log1p_n_genes_by_counts', 'total_counts', 'log1p_total_counts', 'total_counts_mt', 'log1p_total_counts_mt', 'pct_counts_mt', 'total_counts_ribo', 'log1p_total_counts_ribo', 'pct_counts_ribo', 'n_genes', 'total_counts_mito', 'total_counts_norm', 'original_Library', 'original_Brain_Region', 'original_Level_1_cell_type', 'original_Level_2_cell_type', 'original_cellclass_lvl1', 'original_subclass_lvl3_1', 'original_cellclass_lvl1_n', 'original_lineage', 'original_subclass_lvl2', 'original_celltype_lvl3', 'donor', 'original_supercluster_term', 'original_cluster_id', 'original_subcluster_id', 'original_celltype', 'cell_type_lvl1', 'cell_type_lvl2', 'cell_type_lvl3', 'harmonized_lowest_filtered_02_scvi', 'cell_type_lowest_res', 'cell_type_low_res', 'cell_type_med_res', 'cell_type_high_res'\n",
       "    var: 'highly_variable', 'means', 'dispersions', 'dispersions_norm', 'highly_variable_nbatches', 'highly_variable_intersection'\n",
       "    uns: 'hvg'\n",
       "    obsm: 'X_pca', 'X_pca_harmony', 'X_umap'"
      ]
     },
     "execution_count": 35,
     "metadata": {},
     "output_type": "execute_result"
    }
   ],
   "source": [
    "adata_neuron_all"
   ]
  },
  {
   "cell_type": "code",
   "execution_count": 11,
   "id": "52533a59",
   "metadata": {},
   "outputs": [],
   "source": [
    "\n",
    "adata_neuron_all=adata_neuron[adata_neuron.obs['cell_type_lowest_res'].isin(['NEUR-siletti', 'NEURO-welch', 'Neuron-agarwal', 'Neuron-altena', 'Neuron-smajic'])]"
   ]
  },
  {
   "cell_type": "code",
   "execution_count": 12,
   "id": "59d5186c",
   "metadata": {},
   "outputs": [
    {
     "name": "stderr",
     "output_type": "stream",
     "text": [
      "/home/hers_basak/jjiang/jack/miniconda/envs/scarches2/lib/python3.9/site-packages/anndata/_core/anndata.py:1294: ImplicitModificationWarning: Trying to modify attribute `.obs` of view, initializing view as actual.\n",
      "  df[key] = c\n",
      "/home/hers_basak/jjiang/jack/miniconda/envs/scarches2/lib/python3.9/site-packages/anndata/_core/anndata.py:1294: ImplicitModificationWarning: Trying to modify attribute `.obs` of view, initializing view as actual.\n",
      "  df[key] = c\n",
      "/home/hers_basak/jjiang/jack/miniconda/envs/scarches2/lib/python3.9/site-packages/anndata/_core/anndata.py:1294: ImplicitModificationWarning: Trying to modify attribute `.obs` of view, initializing view as actual.\n",
      "  df[key] = c\n",
      "/home/hers_basak/jjiang/jack/miniconda/envs/scarches2/lib/python3.9/site-packages/anndata/_core/anndata.py:1294: ImplicitModificationWarning: Trying to modify attribute `.obs` of view, initializing view as actual.\n",
      "  df[key] = c\n",
      "/home/hers_basak/jjiang/jack/miniconda/envs/scarches2/lib/python3.9/site-packages/scanpy/preprocessing/_highly_variable_genes.py:215: FutureWarning: The default of observed=False is deprecated and will be changed to True in a future version of pandas. Pass observed=False to retain current behavior or observed=True to adopt the future default and silence this warning.\n",
      "  disp_grouped = df.groupby('mean_bin')['dispersions']\n",
      "/home/hers_basak/jjiang/jack/miniconda/envs/scarches2/lib/python3.9/site-packages/scanpy/preprocessing/_highly_variable_genes.py:215: FutureWarning: The default of observed=False is deprecated and will be changed to True in a future version of pandas. Pass observed=False to retain current behavior or observed=True to adopt the future default and silence this warning.\n",
      "  disp_grouped = df.groupby('mean_bin')['dispersions']\n",
      "/home/hers_basak/jjiang/jack/miniconda/envs/scarches2/lib/python3.9/site-packages/scanpy/preprocessing/_highly_variable_genes.py:215: FutureWarning: The default of observed=False is deprecated and will be changed to True in a future version of pandas. Pass observed=False to retain current behavior or observed=True to adopt the future default and silence this warning.\n",
      "  disp_grouped = df.groupby('mean_bin')['dispersions']\n",
      "/home/hers_basak/jjiang/jack/miniconda/envs/scarches2/lib/python3.9/site-packages/scanpy/preprocessing/_highly_variable_genes.py:215: FutureWarning: The default of observed=False is deprecated and will be changed to True in a future version of pandas. Pass observed=False to retain current behavior or observed=True to adopt the future default and silence this warning.\n",
      "  disp_grouped = df.groupby('mean_bin')['dispersions']\n",
      "/home/hers_basak/jjiang/jack/miniconda/envs/scarches2/lib/python3.9/site-packages/scanpy/preprocessing/_highly_variable_genes.py:215: FutureWarning: The default of observed=False is deprecated and will be changed to True in a future version of pandas. Pass observed=False to retain current behavior or observed=True to adopt the future default and silence this warning.\n",
      "  disp_grouped = df.groupby('mean_bin')['dispersions']\n",
      "/home/hers_basak/jjiang/jack/miniconda/envs/scarches2/lib/python3.9/site-packages/scanpy/preprocessing/_highly_variable_genes.py:494: FutureWarning: The provided callable <function nanmean at 0x7f5bc8331040> is currently using SeriesGroupBy.mean. In a future version of pandas, the provided callable will be used directly. To keep current behavior pass the string \"mean\" instead.\n",
      "  df = df.groupby('gene').agg(\n",
      "/home/hers_basak/jjiang/jack/miniconda/envs/scarches2/lib/python3.9/site-packages/scanpy/preprocessing/_highly_variable_genes.py:494: FutureWarning: The provided callable <function nanmean at 0x7f5bc8331040> is currently using SeriesGroupBy.mean. In a future version of pandas, the provided callable will be used directly. To keep current behavior pass the string \"mean\" instead.\n",
      "  df = df.groupby('gene').agg(\n",
      "/home/hers_basak/jjiang/jack/miniconda/envs/scarches2/lib/python3.9/site-packages/scanpy/preprocessing/_highly_variable_genes.py:494: FutureWarning: The provided callable <function nansum at 0x7f5bc8326b80> is currently using SeriesGroupBy.sum. In a future version of pandas, the provided callable will be used directly. To keep current behavior pass the string \"sum\" instead.\n",
      "  df = df.groupby('gene').agg(\n"
     ]
    }
   ],
   "source": [
    "sc.pp.highly_variable_genes(adata_neuron_all,\n",
    "n_top_genes=5000,\n",
    "batch_key=\"atlas\",\n",
    "subset=True)\n"
   ]
  },
  {
   "cell_type": "code",
   "execution_count": 9,
   "id": "7622febd",
   "metadata": {},
   "outputs": [],
   "source": [
    "def prepare_labels(adata):    \n",
    "    low=adata.obs['cell_type_lvl1'].tolist()\n",
    "    med=adata.obs['cell_type_lvl2'].tolist()\n",
    "    high=adata.obs['cell_type_lvl3'].tolist()\n",
    "    atlas=adata.obs['atlas'].tolist()\n",
    "\n",
    "    siletti_supercluster=['Miscellaneous', 'Microglia', 'Vascular', 'Fibroblast', 'Oligodendrocyte precursor', 'Committed oligodendrocyte precursor', 'Oligodendrocyte', 'Bergmann glia', 'Astrocyte', 'Ependymal', 'Choroid plexus', 'Deep-layer near-projecting', 'Deep-layer corticothalamic and 6b', 'Hippocampal CA1-3', 'Upper-layer intratelencephalic', 'Deep-layer intratelencephalic', 'Amygdala excitatory', 'Hippocampal CA4', 'Hippocampal dentate gyrus', 'Medium spiny neuron', 'Eccentric medium spiny neuron', 'Splatter', 'MGE interneuron', 'LAMP5-LHX6 and Chandelier', 'CGE interneuron', 'Upper rhombic lip', 'Cerebellar inhibitory', 'Lower rhombic lip', 'Mammillary body', 'Thalamic excitatory', 'Midbrain-derived inhibitory']\n",
    "    siletti_class=['MISC', 'MGL', 'ENDO', 'FIB', 'OPC', 'OLIGO', 'OLIGO', 'ASTRO', 'ASTRO', 'EPEN', 'CHRP', 'NEUR', 'NEUR', 'NEUR', 'NEUR', 'NEUR', 'NEUR', 'NEUR', 'NEUR', 'NEUR', 'NEUR', 'NEUR', 'NEUR','NEUR', 'NEUR', 'NEUR', 'NEUR', 'NEUR', 'NEUR', 'NEUR', 'NEUR']\n",
    "\n",
    "    cell_type_lowest_res = list()\n",
    "    cell_type_low_res = list()\n",
    "    cell_type_med_res = list()\n",
    "    cell_type_high_res = list()\n",
    "\n",
    "    for i in range(len(adata.obs_names)):\n",
    "        if low[i] in ['','None']:\n",
    "            cell_type_lowest_res.append('Unknown') #lowest\n",
    "            cell_type_low_res.append('Unknown') #low\n",
    "            cell_type_med_res.append('Unknown') #med\n",
    "            cell_type_high_res.append('Unknown') #high\n",
    "        else:\n",
    "            \n",
    "            cell_type_low_res.append(str(low[i]).replace('_','-')) #low\n",
    "\n",
    "            if atlas[i]!='siletti':\n",
    "                if high[i]!= '':\n",
    "                    cell_type_high_res.append(str(high[i]).replace('_','-'))\n",
    "                    cell_type_med_res.append(str(high[i]).replace('_','-'))\n",
    "                elif med[i]!= '':\n",
    "                    cell_type_high_res.append(str(med[i]).replace('_','-'))\n",
    "                    cell_type_med_res.append(str(med[i]).replace('_','-'))\n",
    "                else:\n",
    "                    cell_type_high_res.append(str(low[i]).replace('_','-'))\n",
    "                    cell_type_med_res.append(str(low[i]).replace('_','-'))\n",
    "\n",
    "            if atlas[i]=='siletti':\n",
    "                cell_index=siletti_supercluster.index(low[i])\n",
    "                cell_type_lowest_res.append(str(siletti_class[cell_index]).replace('_','-'))#lowest\n",
    "                cell_type_high_res.append(str(high[i]).replace('_','-'))#high\n",
    "                cell_type_med_res.append(str(med[i]).replace('_','-'))#med\n",
    "            elif atlas[i]=='welch':\n",
    "\n",
    "                if 'ASTRO' in low[i]:\n",
    "                    cell_type_lowest_res.append('ASTRO')#lowest\n",
    "                elif 'ENDO' in low[i]:\n",
    "                    cell_type_lowest_res.append('ENDO')#lowest\n",
    "                elif 'NEURO' in low[i]:\n",
    "                    cell_type_lowest_res.append('NEURO')#lowest\n",
    "                elif 'OLIGO' in low[i]:\n",
    "                    cell_type_lowest_res.append('OLIGO')#lowest\n",
    "                elif 'OPC' in low[i]:\n",
    "                    cell_type_lowest_res.append('OPC')#lowest\n",
    "                elif 'MG' in low[i]:\n",
    "                    cell_type_lowest_res.append('MG')#lowest\n",
    "            elif atlas[i]=='smajic':\n",
    "                if 'DaNs' in low[i]:\n",
    "                    cell_type_lowest_res.append('Neuron')#lowest\n",
    "                elif 'CADPS2+ neurons' in low[i]:\n",
    "                    cell_type_lowest_res.append('Neuron')#lowest\n",
    "                elif 'Excitatory' in low[i]:\n",
    "                    cell_type_lowest_res.append('Neuron')#lowest\n",
    "                elif 'GABA' in low[i]:\n",
    "                    cell_type_lowest_res.append('Neuron')#lowest\n",
    "                elif 'Inhibitory' in low[i]:\n",
    "                    cell_type_lowest_res.append('Neuron')#lowest\n",
    "                else:\n",
    "                    cell_type_lowest_res.append(low[i])#lowest\n",
    "            elif atlas[i]=='agarwal':\n",
    "                if 'DaN' in low[i]:\n",
    "                    cell_type_lowest_res.append('Neuron')#lowest\n",
    "                elif 'GABA neurons' in low[i]:\n",
    "                    cell_type_lowest_res.append('Neuron')#lowest\n",
    "                else:\n",
    "                    cell_type_lowest_res.append(low[i])#lowest\n",
    "            else:\n",
    "                cell_type_lowest_res.append(str(low[i]).replace('_','-'))#lowest\n",
    "                #high and med\n",
    "\n",
    "\n",
    "    adata.obs['cell_type_lowest_res'] = cell_type_lowest_res\n",
    "    adata.obs['cell_type_low_res'] = cell_type_low_res\n",
    "    adata.obs['cell_type_med_res'] = cell_type_med_res\n",
    "    adata.obs['cell_type_high_res'] = cell_type_high_res\n",
    "\n",
    "    adata.obs['cell_type_high_res'] = np.char.add(np.char.add(np.array(adata.obs['cell_type_high_res'], dtype= str), '-'),\n",
    "                                                 np.array(adata.obs['atlas'], dtype=str))\n",
    "\n",
    "    adata.obs['cell_type_med_res'] = np.char.add(np.char.add(np.array(adata.obs['cell_type_med_res'], dtype= str), '-'),\n",
    "                                                 np.array(adata.obs['atlas'], dtype=str))\n",
    "\n",
    "    adata.obs['cell_type_low_res'] = np.char.add(np.char.add(np.array(adata.obs['cell_type_low_res'], dtype= str), '-'),\n",
    "                                                 np.array(adata.obs['atlas'], dtype=str))\n",
    "\n",
    "    adata.obs['cell_type_lowest_res'] = np.char.add(np.char.add(np.array(adata.obs['cell_type_lowest_res'], dtype= str), '-'),\n",
    "                                                 np.array(adata.obs['atlas'], dtype=str))\n"
   ]
  },
  {
   "cell_type": "code",
   "execution_count": 10,
   "id": "887cb541",
   "metadata": {},
   "outputs": [
    {
     "name": "stderr",
     "output_type": "stream",
     "text": [
      "/scratch/12219713/ipykernel_1925839/1405588344.py:80: ImplicitModificationWarning: Trying to modify attribute `.obs` of view, initializing view as actual.\n",
      "  adata.obs['cell_type_lowest_res'] = cell_type_lowest_res\n"
     ]
    }
   ],
   "source": [
    "prepare_labels(adata_neuron)"
   ]
  },
  {
   "cell_type": "code",
   "execution_count": 31,
   "id": "758f3dc4",
   "metadata": {},
   "outputs": [
    {
     "name": "stdout",
     "output_type": "stream",
     "text": [
      "  (0, 2295)\t0.63496566\n",
      "  (0, 1373)\t0.36705592\n",
      "  (0, 2904)\t0.36705592\n",
      "  (0, 2903)\t0.8460554\n",
      "  (0, 3016)\t0.36705592\n",
      "  (0, 3751)\t0.63496566\n",
      "  (0, 3370)\t0.36705592\n",
      "  (0, 2683)\t0.63496566\n",
      "  (0, 413)\t1.51465\n",
      "  (0, 4476)\t0.36705592\n",
      "  (0, 4159)\t0.36705592\n",
      "  (0, 1689)\t1.607698\n",
      "  (0, 4312)\t0.36705592\n",
      "  (0, 1811)\t1.1685715\n",
      "  (0, 3027)\t0.63496566\n",
      "  (0, 1026)\t0.63496566\n",
      "  (0, 2969)\t0.36705592\n",
      "  (0, 3418)\t1.1685715\n",
      "  (0, 3740)\t0.8460554\n",
      "  (0, 4346)\t1.4120475\n",
      "  (0, 4967)\t0.36705592\n",
      "  (0, 4067)\t0.63496566\n",
      "  (0, 2228)\t1.4120475\n",
      "  (0, 1554)\t0.63496566\n",
      "  (0, 817)\t1.51465\n",
      "  :\t:\n",
      "  (157243, 3221)\t2.8923573\n",
      "  (157243, 3042)\t2.8923573\n",
      "  (157243, 1484)\t2.8923573\n",
      "  (157243, 4574)\t2.8923573\n",
      "  (157243, 4495)\t2.8923573\n",
      "  (157243, 810)\t2.8923573\n",
      "  (157243, 3657)\t2.8923573\n",
      "  (157243, 3484)\t2.8923573\n",
      "  (157243, 4539)\t2.8923573\n",
      "  (157243, 4240)\t2.8923573\n",
      "  (157243, 3439)\t4.2361784\n",
      "  (157243, 3319)\t2.8923573\n",
      "  (157243, 1234)\t2.8923573\n",
      "  (157243, 2359)\t3.5573902\n",
      "  (157243, 1952)\t2.8923573\n",
      "  (157243, 1542)\t2.8923573\n",
      "  (157243, 4570)\t2.8923573\n",
      "  (157243, 1604)\t2.8923573\n",
      "  (157243, 3426)\t2.8923573\n",
      "  (157243, 894)\t2.8923573\n",
      "  (157243, 893)\t2.8923573\n",
      "  (157243, 4563)\t2.8923573\n",
      "  (157243, 1761)\t2.8923573\n",
      "  (157243, 3939)\t2.8923573\n",
      "  (157243, 3937)\t2.8923573\n"
     ]
    }
   ],
   "source": [
    "adata_neuron.obsm['X_scVI']=adata_neuron_hvg.obsm['X_scVI']"
   ]
  },
  {
   "cell_type": "code",
   "execution_count": 11,
   "id": "b0c0b6ba",
   "metadata": {},
   "outputs": [],
   "source": [
    "adata_neuron.write('/home/hers_basak/jjiang/jack/outputs/deliverables/5_integration/data/scvi/models/scvi_model_final_neuron_all/adata_5k.h5ad')"
   ]
  },
  {
   "cell_type": "code",
   "execution_count": 42,
   "id": "707a7aff",
   "metadata": {},
   "outputs": [],
   "source": [
    "adata_neuron.layers['normalized']=adata_neuron.X\n",
    "adata_neuron.X=adata_neuron.raw[:, adata_neuron.var_names].X\n"
   ]
  },
  {
   "cell_type": "code",
   "execution_count": 45,
   "id": "344966ca",
   "metadata": {},
   "outputs": [],
   "source": [
    "adata_neuron.write('/home/hers_basak/jjiang/jack/outputs/deliverables/5_integration/data/scvi/models/scvi_model_final/adata_predicted_neuron_all_hvgaftersplit.h5ad')"
   ]
  },
  {
   "cell_type": "code",
   "execution_count": 15,
   "id": "5929e7bb",
   "metadata": {},
   "outputs": [],
   "source": [
    "adata_neuron=sc.read_h5ad('/home/hers_basak/jjiang/jack/outputs/deliverables/5_integration/data/scvi/models/scvi_model_final/adata_predicted_neuron_all_hvgaftersplit.h5ad')"
   ]
  },
  {
   "cell_type": "code",
   "execution_count": 22,
   "id": "6391eb6b",
   "metadata": {},
   "outputs": [
    {
     "data": {
      "text/plain": [
       "{'ASTRO-siletti',\n",
       " 'Astrocytes-agarwal',\n",
       " 'MGL-siletti',\n",
       " 'MISC-siletti',\n",
       " 'Microglia-agarwal',\n",
       " 'NEUR-siletti',\n",
       " 'NEURO-welch',\n",
       " 'Neuron-agarwal',\n",
       " 'Neuron-altena',\n",
       " 'Neuron-smajic',\n",
       " 'ODC-agarwal',\n",
       " 'OLIGO-siletti',\n",
       " 'OLIGO-welch',\n",
       " 'OPC-agarwal',\n",
       " 'OPC-siletti',\n",
       " 'OPC-welch',\n",
       " 'Unknown-agarwal',\n",
       " 'Unknown-altena',\n",
       " 'Unknown-siletti',\n",
       " 'Unknown-smajic',\n",
       " 'Unknown-wang',\n",
       " 'Unknown-welch'}"
      ]
     },
     "execution_count": 22,
     "metadata": {},
     "output_type": "execute_result"
    }
   ],
   "source": [
    "set(adata_neuron_hvg.obs['cell_type_lowest_res'].tolist())"
   ]
  },
  {
   "cell_type": "code",
   "execution_count": 12,
   "id": "a039d547",
   "metadata": {},
   "outputs": [],
   "source": [
    "adata_neuron_hvg=sc.read_h5ad('/home/hers_basak/jjiang/jack/outputs/deliverables/5_integration/data/scvi/models/scvi_model_final_neuron_all/adata.h5ad')"
   ]
  },
  {
   "cell_type": "markdown",
   "id": "021e558e",
   "metadata": {},
   "source": [
    "Prepare for scVI integration"
   ]
  },
  {
   "cell_type": "code",
   "execution_count": 13,
   "id": "7d529230",
   "metadata": {},
   "outputs": [
    {
     "name": "stderr",
     "output_type": "stream",
     "text": [
      "WARNING:root:In order to use the mouse gastrulation seqFISH datsets, please install squidpy (see https://github.com/scverse/squidpy).\n",
      "/home/hers_basak/jjiang/jack/miniconda/envs/scarches2/lib/python3.9/site-packages/scvi/_settings.py:63: UserWarning: Since v1.0.0, scvi-tools no longer uses a random seed by default. Run `scvi.settings.seed = 0` to reproduce results from previous versions.\n",
      "  self.seed = seed\n",
      "/home/hers_basak/jjiang/jack/miniconda/envs/scarches2/lib/python3.9/site-packages/scvi/_settings.py:70: UserWarning: Setting `dl_pin_memory_gpu_training` is deprecated in v1.0 and will be removed in v1.1. Please pass in `pin_memory` to the data loaders instead.\n",
      "  self.dl_pin_memory_gpu_training = (\n",
      "/home/hers_basak/jjiang/jack/miniconda/envs/scarches2/lib/python3.9/site-packages/tqdm/auto.py:21: TqdmWarning: IProgress not found. Please update jupyter and ipywidgets. See https://ipywidgets.readthedocs.io/en/stable/user_install.html\n",
      "  from .autonotebook import tqdm as notebook_tqdm\n",
      "WARNING:root:In order to use sagenet models, please install pytorch geometric (see https://pytorch-geometric.readthedocs.io) and \n",
      " captum (see https://github.com/pytorch/captum).\n",
      "WARNING:root:mvTCR is not installed. To use mvTCR models, please install it first using \"pip install mvtcr\"\n",
      "WARNING:root:multigrate is not installed. To use multigrate models, please install it first using \"pip install multigrate\".\n"
     ]
    },
    {
     "name": "stdout",
     "output_type": "stream",
     "text": [
      "\u001b[34mINFO    \u001b[0m File                                                                                                      \n",
      "         \u001b[35m/home/hers_basak/jjiang/jack/outputs/deliverables/5_integration/data/scvi/models/scvi_model_final_neuron_a\u001b[0m\n",
      "         \u001b[35mll/\u001b[0m\u001b[95mmodel.pt\u001b[0m already downloaded                                                                            \n"
     ]
    },
    {
     "name": "stderr",
     "output_type": "stream",
     "text": [
      "/home/hers_basak/jjiang/jack/miniconda/envs/scarches2/lib/python3.9/site-packages/lightning/fabric/plugins/environments/slurm.py:168: PossibleUserWarning: The `srun` command is available on your system but is not used. HINT: If your intention is to run Lightning on SLURM, prepend your python command with `srun` like so: srun python /home/hers_basak/jjiang/jack/miniconda/envs/scarches ...\n",
      "  rank_zero_warn(\n",
      "/home/hers_basak/jjiang/jack/miniconda/envs/scarches2/lib/python3.9/abc.py:119: FutureWarning: SparseDataset is deprecated and will be removed in late 2024. It has been replaced by the public classes CSRDataset and CSCDataset.\n",
      "\n",
      "For instance checks, use `isinstance(X, (anndata.experimental.CSRDataset, anndata.experimental.CSCDataset))` instead.\n",
      "\n",
      "For creation, use `anndata.experimental.sparse_dataset(X)` instead.\n",
      "\n",
      "  return _abc_instancecheck(cls, instance)\n",
      "WARNING:jax._src.xla_bridge:An NVIDIA GPU may be present on this machine, but a CUDA-enabled jaxlib is not installed. Falling back to cpu.\n"
     ]
    }
   ],
   "source": [
    "import scarches as sca\n",
    "vae = sca.models.SCVI.load('/home/hers_basak/jjiang/jack/outputs/deliverables/5_integration/data/scvi/models/scvi_model_final_neuron_all/',adata_neuron_hvg)"
   ]
  },
  {
   "cell_type": "code",
   "execution_count": 23,
   "id": "893345d9",
   "metadata": {},
   "outputs": [],
   "source": [
    "source_latent = sc.AnnData(vae.get_latent_representation())\n",
    "source_latent.obs[\"cell_type_lvl1\"] = adata_neuron.obs[\"cell_type_lvl1\"].tolist()\n",
    "source_latent.obs[\"cell_type_lvl2\"] = adata_neuron.obs[\"cell_type_lvl2\"].tolist()\n",
    "source_latent.obs[\"cell_type_lvl3\"] = adata_neuron.obs[\"cell_type_lvl3\"].tolist()\n",
    "source_latent.obs[\"sample\"] = adata_neuron.obs[\"sample\"].tolist()\n",
    "source_latent.obs[\"atlas\"] = adata_neuron.obs[\"atlas\"].tolist()\n",
    "source_latent.obs[\"species\"] = adata_neuron.obs[\"species\"].tolist()\n",
    "source_latent.obs[\"gender\"] = adata_neuron.obs[\"gender\"].tolist()\n",
    "source_latent.obs[\"age\"] = adata_neuron.obs[\"age\"].tolist()\n",
    "source_latent.obs[\"instrument\"] = adata_neuron.obs[\"instrument\"].tolist()\n",
    "source_latent.obs[\"technology\"] = adata_neuron.obs[\"technology\"].tolist()\n",
    "source_latent.obs[\"donor\"] = adata_neuron.obs[\"donor\"].tolist()\n",
    "source_latent.obs[\"cell_type_lowest_res\"] = adata_neuron.obs[\"cell_type_lowest_res\"].tolist()\n",
    "source_latent.obs[\"cell_type_low_res\"] = adata_neuron.obs[\"cell_type_low_res\"].tolist()\n",
    "source_latent.obs[\"cell_type_med_res\"] = adata_neuron.obs[\"cell_type_med_res\"].tolist()\n",
    "source_latent.obs[\"cell_type_high_res\"] = adata_neuron.obs[\"cell_type_high_res\"].tolist()\n",
    "\n",
    "source_latent=source_latent[source_latent.obs['cell_type_lowest_res'].isin(['NEUR-siletti', 'NEURO-welch', 'Neuron-agarwal', 'Neuron-altena', 'Neuron-smajic'])]"
   ]
  },
  {
   "cell_type": "code",
   "execution_count": 24,
   "id": "a44d0e85",
   "metadata": {},
   "outputs": [
    {
     "name": "stderr",
     "output_type": "stream",
     "text": [
      "/home/hers_basak/jjiang/jack/miniconda/envs/scarches2/lib/python3.9/site-packages/anndata/_core/anndata.py:1294: ImplicitModificationWarning: Trying to modify attribute `.obs` of view, initializing view as actual.\n",
      "  df[key] = c\n",
      "/home/hers_basak/jjiang/jack/miniconda/envs/scarches2/lib/python3.9/site-packages/anndata/_core/anndata.py:1294: ImplicitModificationWarning: Trying to modify attribute `.obs` of view, initializing view as actual.\n",
      "  df[key] = c\n",
      "/home/hers_basak/jjiang/jack/miniconda/envs/scarches2/lib/python3.9/site-packages/anndata/_core/anndata.py:1294: ImplicitModificationWarning: Trying to modify attribute `.obs` of view, initializing view as actual.\n",
      "  df[key] = c\n",
      "/home/hers_basak/jjiang/jack/miniconda/envs/scarches2/lib/python3.9/site-packages/anndata/_core/anndata.py:1294: ImplicitModificationWarning: Trying to modify attribute `.obs` of view, initializing view as actual.\n",
      "  df[key] = c\n",
      "/home/hers_basak/jjiang/jack/miniconda/envs/scarches2/lib/python3.9/site-packages/anndata/_core/anndata.py:1294: ImplicitModificationWarning: Trying to modify attribute `.obs` of view, initializing view as actual.\n",
      "  df[key] = c\n",
      "/home/hers_basak/jjiang/jack/miniconda/envs/scarches2/lib/python3.9/site-packages/anndata/_core/anndata.py:1294: ImplicitModificationWarning: Trying to modify attribute `.obs` of view, initializing view as actual.\n",
      "  df[key] = c\n",
      "/home/hers_basak/jjiang/jack/miniconda/envs/scarches2/lib/python3.9/site-packages/anndata/_core/anndata.py:1294: ImplicitModificationWarning: Trying to modify attribute `.obs` of view, initializing view as actual.\n",
      "  df[key] = c\n",
      "/home/hers_basak/jjiang/jack/miniconda/envs/scarches2/lib/python3.9/site-packages/anndata/_core/anndata.py:1294: ImplicitModificationWarning: Trying to modify attribute `.obs` of view, initializing view as actual.\n",
      "  df[key] = c\n",
      "/home/hers_basak/jjiang/jack/miniconda/envs/scarches2/lib/python3.9/site-packages/anndata/_core/anndata.py:1294: ImplicitModificationWarning: Trying to modify attribute `.obs` of view, initializing view as actual.\n",
      "  df[key] = c\n",
      "/home/hers_basak/jjiang/jack/miniconda/envs/scarches2/lib/python3.9/site-packages/anndata/_core/anndata.py:1294: ImplicitModificationWarning: Trying to modify attribute `.obs` of view, initializing view as actual.\n",
      "  df[key] = c\n",
      "/home/hers_basak/jjiang/jack/miniconda/envs/scarches2/lib/python3.9/site-packages/anndata/_core/anndata.py:1294: ImplicitModificationWarning: Trying to modify attribute `.obs` of view, initializing view as actual.\n",
      "  df[key] = c\n",
      "/home/hers_basak/jjiang/jack/miniconda/envs/scarches2/lib/python3.9/site-packages/anndata/_core/anndata.py:1294: ImplicitModificationWarning: Trying to modify attribute `.obs` of view, initializing view as actual.\n",
      "  df[key] = c\n",
      "/home/hers_basak/jjiang/jack/miniconda/envs/scarches2/lib/python3.9/site-packages/anndata/_core/anndata.py:1294: ImplicitModificationWarning: Trying to modify attribute `.obs` of view, initializing view as actual.\n",
      "  df[key] = c\n",
      "/home/hers_basak/jjiang/jack/miniconda/envs/scarches2/lib/python3.9/site-packages/anndata/_core/anndata.py:1294: ImplicitModificationWarning: Trying to modify attribute `.obs` of view, initializing view as actual.\n",
      "  df[key] = c\n",
      "/home/hers_basak/jjiang/jack/miniconda/envs/scarches2/lib/python3.9/site-packages/anndata/_core/anndata.py:1294: ImplicitModificationWarning: Trying to modify attribute `.obs` of view, initializing view as actual.\n",
      "  df[key] = c\n"
     ]
    }
   ],
   "source": [
    "\n",
    "source_latent.write('/home/hers_basak/jjiang/jack/outputs/deliverables/5_integration/data/scvi/models/scvi_model_final_neuron_all/latent_known.h5ad')"
   ]
  },
  {
   "cell_type": "code",
   "execution_count": 25,
   "id": "18f8de51",
   "metadata": {},
   "outputs": [],
   "source": [
    "\n",
    "a = sc.read_h5ad('/home/hers_basak/jjiang/jack/outputs/deliverables/5_integration/data/scvi/models/scvi_model_final_neuron_all/latent_known.h5ad')"
   ]
  },
  {
   "cell_type": "code",
   "execution_count": 26,
   "id": "f1cef7eb",
   "metadata": {},
   "outputs": [
    {
     "data": {
      "text/plain": [
       "{'NEUR-siletti',\n",
       " 'NEURO-welch',\n",
       " 'Neuron-agarwal',\n",
       " 'Neuron-altena',\n",
       " 'Neuron-smajic'}"
      ]
     },
     "execution_count": 26,
     "metadata": {},
     "output_type": "execute_result"
    }
   ],
   "source": [
    "set(a.obs['cell_type_lowest_res'].tolist())"
   ]
  },
  {
   "cell_type": "code",
   "execution_count": 27,
   "id": "0b565ec5",
   "metadata": {},
   "outputs": [],
   "source": [
    "celltypes=a.obs['cell_type_high_res'].tolist()\n",
    "small_labels=list()\n",
    "\n",
    "for i in set(celltypes):\n",
    "    count = celltypes.count(i)\n",
    "    if count<=5:\n",
    "        small_labels.append(i)\n",
    "    \n",
    "    "
   ]
  },
  {
   "cell_type": "code",
   "execution_count": 28,
   "id": "fabaf559",
   "metadata": {},
   "outputs": [],
   "source": [
    "a_small=a[~a.obs['cell_type_high_res'].isin(small_labels)]\n",
    "\n",
    "a_small.write('/home/hers_basak/jjiang/jack/outputs/deliverables/5_integration/data/scvi/models/scvi_model_final_neuron_all/latent_known_high5.h5ad')"
   ]
  },
  {
   "cell_type": "markdown",
   "id": "23a4dce0",
   "metadata": {},
   "source": [
    "# Astrocyte only dataset for integration"
   ]
  },
  {
   "cell_type": "code",
   "execution_count": 50,
   "id": "a652d80d",
   "metadata": {},
   "outputs": [],
   "source": [
    "adata_filtered=sc.read_h5ad('/home/hers_basak/jjiang/jack/outputs/deliverables/5_integration/data/scvi/models/scvi_model_final/adata_predicted_lowest.h5ad')"
   ]
  },
  {
   "cell_type": "code",
   "execution_count": 51,
   "id": "330f3fe0",
   "metadata": {},
   "outputs": [],
   "source": [
    "adata_complete= sc.read_h5ad('/home/hers_basak/jjiang/jack/outputs/deliverables/5_integration/data/complete_base.h5ad')"
   ]
  },
  {
   "cell_type": "code",
   "execution_count": 55,
   "id": "2abb07f5",
   "metadata": {},
   "outputs": [],
   "source": [
    "adata_complete.obs['harmonized_lowest_filtered_02_scvi']=adata_filtered.obs['harmonized_lowest_filtered_02_scvi']"
   ]
  },
  {
   "cell_type": "code",
   "execution_count": 35,
   "id": "8ff7c28b",
   "metadata": {
    "scrolled": true
   },
   "outputs": [],
   "source": [
    "adata_astro=adata_complete[adata_complete.obs['harmonized_lowest_filtered_02_scvi']=='Astrocytes-smajic']"
   ]
  },
  {
   "cell_type": "code",
   "execution_count": 36,
   "id": "c08c4530",
   "metadata": {},
   "outputs": [
    {
     "name": "stderr",
     "output_type": "stream",
     "text": [
      "/home/hers_basak/jjiang/jack/miniconda/envs/scarches2/lib/python3.9/site-packages/scanpy/preprocessing/_highly_variable_genes.py:215: FutureWarning: The default of observed=False is deprecated and will be changed to True in a future version of pandas. Pass observed=False to retain current behavior or observed=True to adopt the future default and silence this warning.\n",
      "  disp_grouped = df.groupby('mean_bin')['dispersions']\n",
      "/home/hers_basak/jjiang/jack/miniconda/envs/scarches2/lib/python3.9/site-packages/scanpy/preprocessing/_highly_variable_genes.py:215: FutureWarning: The default of observed=False is deprecated and will be changed to True in a future version of pandas. Pass observed=False to retain current behavior or observed=True to adopt the future default and silence this warning.\n",
      "  disp_grouped = df.groupby('mean_bin')['dispersions']\n",
      "/home/hers_basak/jjiang/jack/miniconda/envs/scarches2/lib/python3.9/site-packages/scanpy/preprocessing/_highly_variable_genes.py:215: FutureWarning: The default of observed=False is deprecated and will be changed to True in a future version of pandas. Pass observed=False to retain current behavior or observed=True to adopt the future default and silence this warning.\n",
      "  disp_grouped = df.groupby('mean_bin')['dispersions']\n",
      "/home/hers_basak/jjiang/jack/miniconda/envs/scarches2/lib/python3.9/site-packages/scanpy/preprocessing/_highly_variable_genes.py:215: FutureWarning: The default of observed=False is deprecated and will be changed to True in a future version of pandas. Pass observed=False to retain current behavior or observed=True to adopt the future default and silence this warning.\n",
      "  disp_grouped = df.groupby('mean_bin')['dispersions']\n",
      "/home/hers_basak/jjiang/jack/miniconda/envs/scarches2/lib/python3.9/site-packages/scanpy/preprocessing/_highly_variable_genes.py:215: FutureWarning: The default of observed=False is deprecated and will be changed to True in a future version of pandas. Pass observed=False to retain current behavior or observed=True to adopt the future default and silence this warning.\n",
      "  disp_grouped = df.groupby('mean_bin')['dispersions']\n",
      "/home/hers_basak/jjiang/jack/miniconda/envs/scarches2/lib/python3.9/site-packages/scanpy/preprocessing/_highly_variable_genes.py:215: FutureWarning: The default of observed=False is deprecated and will be changed to True in a future version of pandas. Pass observed=False to retain current behavior or observed=True to adopt the future default and silence this warning.\n",
      "  disp_grouped = df.groupby('mean_bin')['dispersions']\n",
      "/home/hers_basak/jjiang/jack/miniconda/envs/scarches2/lib/python3.9/site-packages/scanpy/preprocessing/_highly_variable_genes.py:494: FutureWarning: The provided callable <function nanmean at 0x7fb52d756040> is currently using SeriesGroupBy.mean. In a future version of pandas, the provided callable will be used directly. To keep current behavior pass the string \"mean\" instead.\n",
      "  df = df.groupby('gene').agg(\n",
      "/home/hers_basak/jjiang/jack/miniconda/envs/scarches2/lib/python3.9/site-packages/scanpy/preprocessing/_highly_variable_genes.py:494: FutureWarning: The provided callable <function nanmean at 0x7fb52d756040> is currently using SeriesGroupBy.mean. In a future version of pandas, the provided callable will be used directly. To keep current behavior pass the string \"mean\" instead.\n",
      "  df = df.groupby('gene').agg(\n",
      "/home/hers_basak/jjiang/jack/miniconda/envs/scarches2/lib/python3.9/site-packages/scanpy/preprocessing/_highly_variable_genes.py:494: FutureWarning: The provided callable <function nansum at 0x7fb52d74db80> is currently using SeriesGroupBy.sum. In a future version of pandas, the provided callable will be used directly. To keep current behavior pass the string \"sum\" instead.\n",
      "  df = df.groupby('gene').agg(\n",
      "/home/hers_basak/jjiang/jack/miniconda/envs/scarches2/lib/python3.9/site-packages/scanpy/preprocessing/_highly_variable_genes.py:539: ImplicitModificationWarning: Trying to modify attribute `._uns` of view, initializing view as actual.\n",
      "  adata.uns['hvg'] = {'flavor': flavor}\n"
     ]
    }
   ],
   "source": [
    "sc.pp.highly_variable_genes(adata_astro,\n",
    "n_top_genes=5000,\n",
    "batch_key=\"atlas\",\n",
    "subset=True)\n"
   ]
  },
  {
   "cell_type": "code",
   "execution_count": 8,
   "id": "1d29c45a",
   "metadata": {},
   "outputs": [
    {
     "name": "stdout",
     "output_type": "stream",
     "text": [
      "['agarwal:462', 'altena:8831', 'siletti:15978', 'smajic:2714', 'welch:8606', 'wang:2588']\n"
     ]
    }
   ],
   "source": [
    "atlas_all=adata_astro.obs['atlas'].tolist()\n",
    "distribution=[]\n",
    "for i in adata_astro.obs['atlas'].unique():\n",
    "    distribution.append(i+':'+str(atlas_all.count(i)))\n",
    "print(distribution)"
   ]
  },
  {
   "cell_type": "code",
   "execution_count": 58,
   "id": "108f1283",
   "metadata": {},
   "outputs": [
    {
     "data": {
      "text/plain": [
       "AnnData object with n_obs × n_vars = 39179 × 2000\n",
       "    obs: 'species', 'gender', 'age', 'instrument', 'technology', 'atlas', 'sample', 'batch_1', 'doublet_score', 'predicted_doublet', 'n_genes_by_counts', 'log1p_n_genes_by_counts', 'total_counts', 'log1p_total_counts', 'total_counts_mt', 'log1p_total_counts_mt', 'pct_counts_mt', 'total_counts_ribo', 'log1p_total_counts_ribo', 'pct_counts_ribo', 'n_genes', 'total_counts_mito', 'total_counts_norm', 'original_Library', 'original_Brain_Region', 'original_Level_1_cell_type', 'original_Level_2_cell_type', 'original_cellclass_lvl1', 'original_subclass_lvl3_1', 'original_cellclass_lvl1_n', 'original_lineage', 'original_subclass_lvl2', 'original_celltype_lvl3', 'donor', 'original_supercluster_term', 'original_cluster_id', 'original_subcluster_id', 'original_celltype', 'cell_type_lvl1', 'cell_type_lvl2', 'cell_type_lvl3', 'harmonized_lowest_filtered_02_scvi'\n",
       "    var: 'highly_variable', 'means', 'dispersions', 'dispersions_norm', 'highly_variable_nbatches', 'highly_variable_intersection'\n",
       "    uns: 'hvg'\n",
       "    obsm: 'X_pca', 'X_pca_harmony', 'X_umap'"
      ]
     },
     "execution_count": 58,
     "metadata": {},
     "output_type": "execute_result"
    }
   ],
   "source": [
    "adata_astro"
   ]
  },
  {
   "cell_type": "code",
   "execution_count": 38,
   "id": "0f6999b8",
   "metadata": {},
   "outputs": [],
   "source": [
    "prepare_labels(adata_astro)"
   ]
  },
  {
   "cell_type": "code",
   "execution_count": 39,
   "id": "9681be49",
   "metadata": {},
   "outputs": [],
   "source": [
    "latent_space=sc.read_h5ad('/home/hers_basak/jjiang/jack/outputs/deliverables/5_integration/data/scvi/models/scvi_model_final_astro_all/adata.h5ad')"
   ]
  },
  {
   "cell_type": "code",
   "execution_count": 41,
   "id": "4f8aa180",
   "metadata": {},
   "outputs": [],
   "source": [
    "adata_astro.obsm['X_scVI']=latent_space.obsm['X_scVI']"
   ]
  },
  {
   "cell_type": "code",
   "execution_count": null,
   "id": "9eb11d7b",
   "metadata": {},
   "outputs": [],
   "source": [
    "adata_astro.layers['normalized']=adata_astro.X\n",
    "adata_astro.X=adata_astro.raw[:, adata_astro.var_names].X"
   ]
  },
  {
   "cell_type": "code",
   "execution_count": 42,
   "id": "77e8914c",
   "metadata": {},
   "outputs": [],
   "source": [
    "adata_astro.write('/home/hers_basak/jjiang/jack/outputs/deliverables/5_integration/data/scvi/models/scvi_model_final_astro_all/adata_5k.h5ad')"
   ]
  },
  {
   "cell_type": "code",
   "execution_count": 29,
   "id": "f59ef0b7",
   "metadata": {},
   "outputs": [],
   "source": [
    "adata_astro=sc.read_h5ad('/home/hers_basak/jjiang/jack/outputs/deliverables/5_integration/data/scvi/models/scvi_model_final_astro_all/adata.h5ad')"
   ]
  },
  {
   "cell_type": "code",
   "execution_count": 30,
   "id": "6f222b13",
   "metadata": {
    "scrolled": true
   },
   "outputs": [
    {
     "data": {
      "text/plain": [
       "{'ASTRO-siletti',\n",
       " 'ASTRO-welch',\n",
       " 'Astrocyte-altena',\n",
       " 'Astrocytes-agarwal',\n",
       " 'Astrocytes-smajic',\n",
       " 'Endothelial cells-smajic',\n",
       " 'Endothelial-agarwal',\n",
       " 'Ependymal-smajic',\n",
       " 'Microglia-agarwal',\n",
       " 'ODC-agarwal',\n",
       " 'Oligodendrocyte-altena',\n",
       " 'Unknown-agarwal',\n",
       " 'Unknown-altena',\n",
       " 'Unknown-siletti',\n",
       " 'Unknown-smajic',\n",
       " 'Unknown-wang',\n",
       " 'Unknown-welch'}"
      ]
     },
     "execution_count": 30,
     "metadata": {},
     "output_type": "execute_result"
    }
   ],
   "source": [
    "set(adata_astro.obs['cell_type_lowest_res'].tolist())"
   ]
  },
  {
   "cell_type": "code",
   "execution_count": null,
   "id": "56033211",
   "metadata": {},
   "outputs": [],
   "source": []
  },
  {
   "cell_type": "markdown",
   "id": "05e3a96a",
   "metadata": {},
   "source": [
    "Prepare for scVI integration"
   ]
  },
  {
   "cell_type": "code",
   "execution_count": 31,
   "id": "6a2563d8",
   "metadata": {
    "scrolled": true
   },
   "outputs": [
    {
     "name": "stdout",
     "output_type": "stream",
     "text": [
      "\u001b[34mINFO    \u001b[0m File                                                                                                      \n",
      "         \u001b[35m/home/hers_basak/jjiang/jack/outputs/deliverables/5_integration/data/scvi/models/scvi_model_final_astro_al\u001b[0m\n",
      "         \u001b[35ml/\u001b[0m\u001b[95mmodel.pt\u001b[0m already downloaded                                                                             \n"
     ]
    },
    {
     "name": "stderr",
     "output_type": "stream",
     "text": [
      "/home/hers_basak/jjiang/jack/miniconda/envs/scarches2/lib/python3.9/site-packages/lightning/fabric/plugins/environments/slurm.py:168: PossibleUserWarning: The `srun` command is available on your system but is not used. HINT: If your intention is to run Lightning on SLURM, prepend your python command with `srun` like so: srun python /home/hers_basak/jjiang/jack/miniconda/envs/scarches ...\n",
      "  rank_zero_warn(\n",
      "/home/hers_basak/jjiang/jack/miniconda/envs/scarches2/lib/python3.9/site-packages/anndata/_core/anndata.py:1294: ImplicitModificationWarning: Trying to modify attribute `.obs` of view, initializing view as actual.\n",
      "  df[key] = c\n",
      "/home/hers_basak/jjiang/jack/miniconda/envs/scarches2/lib/python3.9/site-packages/anndata/_core/anndata.py:1294: ImplicitModificationWarning: Trying to modify attribute `.obs` of view, initializing view as actual.\n",
      "  df[key] = c\n",
      "/home/hers_basak/jjiang/jack/miniconda/envs/scarches2/lib/python3.9/site-packages/anndata/_core/anndata.py:1294: ImplicitModificationWarning: Trying to modify attribute `.obs` of view, initializing view as actual.\n",
      "  df[key] = c\n",
      "/home/hers_basak/jjiang/jack/miniconda/envs/scarches2/lib/python3.9/site-packages/anndata/_core/anndata.py:1294: ImplicitModificationWarning: Trying to modify attribute `.obs` of view, initializing view as actual.\n",
      "  df[key] = c\n",
      "/home/hers_basak/jjiang/jack/miniconda/envs/scarches2/lib/python3.9/site-packages/anndata/_core/anndata.py:1294: ImplicitModificationWarning: Trying to modify attribute `.obs` of view, initializing view as actual.\n",
      "  df[key] = c\n",
      "/home/hers_basak/jjiang/jack/miniconda/envs/scarches2/lib/python3.9/site-packages/anndata/_core/anndata.py:1294: ImplicitModificationWarning: Trying to modify attribute `.obs` of view, initializing view as actual.\n",
      "  df[key] = c\n",
      "/home/hers_basak/jjiang/jack/miniconda/envs/scarches2/lib/python3.9/site-packages/anndata/_core/anndata.py:1294: ImplicitModificationWarning: Trying to modify attribute `.obs` of view, initializing view as actual.\n",
      "  df[key] = c\n",
      "/home/hers_basak/jjiang/jack/miniconda/envs/scarches2/lib/python3.9/site-packages/anndata/_core/anndata.py:1294: ImplicitModificationWarning: Trying to modify attribute `.obs` of view, initializing view as actual.\n",
      "  df[key] = c\n",
      "/home/hers_basak/jjiang/jack/miniconda/envs/scarches2/lib/python3.9/site-packages/anndata/_core/anndata.py:1294: ImplicitModificationWarning: Trying to modify attribute `.obs` of view, initializing view as actual.\n",
      "  df[key] = c\n",
      "/home/hers_basak/jjiang/jack/miniconda/envs/scarches2/lib/python3.9/site-packages/anndata/_core/anndata.py:1294: ImplicitModificationWarning: Trying to modify attribute `.obs` of view, initializing view as actual.\n",
      "  df[key] = c\n",
      "/home/hers_basak/jjiang/jack/miniconda/envs/scarches2/lib/python3.9/site-packages/anndata/_core/anndata.py:1294: ImplicitModificationWarning: Trying to modify attribute `.obs` of view, initializing view as actual.\n",
      "  df[key] = c\n",
      "/home/hers_basak/jjiang/jack/miniconda/envs/scarches2/lib/python3.9/site-packages/anndata/_core/anndata.py:1294: ImplicitModificationWarning: Trying to modify attribute `.obs` of view, initializing view as actual.\n",
      "  df[key] = c\n",
      "/home/hers_basak/jjiang/jack/miniconda/envs/scarches2/lib/python3.9/site-packages/anndata/_core/anndata.py:1294: ImplicitModificationWarning: Trying to modify attribute `.obs` of view, initializing view as actual.\n",
      "  df[key] = c\n",
      "/home/hers_basak/jjiang/jack/miniconda/envs/scarches2/lib/python3.9/site-packages/anndata/_core/anndata.py:1294: ImplicitModificationWarning: Trying to modify attribute `.obs` of view, initializing view as actual.\n",
      "  df[key] = c\n",
      "/home/hers_basak/jjiang/jack/miniconda/envs/scarches2/lib/python3.9/site-packages/anndata/_core/anndata.py:1294: ImplicitModificationWarning: Trying to modify attribute `.obs` of view, initializing view as actual.\n",
      "  df[key] = c\n"
     ]
    }
   ],
   "source": [
    "import scarches as sca\n",
    "adata_astro=sc.read_h5ad('/home/hers_basak/jjiang/jack/outputs/deliverables/5_integration/data/scvi/models/scvi_model_final_astro_all/adata.h5ad')\n",
    "vae = sca.models.SCVI.load('/home/hers_basak/jjiang/jack/outputs/deliverables/5_integration/data/scvi/models/scvi_model_final_astro_all/',adata_astro)\n",
    "\n",
    "source_latent = sc.AnnData(vae.get_latent_representation())\n",
    "source_latent.obs[\"cell_type_lvl1\"] = adata_astro.obs[\"cell_type_lvl1\"].tolist()\n",
    "source_latent.obs[\"cell_type_lvl2\"] = adata_astro.obs[\"cell_type_lvl2\"].tolist()\n",
    "source_latent.obs[\"cell_type_lvl3\"] = adata_astro.obs[\"cell_type_lvl3\"].tolist()\n",
    "source_latent.obs[\"sample\"] = adata_astro.obs[\"sample\"].tolist()\n",
    "source_latent.obs[\"atlas\"] = adata_astro.obs[\"atlas\"].tolist()\n",
    "source_latent.obs[\"species\"] = adata_astro.obs[\"species\"].tolist()\n",
    "source_latent.obs[\"gender\"] = adata_astro.obs[\"gender\"].tolist()\n",
    "source_latent.obs[\"age\"] = adata_astro.obs[\"age\"].tolist()\n",
    "source_latent.obs[\"instrument\"] = adata_astro.obs[\"instrument\"].tolist()\n",
    "source_latent.obs[\"technology\"] = adata_astro.obs[\"technology\"].tolist()\n",
    "source_latent.obs[\"donor\"] = adata_astro.obs[\"donor\"].tolist()\n",
    "source_latent.obs[\"cell_type_lowest_res\"] = adata_astro.obs[\"cell_type_lowest_res\"].tolist()\n",
    "source_latent.obs[\"cell_type_low_res\"] = adata_astro.obs[\"cell_type_low_res\"].tolist()\n",
    "source_latent.obs[\"cell_type_med_res\"] = adata_astro.obs[\"cell_type_med_res\"].tolist()\n",
    "source_latent.obs[\"cell_type_high_res\"] = adata_astro.obs[\"cell_type_high_res\"].tolist()\n",
    "\n",
    "source_latent=source_latent[source_latent.obs['cell_type_lowest_res'].isin(['ASTRO-siletti',\n",
    " 'ASTRO-welch',\n",
    " 'Astrocyte-altena',\n",
    " 'Astrocytes-agarwal',\n",
    " 'Astrocytes-smajic'])]\n",
    "\n",
    "\n",
    "source_latent.write('/home/hers_basak/jjiang/jack/outputs/deliverables/5_integration/data/scvi/models/scvi_model_final_astro_all/latent_known.h5ad')"
   ]
  },
  {
   "cell_type": "code",
   "execution_count": 32,
   "id": "f2d65cd2",
   "metadata": {},
   "outputs": [],
   "source": [
    "astro_known_latent=sc.read_h5ad('/home/hers_basak/jjiang/jack/outputs/deliverables/5_integration/data/scvi/models/scvi_model_final_astro_all/latent_known.h5ad')"
   ]
  },
  {
   "cell_type": "code",
   "execution_count": 33,
   "id": "d715ebb7",
   "metadata": {},
   "outputs": [],
   "source": [
    "celltypes=astro_known_latent.obs['cell_type_high_res'].tolist()\n",
    "small_labels=list()\n",
    "\n",
    "for i in set(celltypes):\n",
    "    count = celltypes.count(i)\n",
    "    if count<=5:\n",
    "        small_labels.append(i)"
   ]
  },
  {
   "cell_type": "code",
   "execution_count": 34,
   "id": "6df47a8e",
   "metadata": {
    "scrolled": true
   },
   "outputs": [
    {
     "data": {
      "text/plain": [
       "['3107-siletti',\n",
       " '3119-siletti',\n",
       " '3101-siletti',\n",
       " '3094-siletti',\n",
       " '3096-siletti',\n",
       " '3100-siletti',\n",
       " '3084-siletti',\n",
       " '3114-siletti',\n",
       " '3085-siletti',\n",
       " '3117-siletti',\n",
       " '3116-siletti',\n",
       " '3059-siletti',\n",
       " '3086-siletti',\n",
       " '3102-siletti',\n",
       " '3104-siletti',\n",
       " '3093-siletti',\n",
       " '3098-siletti',\n",
       " '3106-siletti',\n",
       " '3095-siletti']"
      ]
     },
     "execution_count": 34,
     "metadata": {},
     "output_type": "execute_result"
    }
   ],
   "source": [
    "small_labels"
   ]
  },
  {
   "cell_type": "code",
   "execution_count": 35,
   "id": "b975cdd9",
   "metadata": {},
   "outputs": [],
   "source": [
    "a_small=astro_known_latent[~astro_known_latent.obs['cell_type_high_res'].isin(small_labels)]\n",
    "\n",
    "a_small.write('/home/hers_basak/jjiang/jack/outputs/deliverables/5_integration/data/scvi/models/scvi_model_final_astro_all/latent_known_high5.h5ad')"
   ]
  },
  {
   "cell_type": "markdown",
   "id": "e1bf00fa",
   "metadata": {},
   "source": [
    "# Oligodendrocytes only dataset for integration"
   ]
  },
  {
   "cell_type": "code",
   "execution_count": 4,
   "id": "9349d127",
   "metadata": {},
   "outputs": [],
   "source": [
    "adata_filtered=sc.read_h5ad('/home/hers_basak/jjiang/jack/outputs/deliverables/5_integration/data/scvi/models/scvi_model_final/adata_predicted_lowest.h5ad')"
   ]
  },
  {
   "cell_type": "code",
   "execution_count": 65,
   "id": "f3015979",
   "metadata": {},
   "outputs": [],
   "source": [
    "adata_complete= sc.read_h5ad('/home/hers_basak/jjiang/jack/outputs/deliverables/5_integration/data/complete_base.h5ad')"
   ]
  },
  {
   "cell_type": "code",
   "execution_count": 66,
   "id": "88cf6282",
   "metadata": {},
   "outputs": [],
   "source": [
    "adata_complete.obs['harmonized_lowest_filtered_02_scvi']=adata_filtered.obs['harmonized_lowest_filtered_02_scvi']"
   ]
  },
  {
   "cell_type": "code",
   "execution_count": 45,
   "id": "119e0914",
   "metadata": {
    "scrolled": true
   },
   "outputs": [],
   "source": [
    "adata_oligo=adata_complete[adata_complete.obs['harmonized_lowest_filtered_02_scvi']=='OLIGO-siletti']"
   ]
  },
  {
   "cell_type": "code",
   "execution_count": 46,
   "id": "009fae28",
   "metadata": {},
   "outputs": [
    {
     "name": "stderr",
     "output_type": "stream",
     "text": [
      "/home/hers_basak/jjiang/jack/miniconda/envs/scarches2/lib/python3.9/site-packages/scanpy/preprocessing/_highly_variable_genes.py:215: FutureWarning: The default of observed=False is deprecated and will be changed to True in a future version of pandas. Pass observed=False to retain current behavior or observed=True to adopt the future default and silence this warning.\n",
      "  disp_grouped = df.groupby('mean_bin')['dispersions']\n",
      "/home/hers_basak/jjiang/jack/miniconda/envs/scarches2/lib/python3.9/site-packages/scanpy/preprocessing/_highly_variable_genes.py:215: FutureWarning: The default of observed=False is deprecated and will be changed to True in a future version of pandas. Pass observed=False to retain current behavior or observed=True to adopt the future default and silence this warning.\n",
      "  disp_grouped = df.groupby('mean_bin')['dispersions']\n",
      "/home/hers_basak/jjiang/jack/miniconda/envs/scarches2/lib/python3.9/site-packages/scanpy/preprocessing/_highly_variable_genes.py:215: FutureWarning: The default of observed=False is deprecated and will be changed to True in a future version of pandas. Pass observed=False to retain current behavior or observed=True to adopt the future default and silence this warning.\n",
      "  disp_grouped = df.groupby('mean_bin')['dispersions']\n",
      "/home/hers_basak/jjiang/jack/miniconda/envs/scarches2/lib/python3.9/site-packages/scanpy/preprocessing/_highly_variable_genes.py:215: FutureWarning: The default of observed=False is deprecated and will be changed to True in a future version of pandas. Pass observed=False to retain current behavior or observed=True to adopt the future default and silence this warning.\n",
      "  disp_grouped = df.groupby('mean_bin')['dispersions']\n",
      "/home/hers_basak/jjiang/jack/miniconda/envs/scarches2/lib/python3.9/site-packages/scanpy/preprocessing/_highly_variable_genes.py:215: FutureWarning: The default of observed=False is deprecated and will be changed to True in a future version of pandas. Pass observed=False to retain current behavior or observed=True to adopt the future default and silence this warning.\n",
      "  disp_grouped = df.groupby('mean_bin')['dispersions']\n",
      "/home/hers_basak/jjiang/jack/miniconda/envs/scarches2/lib/python3.9/site-packages/scanpy/preprocessing/_highly_variable_genes.py:215: FutureWarning: The default of observed=False is deprecated and will be changed to True in a future version of pandas. Pass observed=False to retain current behavior or observed=True to adopt the future default and silence this warning.\n",
      "  disp_grouped = df.groupby('mean_bin')['dispersions']\n",
      "/home/hers_basak/jjiang/jack/miniconda/envs/scarches2/lib/python3.9/site-packages/scanpy/preprocessing/_highly_variable_genes.py:494: FutureWarning: The provided callable <function nanmean at 0x7fb52d756040> is currently using SeriesGroupBy.mean. In a future version of pandas, the provided callable will be used directly. To keep current behavior pass the string \"mean\" instead.\n",
      "  df = df.groupby('gene').agg(\n",
      "/home/hers_basak/jjiang/jack/miniconda/envs/scarches2/lib/python3.9/site-packages/scanpy/preprocessing/_highly_variable_genes.py:494: FutureWarning: The provided callable <function nanmean at 0x7fb52d756040> is currently using SeriesGroupBy.mean. In a future version of pandas, the provided callable will be used directly. To keep current behavior pass the string \"mean\" instead.\n",
      "  df = df.groupby('gene').agg(\n",
      "/home/hers_basak/jjiang/jack/miniconda/envs/scarches2/lib/python3.9/site-packages/scanpy/preprocessing/_highly_variable_genes.py:494: FutureWarning: The provided callable <function nansum at 0x7fb52d74db80> is currently using SeriesGroupBy.sum. In a future version of pandas, the provided callable will be used directly. To keep current behavior pass the string \"sum\" instead.\n",
      "  df = df.groupby('gene').agg(\n",
      "/home/hers_basak/jjiang/jack/miniconda/envs/scarches2/lib/python3.9/site-packages/scanpy/preprocessing/_highly_variable_genes.py:539: ImplicitModificationWarning: Trying to modify attribute `._uns` of view, initializing view as actual.\n",
      "  adata.uns['hvg'] = {'flavor': flavor}\n"
     ]
    }
   ],
   "source": [
    "sc.pp.highly_variable_genes(adata_oligo,\n",
    "n_top_genes=5000,\n",
    "batch_key=\"atlas\",\n",
    "subset=True)\n"
   ]
  },
  {
   "cell_type": "code",
   "execution_count": 79,
   "id": "de3dbd9c",
   "metadata": {},
   "outputs": [
    {
     "data": {
      "text/plain": [
       "AnnData object with n_obs × n_vars = 230389 × 2000\n",
       "    obs: 'species', 'gender', 'age', 'instrument', 'technology', 'atlas', 'sample', 'batch_1', 'doublet_score', 'predicted_doublet', 'n_genes_by_counts', 'log1p_n_genes_by_counts', 'total_counts', 'log1p_total_counts', 'total_counts_mt', 'log1p_total_counts_mt', 'pct_counts_mt', 'total_counts_ribo', 'log1p_total_counts_ribo', 'pct_counts_ribo', 'n_genes', 'total_counts_mito', 'total_counts_norm', 'original_Library', 'original_Brain_Region', 'original_Level_1_cell_type', 'original_Level_2_cell_type', 'original_cellclass_lvl1', 'original_subclass_lvl3_1', 'original_cellclass_lvl1_n', 'original_lineage', 'original_subclass_lvl2', 'original_celltype_lvl3', 'donor', 'original_supercluster_term', 'original_cluster_id', 'original_subcluster_id', 'original_celltype', 'cell_type_lvl1', 'cell_type_lvl2', 'cell_type_lvl3', 'harmonized_lowest_filtered_02_scvi'\n",
       "    var: 'highly_variable', 'means', 'dispersions', 'dispersions_norm', 'highly_variable_nbatches', 'highly_variable_intersection'\n",
       "    uns: 'hvg'\n",
       "    obsm: 'X_pca', 'X_pca_harmony', 'X_umap'"
      ]
     },
     "execution_count": 79,
     "metadata": {},
     "output_type": "execute_result"
    }
   ],
   "source": [
    "adata_oligo"
   ]
  },
  {
   "cell_type": "code",
   "execution_count": 20,
   "id": "665583f5",
   "metadata": {},
   "outputs": [
    {
     "name": "stdout",
     "output_type": "stream",
     "text": [
      "['agarwal:6266', 'altena:56492', 'siletti:90821', 'smajic:17552', 'welch:35255', 'wang:24004']\n"
     ]
    }
   ],
   "source": [
    "atlas_all=adata_oligo.obs['atlas'].tolist()\n",
    "distribution=[]\n",
    "for i in adata_oligo.obs['atlas'].unique():\n",
    "    distribution.append(i+':'+str(atlas_all.count(i)))\n",
    "print(distribution)"
   ]
  },
  {
   "cell_type": "code",
   "execution_count": 47,
   "id": "a3506700",
   "metadata": {},
   "outputs": [],
   "source": [
    "prepare_labels(adata_oligo)\n",
    "#adata_oligo.layers['normalized']=adata_oligo.X\n",
    "#adata_oligo.X=adata_oligo.raw[:, adata_oligo.var_names].X\n"
   ]
  },
  {
   "cell_type": "code",
   "execution_count": 48,
   "id": "df779ead",
   "metadata": {},
   "outputs": [],
   "source": [
    "latent_space=sc.read_h5ad('/home/hers_basak/jjiang/jack/outputs/deliverables/5_integration/data/scvi/models/scvi_model_final_oligo_all/adata.h5ad')"
   ]
  },
  {
   "cell_type": "code",
   "execution_count": 49,
   "id": "bb423eb2",
   "metadata": {},
   "outputs": [],
   "source": [
    "adata_oligo.obsm['X_scVI']=latent_space.obsm['X_scVI']"
   ]
  },
  {
   "cell_type": "code",
   "execution_count": 50,
   "id": "6a642fa0",
   "metadata": {},
   "outputs": [],
   "source": [
    "adata_oligo.write('/home/hers_basak/jjiang/jack/outputs/deliverables/5_integration/data/scvi/models/scvi_model_final_oligo_all/adata_5k.h5ad')"
   ]
  },
  {
   "cell_type": "code",
   "execution_count": 13,
   "id": "55ee7d71",
   "metadata": {},
   "outputs": [],
   "source": [
    "adata_oligo=sc.read_h5ad('/home/hers_basak/jjiang/jack/outputs/deliverables/5_integration/data/scvi/models/scvi_model_final_oligo_all/latent_known_high5.h5ad')"
   ]
  },
  {
   "cell_type": "code",
   "execution_count": 14,
   "id": "1510e7fd",
   "metadata": {},
   "outputs": [
    {
     "data": {
      "text/plain": [
       "cell_type_high_res\n",
       "Oligodendrocyte-6-altena     24165\n",
       "3023-siletti                 14102\n",
       "Oligodendrocytes-smajic      12613\n",
       "Oligodendrocyte-4-altena     10408\n",
       "Oligodendrocyte-9-altena      9428\n",
       "2999-siletti                  8545\n",
       "3024-siletti                  8209\n",
       "3001-siletti                  7868\n",
       "3004-siletti                  7624\n",
       "3020-siletti                  7203\n",
       "3022-siletti                  5447\n",
       "3021-siletti                  4501\n",
       "3003-siletti                  4470\n",
       "Oligodendrocyte-7-altena      4253\n",
       "3005-siletti                  3734\n",
       "3025-siletti                  3701\n",
       "Oligodendrocyte-2-altena      3635\n",
       "\"OLIGO1\"-welch                3451\n",
       "3002-siletti                  3100\n",
       "\"OLIGO3\"-welch                2916\n",
       "\"OLIGO4\"-welch                2888\n",
       "\"OLIGO2\"-welch                2840\n",
       "Oligodendrocyte-1-altena      2307\n",
       "ODC-1-agarwal                 2041\n",
       "\"OLIGO5\"-welch                1381\n",
       "ODC-2-agarwal                  998\n",
       "ODC-3-agarwal                  939\n",
       "Oligodendrocyte-3-altena       610\n",
       "3000-siletti                   492\n",
       "Oligodendrocyte-5-altena       361\n",
       "Oligodendrocyte-11-altena      314\n",
       "3013-siletti                   214\n",
       "Oligodendrocyte-10-altena      141\n",
       "3012-siletti                    91\n",
       "3011-siletti                    62\n",
       "Oligodendrocyte-8-altena        60\n",
       "3038-siletti                    24\n",
       "Oligodendrocyte-12-altena       20\n",
       "3031-siletti                    13\n",
       "3016-siletti                     9\n",
       "3006-siletti                     6\n",
       "Name: count, dtype: int64"
      ]
     },
     "execution_count": 14,
     "metadata": {},
     "output_type": "execute_result"
    }
   ],
   "source": [
    "adata_oligo.obs['cell_type_high_res'].value_counts()"
   ]
  },
  {
   "cell_type": "code",
   "execution_count": 25,
   "id": "a29bda27",
   "metadata": {},
   "outputs": [],
   "source": [
    "astro=sc.read_h5ad('/home/hers_basak/jjiang/jack/outputs/deliverables/5_integration/data/scvi/models/scvi_model_final_astro_all/adata.h5ad')"
   ]
  },
  {
   "cell_type": "code",
   "execution_count": 26,
   "id": "6fbe79e1",
   "metadata": {},
   "outputs": [
    {
     "data": {
      "text/plain": [
       "AnnData object with n_obs × n_vars = 39179 × 2000\n",
       "    obs: 'species', 'gender', 'age', 'instrument', 'technology', 'atlas', 'sample', 'batch_1', 'doublet_score', 'predicted_doublet', 'n_genes_by_counts', 'log1p_n_genes_by_counts', 'total_counts', 'log1p_total_counts', 'total_counts_mt', 'log1p_total_counts_mt', 'pct_counts_mt', 'total_counts_ribo', 'log1p_total_counts_ribo', 'pct_counts_ribo', 'n_genes', 'total_counts_mito', 'total_counts_norm', 'original_Library', 'original_Brain_Region', 'original_Level_1_cell_type', 'original_Level_2_cell_type', 'original_cellclass_lvl1', 'original_subclass_lvl3_1', 'original_cellclass_lvl1_n', 'original_lineage', 'original_subclass_lvl2', 'original_celltype_lvl3', 'donor', 'original_supercluster_term', 'original_cluster_id', 'original_subcluster_id', 'original_celltype', 'cell_type_lvl1', 'cell_type_lvl2', 'cell_type_lvl3', 'harmonized_lowest_filtered_02_scvi', 'cell_type_lowest_res', 'cell_type_low_res', 'cell_type_med_res', 'cell_type_high_res', '_scvi_batch', '_scvi_labels'\n",
       "    var: 'highly_variable', 'means', 'dispersions', 'dispersions_norm', 'highly_variable_nbatches', 'highly_variable_intersection'\n",
       "    uns: '_scvi_manager_uuid', '_scvi_uuid', 'hvg'\n",
       "    obsm: 'X_pca', 'X_pca_harmony', 'X_scVI', 'X_umap'\n",
       "    layers: 'counts', 'normalized'"
      ]
     },
     "execution_count": 26,
     "metadata": {},
     "output_type": "execute_result"
    }
   ],
   "source": [
    "astro"
   ]
  },
  {
   "cell_type": "code",
   "execution_count": 29,
   "id": "a4aed007",
   "metadata": {},
   "outputs": [
    {
     "name": "stderr",
     "output_type": "stream",
     "text": [
      "/home/hers_basak/jjiang/jack/miniconda/envs/scarches2/lib/python3.9/site-packages/tqdm/auto.py:21: TqdmWarning: IProgress not found. Please update jupyter and ipywidgets. See https://ipywidgets.readthedocs.io/en/stable/user_install.html\n",
      "  from .autonotebook import tqdm as notebook_tqdm\n"
     ]
    }
   ],
   "source": [
    "#sc.tl.pca(astro, svd_solver='arpack')\n",
    "sc.pp.neighbors(astro, n_pcs=90,n_neighbors=10,use_rep='X_scVI')\n",
    "\n",
    "sc.tl.umap(astro)"
   ]
  },
  {
   "cell_type": "code",
   "execution_count": 30,
   "id": "e0090c06",
   "metadata": {
    "scrolled": true
   },
   "outputs": [
    {
     "name": "stderr",
     "output_type": "stream",
     "text": [
      "/home/hers_basak/jjiang/jack/miniconda/envs/scarches2/lib/python3.9/site-packages/scanpy/plotting/_tools/scatterplots.py:1207: FutureWarning: is_categorical_dtype is deprecated and will be removed in a future version. Use isinstance(dtype, CategoricalDtype) instead\n",
      "  if not is_categorical_dtype(values):\n",
      "/home/hers_basak/jjiang/jack/miniconda/envs/scarches2/lib/python3.9/site-packages/scanpy/plotting/_tools/scatterplots.py:1216: FutureWarning: The default value of 'ignore' for the `na_action` parameter in pandas.Categorical.map is deprecated and will be changed to 'None' in a future version. Please set na_action to the desired value to avoid seeing this warning\n",
      "  color_vector = pd.Categorical(values.map(color_map))\n",
      "/home/hers_basak/jjiang/jack/miniconda/envs/scarches2/lib/python3.9/site-packages/scanpy/plotting/_tools/scatterplots.py:391: UserWarning: No data for colormapping provided via 'c'. Parameters 'cmap' will be ignored\n",
      "  cax = scatter(\n"
     ]
    },
    {
     "data": {
      "image/png": "[encoded data removed]",
      "text/plain": [
       "<Figure size 320x320 with 1 Axes>"
      ]
     },
     "metadata": {
      "image/png": {
       "height": 296,
       "width": 373
      }
     },
     "output_type": "display_data"
    }
   ],
   "source": [
    "sc.pl.umap(oligo, color=['atlas'], title='Astrocyte only',\n",
    "               use_raw=False, s=5, wspace=0.5,save='_atlas_astro.png')"
   ]
  },
  {
   "cell_type": "code",
   "execution_count": null,
   "id": "83875604",
   "metadata": {},
   "outputs": [],
   "source": []
  },
  {
   "cell_type": "markdown",
   "id": "a295be99",
   "metadata": {},
   "source": [
    "Prepare for scVI integration"
   ]
  },
  {
   "cell_type": "code",
   "execution_count": 43,
   "id": "cc04ddf6",
   "metadata": {},
   "outputs": [
    {
     "name": "stdout",
     "output_type": "stream",
     "text": [
      "\u001b[34mINFO    \u001b[0m File                                                                                                      \n",
      "         \u001b[35m/home/hers_basak/jjiang/jack/outputs/deliverables/5_integration/data/scvi/models/scvi_model_final_oligo_al\u001b[0m\n",
      "         \u001b[35ml/\u001b[0m\u001b[95mmodel.pt\u001b[0m already downloaded                                                                             \n"
     ]
    },
    {
     "name": "stderr",
     "output_type": "stream",
     "text": [
      "/home/hers_basak/jjiang/jack/miniconda/envs/scarches2/lib/python3.9/site-packages/lightning/fabric/plugins/environments/slurm.py:168: PossibleUserWarning: The `srun` command is available on your system but is not used. HINT: If your intention is to run Lightning on SLURM, prepend your python command with `srun` like so: srun python /home/hers_basak/jjiang/jack/miniconda/envs/scarches ...\n",
      "  rank_zero_warn(\n",
      "/home/hers_basak/jjiang/jack/miniconda/envs/scarches2/lib/python3.9/site-packages/anndata/_core/anndata.py:1294: ImplicitModificationWarning: Trying to modify attribute `.obs` of view, initializing view as actual.\n",
      "  df[key] = c\n",
      "/home/hers_basak/jjiang/jack/miniconda/envs/scarches2/lib/python3.9/site-packages/anndata/_core/anndata.py:1294: ImplicitModificationWarning: Trying to modify attribute `.obs` of view, initializing view as actual.\n",
      "  df[key] = c\n",
      "/home/hers_basak/jjiang/jack/miniconda/envs/scarches2/lib/python3.9/site-packages/anndata/_core/anndata.py:1294: ImplicitModificationWarning: Trying to modify attribute `.obs` of view, initializing view as actual.\n",
      "  df[key] = c\n",
      "/home/hers_basak/jjiang/jack/miniconda/envs/scarches2/lib/python3.9/site-packages/anndata/_core/anndata.py:1294: ImplicitModificationWarning: Trying to modify attribute `.obs` of view, initializing view as actual.\n",
      "  df[key] = c\n",
      "/home/hers_basak/jjiang/jack/miniconda/envs/scarches2/lib/python3.9/site-packages/anndata/_core/anndata.py:1294: ImplicitModificationWarning: Trying to modify attribute `.obs` of view, initializing view as actual.\n",
      "  df[key] = c\n",
      "/home/hers_basak/jjiang/jack/miniconda/envs/scarches2/lib/python3.9/site-packages/anndata/_core/anndata.py:1294: ImplicitModificationWarning: Trying to modify attribute `.obs` of view, initializing view as actual.\n",
      "  df[key] = c\n",
      "/home/hers_basak/jjiang/jack/miniconda/envs/scarches2/lib/python3.9/site-packages/anndata/_core/anndata.py:1294: ImplicitModificationWarning: Trying to modify attribute `.obs` of view, initializing view as actual.\n",
      "  df[key] = c\n",
      "/home/hers_basak/jjiang/jack/miniconda/envs/scarches2/lib/python3.9/site-packages/anndata/_core/anndata.py:1294: ImplicitModificationWarning: Trying to modify attribute `.obs` of view, initializing view as actual.\n",
      "  df[key] = c\n",
      "/home/hers_basak/jjiang/jack/miniconda/envs/scarches2/lib/python3.9/site-packages/anndata/_core/anndata.py:1294: ImplicitModificationWarning: Trying to modify attribute `.obs` of view, initializing view as actual.\n",
      "  df[key] = c\n",
      "/home/hers_basak/jjiang/jack/miniconda/envs/scarches2/lib/python3.9/site-packages/anndata/_core/anndata.py:1294: ImplicitModificationWarning: Trying to modify attribute `.obs` of view, initializing view as actual.\n",
      "  df[key] = c\n",
      "/home/hers_basak/jjiang/jack/miniconda/envs/scarches2/lib/python3.9/site-packages/anndata/_core/anndata.py:1294: ImplicitModificationWarning: Trying to modify attribute `.obs` of view, initializing view as actual.\n",
      "  df[key] = c\n",
      "/home/hers_basak/jjiang/jack/miniconda/envs/scarches2/lib/python3.9/site-packages/anndata/_core/anndata.py:1294: ImplicitModificationWarning: Trying to modify attribute `.obs` of view, initializing view as actual.\n",
      "  df[key] = c\n",
      "/home/hers_basak/jjiang/jack/miniconda/envs/scarches2/lib/python3.9/site-packages/anndata/_core/anndata.py:1294: ImplicitModificationWarning: Trying to modify attribute `.obs` of view, initializing view as actual.\n",
      "  df[key] = c\n",
      "/home/hers_basak/jjiang/jack/miniconda/envs/scarches2/lib/python3.9/site-packages/anndata/_core/anndata.py:1294: ImplicitModificationWarning: Trying to modify attribute `.obs` of view, initializing view as actual.\n",
      "  df[key] = c\n",
      "/home/hers_basak/jjiang/jack/miniconda/envs/scarches2/lib/python3.9/site-packages/anndata/_core/anndata.py:1294: ImplicitModificationWarning: Trying to modify attribute `.obs` of view, initializing view as actual.\n",
      "  df[key] = c\n"
     ]
    }
   ],
   "source": [
    "import scarches as sca\n",
    "adata_oligo=sc.read_h5ad('/home/hers_basak/jjiang/jack/outputs/deliverables/5_integration/data/scvi/models/scvi_model_final_oligo_all/adata.h5ad')\n",
    "vae = sca.models.SCVI.load('/home/hers_basak/jjiang/jack/outputs/deliverables/5_integration/data/scvi/models/scvi_model_final_oligo_all/',adata_oligo)\n",
    "\n",
    "source_latent = sc.AnnData(vae.get_latent_representation())\n",
    "source_latent.obs[\"cell_type_lvl1\"] = adata_oligo.obs[\"cell_type_lvl1\"].tolist()\n",
    "source_latent.obs[\"cell_type_lvl2\"] = adata_oligo.obs[\"cell_type_lvl2\"].tolist()\n",
    "source_latent.obs[\"cell_type_lvl3\"] = adata_oligo.obs[\"cell_type_lvl3\"].tolist()\n",
    "source_latent.obs[\"sample\"] = adata_oligo.obs[\"sample\"].tolist()\n",
    "source_latent.obs[\"atlas\"] = adata_oligo.obs[\"atlas\"].tolist()\n",
    "source_latent.obs[\"species\"] = adata_oligo.obs[\"species\"].tolist()\n",
    "source_latent.obs[\"gender\"] = adata_oligo.obs[\"gender\"].tolist()\n",
    "source_latent.obs[\"age\"] = adata_oligo.obs[\"age\"].tolist()\n",
    "source_latent.obs[\"instrument\"] = adata_oligo.obs[\"instrument\"].tolist()\n",
    "source_latent.obs[\"technology\"] = adata_oligo.obs[\"technology\"].tolist()\n",
    "source_latent.obs[\"donor\"] = adata_oligo.obs[\"donor\"].tolist()\n",
    "source_latent.obs[\"cell_type_lowest_res\"] = adata_oligo.obs[\"cell_type_lowest_res\"].tolist()\n",
    "source_latent.obs[\"cell_type_low_res\"] = adata_oligo.obs[\"cell_type_low_res\"].tolist()\n",
    "source_latent.obs[\"cell_type_med_res\"] = adata_oligo.obs[\"cell_type_med_res\"].tolist()\n",
    "source_latent.obs[\"cell_type_high_res\"] = adata_oligo.obs[\"cell_type_high_res\"].tolist()\n",
    "\n",
    "source_latent=source_latent[source_latent.obs['cell_type_lowest_res'].isin(['ODC-agarwal',\n",
    " 'OLIGO-siletti',\n",
    " 'OLIGO-welch',\n",
    " 'Oligodendrocyte-altena',\n",
    " 'Oligodendrocytes-smajic'])]\n",
    "\n",
    "\n",
    "source_latent.write('/home/hers_basak/jjiang/jack/outputs/deliverables/5_integration/data/scvi/models/scvi_model_final_oligo_all/latent_known.h5ad')"
   ]
  },
  {
   "cell_type": "code",
   "execution_count": 44,
   "id": "176c2b99",
   "metadata": {},
   "outputs": [],
   "source": [
    "celltypes=source_latent.obs['cell_type_high_res'].tolist()\n",
    "small_labels=list()\n",
    "\n",
    "for i in set(celltypes):\n",
    "    count = celltypes.count(i)\n",
    "    if count<=5:\n",
    "        small_labels.append(i)"
   ]
  },
  {
   "cell_type": "code",
   "execution_count": 45,
   "id": "0b9e8329",
   "metadata": {},
   "outputs": [],
   "source": [
    "a_small=source_latent[~source_latent.obs['cell_type_high_res'].isin(small_labels)]\n",
    "\n",
    "a_small.write('/home/hers_basak/jjiang/jack/outputs/deliverables/5_integration/data/scvi/models/scvi_model_final_oligo_all/latent_known_high5.h5ad')"
   ]
  }
 ],
 "metadata": {
  "kernelspec": {
   "display_name": "Python 3 (ipykernel)",
   "language": "python",
   "name": "python3"
  },
  "language_info": {
   "codemirror_mode": {
    "name": "ipython",
    "version": 3
   },
   "file_extension": ".py",
   "mimetype": "text/x-python",
   "name": "python",
   "nbconvert_exporter": "python",
   "pygments_lexer": "ipython3",
   "version": "3.12.1"
  }
 },
 "nbformat": 4,
 "nbformat_minor": 5
}
